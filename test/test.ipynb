{
 "cells": [
  {
   "cell_type": "code",
   "execution_count": 2,
   "metadata": {
    "ExecuteTime": {
     "end_time": "2020-05-05T00:10:41.929670Z",
     "start_time": "2020-05-05T00:10:41.760105Z"
    }
   },
   "outputs": [],
   "source": [
    "%load_ext autoreload\n",
    "\n",
    "import numpy as np\n",
    "%aimport tafra\n",
    "from tafra import Tafra\n",
    "\n",
    "%autoreload 2"
   ]
  },
  {
   "cell_type": "code",
   "execution_count": 4,
   "metadata": {
    "ExecuteTime": {
     "end_time": "2020-05-05T00:10:41.979548Z",
     "start_time": "2020-05-05T00:10:41.930664Z"
    },
    "scrolled": false
   },
   "outputs": [
    {
     "name": "stdout",
     "output_type": "stream",
     "text": [
      "List:\n",
      " [array([1, 2, 3, 4, 5, 6]), array(['one', 'two', 'one', 'two', 'one', 'two'], dtype=object), array([0, 0, 0, 1, 1, 1])]\n",
      "Record:\n",
      " ((1, 'one', 0), (2, 'two', 0), (3, 'one', 0), (4, 'two', 1), (5, 'one', 1), (6, 'two', 1))\n",
      "\n",
      "Group By:\n",
      " Tafra(_data={'y': array(['one', 'two', 'two', 'one'], dtype=object), 'z': array([0, 0, 1, 1]), 'x': array([ 4,  2, 10,  5]), 'count': array([2, 1, 2, 1])}, _dtypes={'y': 'object', 'z': 'int', 'x': 'int', 'count': 'int'})\n",
      "\n",
      "Transform:\n",
      " Tafra(_data={'y': array(['one', 'two', 'one', 'two', 'one', 'two'], dtype=object), 'z': array([0, 0, 0, 1, 1, 1]), 'x': array([ 4,  2,  4, 10,  5, 10]), 'id': array([0, 1, 0, 2, 3, 2])}, _dtypes={'y': 'object', 'z': 'int', 'x': 'int', 'id': 'int'})\n",
      "\n",
      "Transformed without magic:\n",
      " Tafra(_data={'x': array([ 4,  2,  4, 10,  5, 10]), 'y': array(['one', 'two', 'one', 'two', 'one', 'two'], dtype=object), 'z': array([0, 0, 0, 1, 1, 1])}, _dtypes={'x': 'int', 'y': 'object', 'z': 'int'})\n",
      "\n",
      "Iterate By:\t\n",
      "Tafra(_data={'x': array([1, 3, 5]), 'y': array(['one', 'one', 'one'], dtype=object), 'z': array([0, 0, 1])}, _dtypes={'x': 'int', 'y': 'object', 'z': 'int'})\n",
      "Tafra(_data={'x': array([2, 4, 6]), 'y': array(['two', 'two', 'two'], dtype=object), 'z': array([0, 1, 1])}, _dtypes={'x': 'int', 'y': 'object', 'z': 'int'})\n",
      "\n",
      "Group By in Iterate By:\t\n",
      "Tafra(_data={'z': array([0, 1]), 'x': array([4, 5])}, _dtypes={'z': 'int', 'x': 'int'})\n",
      "Tafra(_data={'z': array([0, 1]), 'x': array([ 2, 10])}, _dtypes={'z': 'int', 'x': 'int'})\n"
     ]
    }
   ],
   "source": [
    "t = Tafra({\n",
    "    'x': np.array([1, 2, 3, 4, 5, 6]),\n",
    "    'y': np.array(['one', 'two', 'one', 'two', 'one', 'two'], dtype='object'),\n",
    "    'z': np.array([0, 0, 0, 1, 1, 1])\n",
    "})\n",
    "print('List:\\n', t.to_list())\n",
    "print('Record:\\n', tuple(t.to_records()))\n",
    "\n",
    "\n",
    "gb = t.group_by(\n",
    "    ['y', 'z'], {'x': sum}, {'count': len}\n",
    ")\n",
    "print('\\nGroup By:\\n', gb)\n",
    "\n",
    "\n",
    "tr = t.transform(\n",
    "    ['y', 'z'], {'x': sum}, {'id': max}\n",
    ")\n",
    "print('\\nTransform:\\n', tr)\n",
    "\n",
    "\n",
    "# tr = t.transform(\n",
    "#     ['y', 'z'], {'x': sum, 'id': (max, '__id__')}\n",
    "# )\n",
    "# print('\\nTransform with \"magic\" enumerator:\\n', tr)\n",
    "\n",
    "# can't do ^ that without magic __id__, but can do it as:\n",
    "t2 = t.copy()\n",
    "t2.id = np.empty_like(t2.x)\n",
    "for i, (u, ix, grouped) in enumerate(t.iterate_by(['y', 'z'])):\n",
    "    t2.x[ix] = sum(grouped.x)\n",
    "    t2.id[ix] = i\n",
    "print('\\nTransformed without magic:\\n', t2)\n",
    "\n",
    "\n",
    "# can't do ^ that without magic __id__, but can do it as:\n",
    "t2 = t.copy()\n",
    "t2.id = np.empty_like(t2.x)\n",
    "for i, (u, ix, grouped) in enumerate(t.iterate_by(['x', 'y'])):\n",
    "    t2.x[ix] = sum(grouped.x)\n",
    "    t2.id[ix] = i\n",
    "print('\\nTransformed without magic:\\n', t2)\n",
    "    \n",
    "print('\\nIterate By:\\t')\n",
    "for u, ix, grouped in t.iterate_by(['y']):\n",
    "    print(grouped)\n",
    "\n",
    "\n",
    "print('\\nGroup By in Iterate By:\\t')\n",
    "for u, ix, grouped in t.iterate_by(['y']):\n",
    "    print(grouped.group_by(['z'], {'x': sum}))"
   ]
  },
  {
   "cell_type": "code",
   "execution_count": 3,
   "metadata": {
    "ExecuteTime": {
     "end_time": "2020-05-05T00:10:42.020943Z",
     "start_time": "2020-05-05T00:10:41.980545Z"
    }
   },
   "outputs": [
    {
     "name": "stdout",
     "output_type": "stream",
     "text": [
      "\n",
      "Enumeator Use in Iterate By:\n",
      "Tafra(_data={'x': array([-2, -2,  0,  0,  2,  2]), 'y': array(['one', 'two', 'one', 'two', 'one', 'two'], dtype=object), 'z': array([0, 0, 0, 1, 1, 1]), 'id': array([0, 1, 0, 1, 0, 1])}, _dtypes={'x': 'int', 'y': 'object', 'z': 'int', 'id': 'int'})\n"
     ]
    }
   ],
   "source": [
    "_t = t.copy()\n",
    "_t.update(_t.transform(['y'], {}, {'id': max}))\n",
    "\n",
    "for u, ix, it in t.iterate_by(['y']):\n",
    "    _t['x'][ix] = it['x'] - np.mean(it['x'])\n",
    "\n",
    "print('\\nIndex Use in Iterate By:')\n",
    "print(_t)"
   ]
  },
  {
   "cell_type": "code",
   "execution_count": 6,
   "metadata": {
    "ExecuteTime": {
     "end_time": "2020-05-05T00:10:42.064826Z",
     "start_time": "2020-05-05T00:10:42.021941Z"
    }
   },
   "outputs": [
    {
     "name": "stdout",
     "output_type": "stream",
     "text": [
      "\n",
      "Group By in Iterate By:\t\n",
      "Tafra(_data={'x': array([9, 3, 5]), 'y': array(['one', 'one', 'one'], dtype=object), 'z': array([0, 0, 1])}, _dtypes={'x': 'int', 'y': 'object', 'z': 'int'})\n",
      "Tafra(_data={'x': array([9, 4, 6]), 'y': array(['two', 'two', 'two'], dtype=object), 'z': array([0, 1, 1])}, _dtypes={'x': 'int', 'y': 'object', 'z': 'int'})\n",
      "\n",
      "Tafra(_data={'x': array([1, 2, 3, 4, 5, 6]), 'y': array(['one', 'two', 'one', 'two', 'one', 'two'], dtype=object), 'z': array([0, 0, 0, 1, 1, 1])}, _dtypes={'x': 'int', 'y': 'object', 'z': 'int'})\n"
     ]
    }
   ],
   "source": [
    "print('\\nGroup By in Iterate By:\\t')\n",
    "for u, ix, it in t.iterate_by(['y']):\n",
    "    it['x'][0] = 9\n",
    "    print(it)\n",
    "\n",
    "print()\n",
    "print(t)"
   ]
  },
  {
   "cell_type": "code",
   "execution_count": 7,
   "metadata": {
    "ExecuteTime": {
     "end_time": "2020-05-05T00:10:42.104720Z",
     "start_time": "2020-05-05T00:10:42.065824Z"
    }
   },
   "outputs": [
    {
     "name": "stdout",
     "output_type": "stream",
     "text": [
      "This `Tafra` column count does not match other `Tafra` column count.\n"
     ]
    }
   ],
   "source": [
    "try:\n",
    "    t.union(_t)\n",
    "except Exception as e:\n",
    "    print(e)"
   ]
  },
  {
   "cell_type": "code",
   "execution_count": 6,
   "metadata": {
    "ExecuteTime": {
     "end_time": "2020-05-05T00:10:42.150384Z",
     "start_time": "2020-05-05T00:10:42.105719Z"
    }
   },
   "outputs": [],
   "source": [
    "t2 = t.copy()\n",
    "t3 = t.copy()\n",
    "t3.update_types({'x': float})"
   ]
  },
  {
   "cell_type": "code",
   "execution_count": 7,
   "metadata": {
    "ExecuteTime": {
     "end_time": "2020-05-05T00:10:42.196250Z",
     "start_time": "2020-05-05T00:10:42.152334Z"
    }
   },
   "outputs": [
    {
     "data": {
      "text/plain": [
       "Tafra(_data={'x': array([1, 2, 3, 4, 5, 6, 1, 2, 3, 4, 5, 6]), 'y': array(['one', 'two', 'one', 'two', 'one', 'two', 'one', 'two', 'one',\n",
       "       'two', 'one', 'two'], dtype=object), 'z': array([0, 0, 0, 1, 1, 1, 0, 0, 0, 1, 1, 1])}, _dtypes={'x': 'int', 'y': 'object', 'z': 'int'})"
      ]
     },
     "execution_count": 7,
     "metadata": {},
     "output_type": "execute_result"
    }
   ],
   "source": [
    "t.union(t2)"
   ]
  },
  {
   "cell_type": "code",
   "execution_count": 8,
   "metadata": {
    "ExecuteTime": {
     "end_time": "2020-05-05T00:10:42.236110Z",
     "start_time": "2020-05-05T00:10:42.197213Z"
    }
   },
   "outputs": [
    {
     "name": "stdout",
     "output_type": "stream",
     "text": [
      "This `Tafra` column `x` dtype `int` does not match other `Tafra` dtype `float`.\n"
     ]
    }
   ],
   "source": [
    "try:\n",
    "    t.union(t3)\n",
    "except Exception as e:\n",
    "    print(e)"
   ]
  },
  {
   "cell_type": "code",
   "execution_count": 9,
   "metadata": {
    "ExecuteTime": {
     "end_time": "2020-05-05T00:10:42.279873Z",
     "start_time": "2020-05-05T00:10:42.237106Z"
    }
   },
   "outputs": [
    {
     "data": {
      "text/plain": [
       "Tafra(_data={'x': array([1, 2, 3, 4, 5, 6, 1, 2, 3, 4, 5, 6]), 'y': array(['one', 'two', 'one', 'two', 'one', 'two', 'one', 'two', 'one',\n",
       "       'two', 'one', 'two'], dtype=object), 'z': array([0, 0, 0, 1, 1, 1, 0, 0, 0, 1, 1, 1])}, _dtypes={'x': 'int', 'y': 'object', 'z': 'int'})"
      ]
     },
     "execution_count": 9,
     "metadata": {},
     "output_type": "execute_result"
    }
   ],
   "source": [
    "t3 = t.copy()\n",
    "t2.union(t3, inplace=True)\n",
    "t2"
   ]
  },
  {
   "cell_type": "code",
   "execution_count": 10,
   "metadata": {
    "ExecuteTime": {
     "end_time": "2020-05-05T00:10:42.320804Z",
     "start_time": "2020-05-05T00:10:42.280869Z"
    }
   },
   "outputs": [
    {
     "data": {
      "text/plain": [
       "array([0, 2, 3, 4, 5, 6])"
      ]
     },
     "execution_count": 10,
     "metadata": {},
     "output_type": "execute_result"
    }
   ],
   "source": [
    "x = t[:3]\n",
    "x['x'][0] = 0\n",
    "t['x']"
   ]
  },
  {
   "cell_type": "code",
   "execution_count": 11,
   "metadata": {
    "ExecuteTime": {
     "end_time": "2020-05-05T00:10:42.363689Z",
     "start_time": "2020-05-05T00:10:42.321761Z"
    }
   },
   "outputs": [
    {
     "data": {
      "text/plain": [
       "array([7, 2, 3, 4, 5, 6])"
      ]
     },
     "execution_count": 11,
     "metadata": {},
     "output_type": "execute_result"
    }
   ],
   "source": [
    "x = t[slice(0, 3)]\n",
    "x['x'][0] = 7\n",
    "t['x']"
   ]
  },
  {
   "cell_type": "code",
   "execution_count": 12,
   "metadata": {
    "ExecuteTime": {
     "end_time": "2020-05-05T00:10:42.404580Z",
     "start_time": "2020-05-05T00:10:42.364652Z"
    }
   },
   "outputs": [
    {
     "data": {
      "text/plain": [
       "array([7, 2, 3, 4, 5, 6])"
      ]
     },
     "execution_count": 12,
     "metadata": {},
     "output_type": "execute_result"
    }
   ],
   "source": [
    "z = t[:3].copy()\n",
    "z['x'][0] = 9\n",
    "t['x']"
   ]
  },
  {
   "cell_type": "code",
   "execution_count": 13,
   "metadata": {
    "ExecuteTime": {
     "end_time": "2020-05-05T00:10:42.446748Z",
     "start_time": "2020-05-05T00:10:42.405543Z"
    }
   },
   "outputs": [
    {
     "name": "stdout",
     "output_type": "stream",
     "text": [
      "[ 2 15  4]\n",
      "[7 2 3 4 5 6]\n"
     ]
    }
   ],
   "source": [
    "a = t[t['x'] <= 4]\n",
    "a['x'][1] = 15\n",
    "print(a['x'])\n",
    "print(t['x'])"
   ]
  },
  {
   "cell_type": "code",
   "execution_count": 14,
   "metadata": {
    "ExecuteTime": {
     "end_time": "2020-05-05T00:10:42.487633Z",
     "start_time": "2020-05-05T00:10:42.447713Z"
    }
   },
   "outputs": [],
   "source": [
    "t.update_types({'x': float})"
   ]
  },
  {
   "cell_type": "code",
   "execution_count": 15,
   "metadata": {
    "ExecuteTime": {
     "end_time": "2020-05-05T00:10:42.548444Z",
     "start_time": "2020-05-05T00:10:42.492594Z"
    }
   },
   "outputs": [],
   "source": [
    "t.update_types({'x': 'float'})"
   ]
  },
  {
   "cell_type": "code",
   "execution_count": 16,
   "metadata": {
    "ExecuteTime": {
     "end_time": "2020-05-05T00:10:42.592326Z",
     "start_time": "2020-05-05T00:10:42.549442Z"
    }
   },
   "outputs": [
    {
     "name": "stdout",
     "output_type": "stream",
     "text": [
      "`flot` is not a valid dtype for `x.`\n",
      "`st` is not a valid dtype for `y.`\n",
      "\n"
     ]
    }
   ],
   "source": [
    "try:\n",
    "    t.update_types({'x': 'flot', 'y': 'st'})\n",
    "except Exception as e:\n",
    "    print(e)"
   ]
  },
  {
   "cell_type": "code",
   "execution_count": 17,
   "metadata": {
    "ExecuteTime": {
     "end_time": "2020-05-05T00:10:42.634385Z",
     "start_time": "2020-05-05T00:10:42.593323Z"
    }
   },
   "outputs": [
    {
     "data": {
      "text/plain": [
       "Tafra(_data={'x': array([7, 2, 3, 4, 5, 6]), 'y': array(['one', 'two', 'one', 'two', 'one', 'two'], dtype=object), 'z': array([0, 0, 0, 1, 1, 1])}, _dtypes={'x': 'int', 'y': 'object', 'z': 'int'})"
      ]
     },
     "execution_count": 17,
     "metadata": {},
     "output_type": "execute_result"
    }
   ],
   "source": [
    "t.update_types({'x': int})\n",
    "o = t.copy()\n",
    "t.update(o)\n",
    "t"
   ]
  },
  {
   "cell_type": "code",
   "execution_count": 18,
   "metadata": {
    "ExecuteTime": {
     "end_time": "2020-05-05T00:10:42.676265Z",
     "start_time": "2020-05-05T00:10:42.635349Z"
    }
   },
   "outputs": [
    {
     "data": {
      "text/plain": [
       "Tafra(_data={'x': array([7., 2., 3., 4., 5., 6.]), 'y': array(['one', 'two', 'one', 'two', 'one', 'two'], dtype=object), 'z': array([0, 0, 0, 1, 1, 1])}, _dtypes={'x': 'float', 'y': 'object', 'z': 'int'})"
      ]
     },
     "execution_count": 18,
     "metadata": {},
     "output_type": "execute_result"
    }
   ],
   "source": [
    "o.update_types({'x': float})\n",
    "t.update(o)\n",
    "t"
   ]
  },
  {
   "cell_type": "code",
   "execution_count": 19,
   "metadata": {
    "ExecuteTime": {
     "end_time": "2020-05-05T00:10:42.722711Z",
     "start_time": "2020-05-05T00:10:42.677237Z"
    }
   },
   "outputs": [
    {
     "data": {
      "text/plain": [
       "Tafra(_data={'x': array([0, 1, 2, 3, 4]), 'y': array(['one', 'two', 'one', 'two', 'one', 'two'], dtype=object), 'z': array([0, 0, 0, 1, 1, 1])}, _dtypes={'x': 'float', 'y': 'object', 'z': 'int'})"
      ]
     },
     "execution_count": 19,
     "metadata": {},
     "output_type": "execute_result"
    }
   ],
   "source": [
    "o._data['x'] = np.arange(5)\n",
    "o"
   ]
  },
  {
   "cell_type": "code",
   "execution_count": 20,
   "metadata": {
    "ExecuteTime": {
     "end_time": "2020-05-05T00:10:42.769532Z",
     "start_time": "2020-05-05T00:10:42.724652Z"
    }
   },
   "outputs": [
    {
     "name": "stdout",
     "output_type": "stream",
     "text": [
      "Other `Tafra` must have consistent row count. This `Tafra` has 6 rows, other `Tafra` has 5 rows.\n"
     ]
    },
    {
     "data": {
      "text/plain": [
       "Tafra(_data={'x': array([7., 2., 3., 4., 5., 6.]), 'y': array(['one', 'two', 'one', 'two', 'one', 'two'], dtype=object), 'z': array([0, 0, 0, 1, 1, 1])}, _dtypes={'x': 'float', 'y': 'object', 'z': 'int'})"
      ]
     },
     "execution_count": 20,
     "metadata": {},
     "output_type": "execute_result"
    }
   ],
   "source": [
    "try:\n",
    "    t.update(o)\n",
    "except Exception as e:\n",
    "    print(e)\n",
    "t"
   ]
  },
  {
   "cell_type": "code",
   "execution_count": 21,
   "metadata": {
    "ExecuteTime": {
     "end_time": "2020-05-05T00:10:42.813921Z",
     "start_time": "2020-05-05T00:10:42.770529Z"
    }
   },
   "outputs": [
    {
     "data": {
      "text/plain": [
       "Tafra(_data={'x': array([0, 1, 2, 3, 4, 5]), 'y': array(['one', 'two', 'one', 'two', 'one', 'two'], dtype=object), 'z': array([0, 0, 0, 1, 1, 1])}, _dtypes={'x': 'int', 'y': 'object', 'z': 'int'})"
      ]
     },
     "execution_count": 21,
     "metadata": {},
     "output_type": "execute_result"
    }
   ],
   "source": [
    "try:\n",
    "    t['x'] = list(range(6))\n",
    "except Exception as e:\n",
    "    print(e)\n",
    "t"
   ]
  },
  {
   "cell_type": "code",
   "execution_count": 22,
   "metadata": {
    "ExecuteTime": {
     "end_time": "2020-05-05T00:10:42.855809Z",
     "start_time": "2020-05-05T00:10:42.817912Z"
    }
   },
   "outputs": [
    {
     "name": "stderr",
     "output_type": "stream",
     "text": [
      "c:\\users\\dfulford\\projects\\tafra\\tafra.py:168: UserWarning: `np.squeeze(ndarray)` applied to set ndim == 1.\n",
      "  warnings.warn('`np.squeeze(ndarray)` applied to set ndim == 1.')\n"
     ]
    }
   ],
   "source": [
    "t['x'] = np.arange(6)[:, None]"
   ]
  },
  {
   "cell_type": "code",
   "execution_count": 23,
   "metadata": {
    "ExecuteTime": {
     "end_time": "2020-05-05T00:10:42.905676Z",
     "start_time": "2020-05-05T00:10:42.858801Z"
    }
   },
   "outputs": [
    {
     "name": "stderr",
     "output_type": "stream",
     "text": [
      "c:\\users\\dfulford\\projects\\tafra\\tafra.py:168: UserWarning: `np.squeeze(ndarray)` applied to set ndim == 1.\n",
      "  warnings.warn('`np.squeeze(ndarray)` applied to set ndim == 1.')\n"
     ]
    },
    {
     "data": {
      "text/plain": [
       "Tafra(_data={'x': array([0, 1, 2, 3, 4, 5]), 'y': array(['one', 'two', 'one', 'two', 'one', 'two'], dtype=object), 'z': array([0, 0, 0, 1, 1, 1])}, _dtypes={'x': 'int', 'y': 'object', 'z': 'int'})"
      ]
     },
     "execution_count": 23,
     "metadata": {},
     "output_type": "execute_result"
    }
   ],
   "source": [
    "try:\n",
    "    t['x'] = np.atleast_2d(np.arange(6))\n",
    "except Exception as e:\n",
    "    print(e)\n",
    "t"
   ]
  },
  {
   "cell_type": "code",
   "execution_count": 24,
   "metadata": {
    "ExecuteTime": {
     "end_time": "2020-05-05T00:10:42.953548Z",
     "start_time": "2020-05-05T00:10:42.907671Z"
    }
   },
   "outputs": [
    {
     "name": "stderr",
     "output_type": "stream",
     "text": [
      "c:\\users\\dfulford\\projects\\tafra\\tafra.py:168: UserWarning: `np.squeeze(ndarray)` applied to set ndim == 1.\n",
      "  warnings.warn('`np.squeeze(ndarray)` applied to set ndim == 1.')\n"
     ]
    },
    {
     "data": {
      "text/plain": [
       "Tafra(_data={'x': array([0, 1, 2, 3, 4, 5]), 'y': array(['one', 'two', 'one', 'two', 'one', 'two'], dtype=object), 'z': array([0, 0, 0, 1, 1, 1])}, _dtypes={'x': 'int', 'y': 'object', 'z': 'int'})"
      ]
     },
     "execution_count": 24,
     "metadata": {},
     "output_type": "execute_result"
    }
   ],
   "source": [
    "t['x'] = np.atleast_2d(np.arange(6)).T\n",
    "t"
   ]
  },
  {
   "cell_type": "code",
   "execution_count": 25,
   "metadata": {
    "ExecuteTime": {
     "end_time": "2020-05-05T00:10:42.996946Z",
     "start_time": "2020-05-05T00:10:42.954545Z"
    }
   },
   "outputs": [
    {
     "name": "stderr",
     "output_type": "stream",
     "text": [
      "c:\\users\\dfulford\\projects\\tafra\\tafra.py:168: UserWarning: `np.squeeze(ndarray)` applied to set ndim == 1.\n",
      "  warnings.warn('`np.squeeze(ndarray)` applied to set ndim == 1.')\n"
     ]
    }
   ],
   "source": [
    "try:\n",
    "    t['x'] = np.atleast_2d(np.arange(6))\n",
    "except Exception as e:\n",
    "    print(e)"
   ]
  },
  {
   "cell_type": "code",
   "execution_count": 26,
   "metadata": {
    "ExecuteTime": {
     "end_time": "2020-05-05T00:10:43.038866Z",
     "start_time": "2020-05-05T00:10:42.997943Z"
    }
   },
   "outputs": [
    {
     "name": "stdout",
     "output_type": "stream",
     "text": [
      "`ndarray` or `np.squeeze(ndarray)` must have ndim == 1.\n"
     ]
    }
   ],
   "source": [
    "try:\n",
    "    t['x'] = np.repeat(np.arange(6)[:, None], repeats=2, axis=1)\n",
    "except Exception as e:\n",
    "    print(e)"
   ]
  },
  {
   "cell_type": "code",
   "execution_count": 27,
   "metadata": {
    "ExecuteTime": {
     "end_time": "2020-05-05T00:10:43.082881Z",
     "start_time": "2020-05-05T00:10:43.039833Z"
    }
   },
   "outputs": [],
   "source": [
    "t['d'] = np.array([np.datetime64(_, 'D') for _ in range(6)])"
   ]
  },
  {
   "cell_type": "code",
   "execution_count": 28,
   "metadata": {
    "ExecuteTime": {
     "end_time": "2020-05-05T00:10:43.124605Z",
     "start_time": "2020-05-05T00:10:43.083714Z"
    }
   },
   "outputs": [
    {
     "data": {
      "text/plain": [
       "Tafra(_data={'x': array([0, 1, 2, 3, 4, 5]), 'y': array(['one', 'two', 'one', 'two', 'one', 'two'], dtype=object), 'z': array([0, 0, 0, 1, 1, 1]), 'd': array(['1970-01-01', '1970-01-02', '1970-01-03', '1970-01-04',\n",
       "       '1970-01-05', '1970-01-06'], dtype='datetime64[D]')}, _dtypes={'x': 'int', 'y': 'object', 'z': 'int', 'd': 'date'})"
      ]
     },
     "execution_count": 28,
     "metadata": {},
     "output_type": "execute_result"
    }
   ],
   "source": [
    "t"
   ]
  },
  {
   "cell_type": "code",
   "execution_count": 29,
   "metadata": {
    "ExecuteTime": {
     "end_time": "2020-05-05T00:10:43.164524Z",
     "start_time": "2020-05-05T00:10:43.125602Z"
    }
   },
   "outputs": [
    {
     "data": {
      "text/plain": [
       "((0, 'one', 0, '1970-01-01'),\n",
       " (1, 'two', 0, '1970-01-02'),\n",
       " (2, 'one', 0, '1970-01-03'),\n",
       " (3, 'two', 1, '1970-01-04'),\n",
       " (4, 'one', 1, '1970-01-05'),\n",
       " (5, 'two', 1, '1970-01-06'))"
      ]
     },
     "execution_count": 29,
     "metadata": {},
     "output_type": "execute_result"
    }
   ],
   "source": [
    "tuple(t.to_records())"
   ]
  },
  {
   "cell_type": "code",
   "execution_count": 30,
   "metadata": {
    "ExecuteTime": {
     "end_time": "2020-05-05T00:10:43.203419Z",
     "start_time": "2020-05-05T00:10:43.165495Z"
    }
   },
   "outputs": [
    {
     "data": {
      "text/plain": [
       "[array([0, 1, 2, 3, 4, 5]),\n",
       " array(['one', 'two', 'one', 'two', 'one', 'two'], dtype=object),\n",
       " array([0, 0, 0, 1, 1, 1]),\n",
       " array(['1970-01-01', '1970-01-02', '1970-01-03', '1970-01-04',\n",
       "        '1970-01-05', '1970-01-06'], dtype='datetime64[D]')]"
      ]
     },
     "execution_count": 30,
     "metadata": {},
     "output_type": "execute_result"
    }
   ],
   "source": [
    "t.to_list()"
   ]
  },
  {
   "cell_type": "code",
   "execution_count": null,
   "metadata": {},
   "outputs": [],
   "source": []
  }
 ],
 "metadata": {
  "kernelspec": {
   "display_name": "Python 3",
   "language": "python",
   "name": "python3"
  },
  "language_info": {
   "codemirror_mode": {
    "name": "ipython",
    "version": 3
   },
   "file_extension": ".py",
   "mimetype": "text/x-python",
   "name": "python",
   "nbconvert_exporter": "python",
   "pygments_lexer": "ipython3",
   "version": "3.7.4"
  },
  "varInspector": {
   "cols": {
    "lenName": 16,
    "lenType": 16,
    "lenVar": 40
   },
   "kernels_config": {
    "python": {
     "delete_cmd_postfix": "",
     "delete_cmd_prefix": "del ",
     "library": "var_list.py",
     "varRefreshCmd": "print(var_dic_list())"
    },
    "r": {
     "delete_cmd_postfix": ") ",
     "delete_cmd_prefix": "rm(",
     "library": "var_list.r",
     "varRefreshCmd": "cat(var_dic_list()) "
    }
   },
   "types_to_exclude": [
    "module",
    "function",
    "builtin_function_or_method",
    "instance",
    "_Feature"
   ],
   "window_display": false
  }
 },
 "nbformat": 4,
 "nbformat_minor": 4
}
