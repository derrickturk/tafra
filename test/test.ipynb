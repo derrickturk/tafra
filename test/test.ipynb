{
 "cells": [
  {
   "cell_type": "code",
   "execution_count": 1,
   "metadata": {
    "ExecuteTime": {
     "end_time": "2020-05-30T23:32:54.429761Z",
     "start_time": "2020-05-30T23:32:54.302593Z"
    },
    "scrolled": false
   },
   "outputs": [],
   "source": [
    "# %load_ext autoreload\n",
    "\n",
    "import numpy as np\n",
    "from tafra import Tafra\n",
    "import pprint as _pprint\n",
    "pprint = _pprint.PrettyPrinter(indent=1).pprint\n",
    "\n",
    "# %autoreload 2"
   ]
  },
  {
   "cell_type": "code",
   "execution_count": 56,
   "metadata": {
    "ExecuteTime": {
     "end_time": "2020-05-30T23:48:09.955958Z",
     "start_time": "2020-05-30T23:48:09.948940Z"
    },
    "scrolled": false
   },
   "outputs": [
    {
     "data": {
      "text/html": [
       "<table>\n",
       "<thead>\n",
       "<tr>\n",
       "<th></th>\n",
       "<th>x</th>\n",
       "<th>y</th>\n",
       "<th>z</th>\n",
       "</tr>\n",
       "</thead>\n",
       "<tbody>\n",
       "<tr>\n",
       "<td></td>\n",
       "<td>int</td>\n",
       "<td>object</td>\n",
       "<td>int</td>\n",
       "</tr>\n",
       "<tr>\n",
       "<td>0</td>\n",
       "<td>1</td>\n",
       "<td>one</td>\n",
       "<td>0</td>\n",
       "</tr>\n",
       "<tr>\n",
       "<td>1</td>\n",
       "<td>2</td>\n",
       "<td>two</td>\n",
       "<td>0</td>\n",
       "</tr>\n",
       "<tr>\n",
       "<td>2</td>\n",
       "<td>3</td>\n",
       "<td>one</td>\n",
       "<td>0</td>\n",
       "</tr>\n",
       "<tr>\n",
       "<td>3</td>\n",
       "<td>4</td>\n",
       "<td>two</td>\n",
       "<td>1</td>\n",
       "</tr>\n",
       "<tr>\n",
       "<td>4</td>\n",
       "<td>5</td>\n",
       "<td>one</td>\n",
       "<td>1</td>\n",
       "</tr>\n",
       "<tr>\n",
       "<td>5</td>\n",
       "<td>6</td>\n",
       "<td>two</td>\n",
       "<td>1</td>\n",
       "</tr>\n",
       "</tbody>\n",
       "</table>"
      ],
      "text/plain": [
       "Tafra(\n",
       "data = {\n",
       "  'x': array([1, 2, 3, 4, 5, 6]),\n",
       " 'y': array(['one', 'two', 'one', 'two', 'one', 'two'], dtype=object),\n",
       " 'z': array([0, 0, 0, 1, 1, 1])},\n",
       "dtypes = {\n",
       "  'x': 'int', 'y': 'object', 'z': 'int'}\n",
       ")"
      ]
     },
     "execution_count": 56,
     "metadata": {},
     "output_type": "execute_result"
    }
   ],
   "source": [
    "t = Tafra({\n",
    "    'x': np.array([1, 2, 3, 4, 5, 6]),\n",
    "    'y': np.array(['one', 'two', 'one', 'two', 'one', 'two'], dtype='object'),\n",
    "    'z': np.array([0, 0, 0, 1, 1, 1])\n",
    "})\n",
    "\n",
    "t"
   ]
  },
  {
   "cell_type": "code",
   "execution_count": 3,
   "metadata": {
    "ExecuteTime": {
     "end_time": "2020-05-30T23:32:54.454695Z",
     "start_time": "2020-05-30T23:32:54.443725Z"
    }
   },
   "outputs": [
    {
     "name": "stdout",
     "output_type": "stream",
     "text": [
      "Tafra(\n",
      "data = {\n",
      "  'x': array([1, 2, 3, 4, 5, 6]),\n",
      " 'y': array(['one', 'two', 'one', 'two', 'one', 'two'], dtype=object),\n",
      " 'z': array([0, 0, 0, 1, 1, 1])},\n",
      "dtypes = {\n",
      "  'x': 'int', 'y': 'object', 'z': 'int'}\n",
      ")\n"
     ]
    }
   ],
   "source": [
    "t.pprint()"
   ]
  },
  {
   "cell_type": "code",
   "execution_count": 4,
   "metadata": {
    "ExecuteTime": {
     "end_time": "2020-05-30T23:32:54.463670Z",
     "start_time": "2020-05-30T23:32:54.456689Z"
    }
   },
   "outputs": [
    {
     "name": "stdout",
     "output_type": "stream",
     "text": [
      "List:\n",
      " [array([1, 2, 3, 4, 5, 6]), array(['one', 'two', 'one', 'two', 'one', 'two'], dtype=object), array([0, 0, 0, 1, 1, 1])]\n",
      "Record:\n",
      " ((1, 'one', 0), (2, 'two', 0), (3, 'one', 0), (4, 'two', 1), (5, 'one', 1), (6, 'two', 1))\n"
     ]
    }
   ],
   "source": [
    "print('List:\\n', t.to_list())\n",
    "print('Record:\\n', tuple(t.to_records()))"
   ]
  },
  {
   "cell_type": "code",
   "execution_count": 5,
   "metadata": {
    "ExecuteTime": {
     "end_time": "2020-05-30T23:32:54.473154Z",
     "start_time": "2020-05-30T23:32:54.465179Z"
    }
   },
   "outputs": [],
   "source": [
    "pformat = _pprint.PrettyPrinter(indent=2).pformat"
   ]
  },
  {
   "cell_type": "markdown",
   "metadata": {},
   "source": [
    "Group By"
   ]
  },
  {
   "cell_type": "code",
   "execution_count": 6,
   "metadata": {
    "ExecuteTime": {
     "end_time": "2020-05-30T23:32:54.485122Z",
     "start_time": "2020-05-30T23:32:54.474151Z"
    }
   },
   "outputs": [
    {
     "name": "stdout",
     "output_type": "stream",
     "text": [
      "Group By:\n"
     ]
    },
    {
     "data": {
      "text/html": [
       "<table>\n",
       "<thead>\n",
       "<tr>\n",
       "<th></th>\n",
       "<th>y</th>\n",
       "<th>z</th>\n",
       "<th>x</th>\n",
       "<th>count</th>\n",
       "</tr>\n",
       "</thead>\n",
       "<tbody>\n",
       "<tr>\n",
       "<td></td>\n",
       "<td>object</td>\n",
       "<td>int</td>\n",
       "<td>int</td>\n",
       "<td>int</td>\n",
       "</tr>\n",
       "<tr>\n",
       "<td>0</td>\n",
       "<td>one</td>\n",
       "<td>0</td>\n",
       "<td>4</td>\n",
       "<td>2</td>\n",
       "</tr>\n",
       "<tr>\n",
       "<td>1</td>\n",
       "<td>two</td>\n",
       "<td>0</td>\n",
       "<td>2</td>\n",
       "<td>1</td>\n",
       "</tr>\n",
       "<tr>\n",
       "<td>2</td>\n",
       "<td>two</td>\n",
       "<td>1</td>\n",
       "<td>10</td>\n",
       "<td>2</td>\n",
       "</tr>\n",
       "<tr>\n",
       "<td>3</td>\n",
       "<td>one</td>\n",
       "<td>1</td>\n",
       "<td>5</td>\n",
       "<td>1</td>\n",
       "</tr>\n",
       "</tbody>\n",
       "</table>"
      ],
      "text/plain": [
       "Tafra(\n",
       "data = {\n",
       "  'count': array([2, 1, 2, 1]),\n",
       " 'x': array([ 4,  2, 10,  5]),\n",
       " 'y': array(['one', 'two', 'two', 'one'], dtype=object),\n",
       " 'z': array([0, 0, 1, 1])},\n",
       "dtypes = {\n",
       "  'count': 'int', 'x': 'int', 'y': 'object', 'z': 'int'}\n",
       ")"
      ]
     },
     "execution_count": 6,
     "metadata": {},
     "output_type": "execute_result"
    }
   ],
   "source": [
    "gb = t.group_by(\n",
    "    ['y', 'z'], {'x': sum}, {'count': len}\n",
    ")\n",
    "print('Group By:')\n",
    "gb"
   ]
  },
  {
   "cell_type": "markdown",
   "metadata": {
    "ExecuteTime": {
     "end_time": "2020-05-30T20:45:08.352010Z",
     "start_time": "2020-05-30T20:45:08.309110Z"
    }
   },
   "source": [
    "Transform"
   ]
  },
  {
   "cell_type": "code",
   "execution_count": 7,
   "metadata": {
    "ExecuteTime": {
     "end_time": "2020-05-30T23:32:54.496093Z",
     "start_time": "2020-05-30T23:32:54.487117Z"
    }
   },
   "outputs": [
    {
     "name": "stdout",
     "output_type": "stream",
     "text": [
      "Transform:\n"
     ]
    },
    {
     "data": {
      "text/html": [
       "<table>\n",
       "<thead>\n",
       "<tr>\n",
       "<th></th>\n",
       "<th>y</th>\n",
       "<th>z</th>\n",
       "<th>x</th>\n",
       "<th>id</th>\n",
       "</tr>\n",
       "</thead>\n",
       "<tbody>\n",
       "<tr>\n",
       "<td></td>\n",
       "<td>object</td>\n",
       "<td>int</td>\n",
       "<td>int</td>\n",
       "<td>int</td>\n",
       "</tr>\n",
       "<tr>\n",
       "<td>0</td>\n",
       "<td>one</td>\n",
       "<td>0</td>\n",
       "<td>4</td>\n",
       "<td>0</td>\n",
       "</tr>\n",
       "<tr>\n",
       "<td>1</td>\n",
       "<td>two</td>\n",
       "<td>0</td>\n",
       "<td>2</td>\n",
       "<td>1</td>\n",
       "</tr>\n",
       "<tr>\n",
       "<td>2</td>\n",
       "<td>one</td>\n",
       "<td>0</td>\n",
       "<td>4</td>\n",
       "<td>0</td>\n",
       "</tr>\n",
       "<tr>\n",
       "<td>3</td>\n",
       "<td>two</td>\n",
       "<td>1</td>\n",
       "<td>10</td>\n",
       "<td>2</td>\n",
       "</tr>\n",
       "<tr>\n",
       "<td>4</td>\n",
       "<td>one</td>\n",
       "<td>1</td>\n",
       "<td>5</td>\n",
       "<td>3</td>\n",
       "</tr>\n",
       "<tr>\n",
       "<td>5</td>\n",
       "<td>two</td>\n",
       "<td>1</td>\n",
       "<td>10</td>\n",
       "<td>2</td>\n",
       "</tr>\n",
       "</tbody>\n",
       "</table>"
      ],
      "text/plain": [
       "Tafra(\n",
       "data = {\n",
       "  'id': array([0, 1, 0, 2, 3, 2]),\n",
       " 'x': array([ 4,  2,  4, 10,  5, 10]),\n",
       " 'y': array(['one', 'two', 'one', 'two', 'one', 'two'], dtype=object),\n",
       " 'z': array([0, 0, 0, 1, 1, 1])},\n",
       "dtypes = {\n",
       "  'id': 'int', 'x': 'int', 'y': 'object', 'z': 'int'}\n",
       ")"
      ]
     },
     "execution_count": 7,
     "metadata": {},
     "output_type": "execute_result"
    }
   ],
   "source": [
    "tr = t.transform(\n",
    "    ['y', 'z'], {'x': sum}, {'id': max}\n",
    ")\n",
    "print('Transform:')\n",
    "tr"
   ]
  },
  {
   "cell_type": "markdown",
   "metadata": {},
   "source": [
    "We can set an custom attribute, but it will no longer point to the `_data` item of the same name"
   ]
  },
  {
   "cell_type": "code",
   "execution_count": 8,
   "metadata": {
    "ExecuteTime": {
     "end_time": "2020-05-30T23:32:54.512065Z",
     "start_time": "2020-05-30T23:32:54.499085Z"
    }
   },
   "outputs": [
    {
     "name": "stdout",
     "output_type": "stream",
     "text": [
      "Transformed without magic:\n"
     ]
    },
    {
     "data": {
      "text/html": [
       "<table>\n",
       "<thead>\n",
       "<tr>\n",
       "<th></th>\n",
       "<th>x</th>\n",
       "<th>y</th>\n",
       "<th>z</th>\n",
       "<th>id</th>\n",
       "<th>attr_id</th>\n",
       "</tr>\n",
       "</thead>\n",
       "<tbody>\n",
       "<tr>\n",
       "<td></td>\n",
       "<td>int</td>\n",
       "<td>object</td>\n",
       "<td>int</td>\n",
       "<td>int</td>\n",
       "<td>int</td>\n",
       "</tr>\n",
       "<tr>\n",
       "<td>0</td>\n",
       "<td>4</td>\n",
       "<td>one</td>\n",
       "<td>0</td>\n",
       "<td>3</td>\n",
       "<td>2</td>\n",
       "</tr>\n",
       "<tr>\n",
       "<td>1</td>\n",
       "<td>2</td>\n",
       "<td>two</td>\n",
       "<td>0</td>\n",
       "<td>2</td>\n",
       "<td>1</td>\n",
       "</tr>\n",
       "<tr>\n",
       "<td>2</td>\n",
       "<td>4</td>\n",
       "<td>one</td>\n",
       "<td>0</td>\n",
       "<td>3</td>\n",
       "<td>2</td>\n",
       "</tr>\n",
       "<tr>\n",
       "<td>3</td>\n",
       "<td>10</td>\n",
       "<td>two</td>\n",
       "<td>1</td>\n",
       "<td>6</td>\n",
       "<td>2</td>\n",
       "</tr>\n",
       "<tr>\n",
       "<td>4</td>\n",
       "<td>5</td>\n",
       "<td>one</td>\n",
       "<td>1</td>\n",
       "<td>5</td>\n",
       "<td>1</td>\n",
       "</tr>\n",
       "<tr>\n",
       "<td>5</td>\n",
       "<td>10</td>\n",
       "<td>two</td>\n",
       "<td>1</td>\n",
       "<td>6</td>\n",
       "<td>2</td>\n",
       "</tr>\n",
       "</tbody>\n",
       "</table>"
      ],
      "text/plain": [
       "Tafra(\n",
       "data = {\n",
       "  'attr_id': array([2, 1, 2, 2, 1, 2]),\n",
       " 'id': array([3, 2, 3, 6, 5, 6]),\n",
       " 'x': array([ 4,  2,  4, 10,  5, 10]),\n",
       " 'y': array(['one', 'two', 'one', 'two', 'one', 'two'], dtype=object),\n",
       " 'z': array([0, 0, 0, 1, 1, 1])},\n",
       "dtypes = {\n",
       "  'attr_id': 'int', 'id': 'int', 'x': 'int', 'y': 'object', 'z': 'int'}\n",
       ")"
      ]
     },
     "execution_count": 8,
     "metadata": {},
     "output_type": "execute_result"
    }
   ],
   "source": [
    "t2 = t.copy()\n",
    "t2.id = np.empty_like(t2.x)\n",
    "t2['id'] = np.empty_like(t2.x)\n",
    "for i, (u, ix, grouped) in enumerate(t.iterate_by(['y', 'z'])):\n",
    "    t2.x[ix] = sum(grouped.x)\n",
    "    t2.id[ix] = len(grouped.x)\n",
    "    t2['id'][ix] = max(grouped.x)\n",
    "    \n",
    "t2['attr_id'] = t2.id\n",
    "print('Transformed without magic:')\n",
    "t2"
   ]
  },
  {
   "cell_type": "markdown",
   "metadata": {},
   "source": [
    "Iterate By"
   ]
  },
  {
   "cell_type": "code",
   "execution_count": 9,
   "metadata": {
    "ExecuteTime": {
     "end_time": "2020-05-30T23:32:54.525015Z",
     "start_time": "2020-05-30T23:32:54.514046Z"
    }
   },
   "outputs": [
    {
     "name": "stdout",
     "output_type": "stream",
     "text": [
      "Iterate By:\n"
     ]
    },
    {
     "data": {
      "text/html": [
       "<table>\n",
       "<thead>\n",
       "<tr>\n",
       "<th></th>\n",
       "<th>x</th>\n",
       "<th>y</th>\n",
       "<th>z</th>\n",
       "</tr>\n",
       "</thead>\n",
       "<tbody>\n",
       "<tr>\n",
       "<td></td>\n",
       "<td>int</td>\n",
       "<td>object</td>\n",
       "<td>int</td>\n",
       "</tr>\n",
       "<tr>\n",
       "<td>0</td>\n",
       "<td>1</td>\n",
       "<td>one</td>\n",
       "<td>0</td>\n",
       "</tr>\n",
       "<tr>\n",
       "<td>1</td>\n",
       "<td>3</td>\n",
       "<td>one</td>\n",
       "<td>0</td>\n",
       "</tr>\n",
       "<tr>\n",
       "<td>2</td>\n",
       "<td>5</td>\n",
       "<td>one</td>\n",
       "<td>1</td>\n",
       "</tr>\n",
       "</tbody>\n",
       "</table>"
      ],
      "text/plain": [
       "Tafra(\n",
       "data = {\n",
       "  'x': array([1, 3, 5]),\n",
       " 'y': array(['one', 'one', 'one'], dtype=object),\n",
       " 'z': array([0, 0, 1])},\n",
       "dtypes = {\n",
       "  'x': 'int', 'y': 'object', 'z': 'int'}\n",
       ")"
      ]
     },
     "metadata": {},
     "output_type": "display_data"
    },
    {
     "data": {
      "text/html": [
       "<table>\n",
       "<thead>\n",
       "<tr>\n",
       "<th></th>\n",
       "<th>x</th>\n",
       "<th>y</th>\n",
       "<th>z</th>\n",
       "</tr>\n",
       "</thead>\n",
       "<tbody>\n",
       "<tr>\n",
       "<td></td>\n",
       "<td>int</td>\n",
       "<td>object</td>\n",
       "<td>int</td>\n",
       "</tr>\n",
       "<tr>\n",
       "<td>0</td>\n",
       "<td>2</td>\n",
       "<td>two</td>\n",
       "<td>0</td>\n",
       "</tr>\n",
       "<tr>\n",
       "<td>1</td>\n",
       "<td>4</td>\n",
       "<td>two</td>\n",
       "<td>1</td>\n",
       "</tr>\n",
       "<tr>\n",
       "<td>2</td>\n",
       "<td>6</td>\n",
       "<td>two</td>\n",
       "<td>1</td>\n",
       "</tr>\n",
       "</tbody>\n",
       "</table>"
      ],
      "text/plain": [
       "Tafra(\n",
       "data = {\n",
       "  'x': array([2, 4, 6]),\n",
       " 'y': array(['two', 'two', 'two'], dtype=object),\n",
       " 'z': array([0, 1, 1])},\n",
       "dtypes = {\n",
       "  'x': 'int', 'y': 'object', 'z': 'int'}\n",
       ")"
      ]
     },
     "metadata": {},
     "output_type": "display_data"
    }
   ],
   "source": [
    "print('Iterate By:')\n",
    "for u, ix, grouped in t.iterate_by(['y']):\n",
    "    display(grouped)"
   ]
  },
  {
   "cell_type": "markdown",
   "metadata": {},
   "source": [
    "Group By in Interate By"
   ]
  },
  {
   "cell_type": "code",
   "execution_count": 10,
   "metadata": {
    "ExecuteTime": {
     "end_time": "2020-05-30T23:32:54.535986Z",
     "start_time": "2020-05-30T23:32:54.526012Z"
    },
    "scrolled": false
   },
   "outputs": [
    {
     "name": "stdout",
     "output_type": "stream",
     "text": [
      "Group By in Iterate By:\n"
     ]
    },
    {
     "data": {
      "text/html": [
       "<table>\n",
       "<thead>\n",
       "<tr>\n",
       "<th></th>\n",
       "<th>z</th>\n",
       "<th>x</th>\n",
       "</tr>\n",
       "</thead>\n",
       "<tbody>\n",
       "<tr>\n",
       "<td></td>\n",
       "<td>int</td>\n",
       "<td>int</td>\n",
       "</tr>\n",
       "<tr>\n",
       "<td>0</td>\n",
       "<td>0</td>\n",
       "<td>4</td>\n",
       "</tr>\n",
       "<tr>\n",
       "<td>1</td>\n",
       "<td>1</td>\n",
       "<td>5</td>\n",
       "</tr>\n",
       "</tbody>\n",
       "</table>"
      ],
      "text/plain": [
       "Tafra(\n",
       "data = {\n",
       "  'x': array([4, 5]), 'z': array([0, 1])},\n",
       "dtypes = {\n",
       "  'x': 'int', 'z': 'int'}\n",
       ")"
      ]
     },
     "metadata": {},
     "output_type": "display_data"
    },
    {
     "data": {
      "text/html": [
       "<table>\n",
       "<thead>\n",
       "<tr>\n",
       "<th></th>\n",
       "<th>z</th>\n",
       "<th>x</th>\n",
       "</tr>\n",
       "</thead>\n",
       "<tbody>\n",
       "<tr>\n",
       "<td></td>\n",
       "<td>int</td>\n",
       "<td>int</td>\n",
       "</tr>\n",
       "<tr>\n",
       "<td>0</td>\n",
       "<td>0</td>\n",
       "<td>2</td>\n",
       "</tr>\n",
       "<tr>\n",
       "<td>1</td>\n",
       "<td>1</td>\n",
       "<td>10</td>\n",
       "</tr>\n",
       "</tbody>\n",
       "</table>"
      ],
      "text/plain": [
       "Tafra(\n",
       "data = {\n",
       "  'x': array([ 2, 10]), 'z': array([0, 1])},\n",
       "dtypes = {\n",
       "  'x': 'int', 'z': 'int'}\n",
       ")"
      ]
     },
     "metadata": {},
     "output_type": "display_data"
    }
   ],
   "source": [
    "print('Group By in Iterate By:')\n",
    "for u, ix, grouped in t.iterate_by(['y']):\n",
    "    display(grouped.group_by(['z'], {'x': sum}))"
   ]
  },
  {
   "cell_type": "code",
   "execution_count": 11,
   "metadata": {
    "ExecuteTime": {
     "end_time": "2020-05-30T23:32:54.541971Z",
     "start_time": "2020-05-30T23:32:54.537981Z"
    }
   },
   "outputs": [],
   "source": [
    "from IPython.core.display import HTML"
   ]
  },
  {
   "cell_type": "code",
   "execution_count": 12,
   "metadata": {
    "ExecuteTime": {
     "end_time": "2020-05-30T23:32:54.554936Z",
     "start_time": "2020-05-30T23:32:54.542967Z"
    }
   },
   "outputs": [
    {
     "data": {
      "text/html": [
       "<table>\n",
       "<thead>\n",
       "<tr>\n",
       "<th></th>\n",
       "<th>x</th>\n",
       "<th>y</th>\n",
       "<th>z</th>\n",
       "</tr>\n",
       "</thead>\n",
       "<tbody>\n",
       "<tr>\n",
       "<td></td>\n",
       "<td>int</td>\n",
       "<td>object</td>\n",
       "<td>int</td>\n",
       "</tr>\n",
       "<tr>\n",
       "<td>0</td>\n",
       "<td>1</td>\n",
       "<td>one</td>\n",
       "<td>0</td>\n",
       "</tr>\n",
       "<tr>\n",
       "<td>1</td>\n",
       "<td>2</td>\n",
       "<td>two</td>\n",
       "<td>0</td>\n",
       "</tr>\n",
       "<tr>\n",
       "<td>2</td>\n",
       "<td>3</td>\n",
       "<td>one</td>\n",
       "<td>0</td>\n",
       "</tr>\n",
       "<tr>\n",
       "<td>3</td>\n",
       "<td>4</td>\n",
       "<td>two</td>\n",
       "<td>1</td>\n",
       "</tr>\n",
       "<tr>\n",
       "<td>4</td>\n",
       "<td>5</td>\n",
       "<td>one</td>\n",
       "<td>1</td>\n",
       "</tr>\n",
       "<tr>\n",
       "<td>5</td>\n",
       "<td>6</td>\n",
       "<td>two</td>\n",
       "<td>1</td>\n",
       "</tr>\n",
       "</tbody>\n",
       "</table>"
      ],
      "text/plain": [
       "<IPython.core.display.HTML object>"
      ]
     },
     "execution_count": 12,
     "metadata": {},
     "output_type": "execute_result"
    }
   ],
   "source": [
    "t = Tafra({\n",
    "    'x': np.array([1, 2, 3, 4, 5, 6]),\n",
    "    'y': np.array(['one', 'two', 'one', 'two', 'one', 'two'], dtype='object'),\n",
    "    'z': np.array([0, 0, 0, 1, 1, 1])\n",
    "})\n",
    "\n",
    "HTML(t.to_html())"
   ]
  },
  {
   "cell_type": "code",
   "execution_count": 13,
   "metadata": {
    "ExecuteTime": {
     "end_time": "2020-05-30T23:32:54.570405Z",
     "start_time": "2020-05-30T23:32:54.556931Z"
    }
   },
   "outputs": [
    {
     "name": "stdout",
     "output_type": "stream",
     "text": [
      "Index Use in Iterate By:\n"
     ]
    },
    {
     "data": {
      "text/html": [
       "<table>\n",
       "<thead>\n",
       "<tr>\n",
       "<th></th>\n",
       "<th>x</th>\n",
       "<th>y</th>\n",
       "<th>z</th>\n",
       "<th>id</th>\n",
       "</tr>\n",
       "</thead>\n",
       "<tbody>\n",
       "<tr>\n",
       "<td></td>\n",
       "<td>int</td>\n",
       "<td>object</td>\n",
       "<td>int</td>\n",
       "<td>int</td>\n",
       "</tr>\n",
       "<tr>\n",
       "<td>0</td>\n",
       "<td>-2</td>\n",
       "<td>one</td>\n",
       "<td>0</td>\n",
       "<td>0</td>\n",
       "</tr>\n",
       "<tr>\n",
       "<td>1</td>\n",
       "<td>-2</td>\n",
       "<td>two</td>\n",
       "<td>0</td>\n",
       "<td>1</td>\n",
       "</tr>\n",
       "<tr>\n",
       "<td>2</td>\n",
       "<td>0</td>\n",
       "<td>one</td>\n",
       "<td>0</td>\n",
       "<td>0</td>\n",
       "</tr>\n",
       "<tr>\n",
       "<td>3</td>\n",
       "<td>0</td>\n",
       "<td>two</td>\n",
       "<td>1</td>\n",
       "<td>1</td>\n",
       "</tr>\n",
       "<tr>\n",
       "<td>4</td>\n",
       "<td>2</td>\n",
       "<td>one</td>\n",
       "<td>1</td>\n",
       "<td>0</td>\n",
       "</tr>\n",
       "<tr>\n",
       "<td>5</td>\n",
       "<td>2</td>\n",
       "<td>two</td>\n",
       "<td>1</td>\n",
       "<td>1</td>\n",
       "</tr>\n",
       "</tbody>\n",
       "</table>"
      ],
      "text/plain": [
       "Tafra(\n",
       "data = {\n",
       "  'id': array([0, 1, 0, 1, 0, 1]),\n",
       " 'x': array([-2, -2,  0,  0,  2,  2]),\n",
       " 'y': array(['one', 'two', 'one', 'two', 'one', 'two'], dtype=object),\n",
       " 'z': array([0, 0, 0, 1, 1, 1])},\n",
       "dtypes = {\n",
       "  'id': 'int', 'x': 'int', 'y': 'object', 'z': 'int'}\n",
       ")"
      ]
     },
     "execution_count": 13,
     "metadata": {},
     "output_type": "execute_result"
    }
   ],
   "source": [
    "_t = t.copy()\n",
    "_t.update(_t.transform(['y'], {}, {'id': max}))\n",
    "\n",
    "for u, ix, it in t.iterate_by(['y']):\n",
    "    _t['x'][ix] = it['x'] - np.mean(it['x'])\n",
    "\n",
    "print('Index Use in Iterate By:')\n",
    "_t"
   ]
  },
  {
   "cell_type": "code",
   "execution_count": 14,
   "metadata": {
    "ExecuteTime": {
     "end_time": "2020-05-30T23:32:54.589355Z",
     "start_time": "2020-05-30T23:32:54.572400Z"
    }
   },
   "outputs": [
    {
     "name": "stdout",
     "output_type": "stream",
     "text": [
      "Group By in Iterate By:\n"
     ]
    },
    {
     "data": {
      "text/html": [
       "<table>\n",
       "<thead>\n",
       "<tr>\n",
       "<th></th>\n",
       "<th>x</th>\n",
       "<th>y</th>\n",
       "<th>z</th>\n",
       "</tr>\n",
       "</thead>\n",
       "<tbody>\n",
       "<tr>\n",
       "<td></td>\n",
       "<td>int</td>\n",
       "<td>object</td>\n",
       "<td>int</td>\n",
       "</tr>\n",
       "<tr>\n",
       "<td>0</td>\n",
       "<td>9</td>\n",
       "<td>one</td>\n",
       "<td>0</td>\n",
       "</tr>\n",
       "<tr>\n",
       "<td>1</td>\n",
       "<td>3</td>\n",
       "<td>one</td>\n",
       "<td>0</td>\n",
       "</tr>\n",
       "<tr>\n",
       "<td>2</td>\n",
       "<td>5</td>\n",
       "<td>one</td>\n",
       "<td>1</td>\n",
       "</tr>\n",
       "</tbody>\n",
       "</table>"
      ],
      "text/plain": [
       "Tafra(\n",
       "data = {\n",
       "  'x': array([9, 3, 5]),\n",
       " 'y': array(['one', 'one', 'one'], dtype=object),\n",
       " 'z': array([0, 0, 1])},\n",
       "dtypes = {\n",
       "  'x': 'int', 'y': 'object', 'z': 'int'}\n",
       ")"
      ]
     },
     "metadata": {},
     "output_type": "display_data"
    },
    {
     "data": {
      "text/html": [
       "<table>\n",
       "<thead>\n",
       "<tr>\n",
       "<th></th>\n",
       "<th>x</th>\n",
       "<th>y</th>\n",
       "<th>z</th>\n",
       "</tr>\n",
       "</thead>\n",
       "<tbody>\n",
       "<tr>\n",
       "<td></td>\n",
       "<td>int</td>\n",
       "<td>object</td>\n",
       "<td>int</td>\n",
       "</tr>\n",
       "<tr>\n",
       "<td>0</td>\n",
       "<td>9</td>\n",
       "<td>two</td>\n",
       "<td>0</td>\n",
       "</tr>\n",
       "<tr>\n",
       "<td>1</td>\n",
       "<td>4</td>\n",
       "<td>two</td>\n",
       "<td>1</td>\n",
       "</tr>\n",
       "<tr>\n",
       "<td>2</td>\n",
       "<td>6</td>\n",
       "<td>two</td>\n",
       "<td>1</td>\n",
       "</tr>\n",
       "</tbody>\n",
       "</table>"
      ],
      "text/plain": [
       "Tafra(\n",
       "data = {\n",
       "  'x': array([9, 4, 6]),\n",
       " 'y': array(['two', 'two', 'two'], dtype=object),\n",
       " 'z': array([0, 1, 1])},\n",
       "dtypes = {\n",
       "  'x': 'int', 'y': 'object', 'z': 'int'}\n",
       ")"
      ]
     },
     "metadata": {},
     "output_type": "display_data"
    },
    {
     "data": {
      "text/html": [
       "<table>\n",
       "<thead>\n",
       "<tr>\n",
       "<th></th>\n",
       "<th>x</th>\n",
       "<th>y</th>\n",
       "<th>z</th>\n",
       "</tr>\n",
       "</thead>\n",
       "<tbody>\n",
       "<tr>\n",
       "<td></td>\n",
       "<td>int</td>\n",
       "<td>object</td>\n",
       "<td>int</td>\n",
       "</tr>\n",
       "<tr>\n",
       "<td>0</td>\n",
       "<td>1</td>\n",
       "<td>one</td>\n",
       "<td>0</td>\n",
       "</tr>\n",
       "<tr>\n",
       "<td>1</td>\n",
       "<td>2</td>\n",
       "<td>two</td>\n",
       "<td>0</td>\n",
       "</tr>\n",
       "<tr>\n",
       "<td>2</td>\n",
       "<td>3</td>\n",
       "<td>one</td>\n",
       "<td>0</td>\n",
       "</tr>\n",
       "<tr>\n",
       "<td>3</td>\n",
       "<td>4</td>\n",
       "<td>two</td>\n",
       "<td>1</td>\n",
       "</tr>\n",
       "<tr>\n",
       "<td>4</td>\n",
       "<td>5</td>\n",
       "<td>one</td>\n",
       "<td>1</td>\n",
       "</tr>\n",
       "<tr>\n",
       "<td>5</td>\n",
       "<td>6</td>\n",
       "<td>two</td>\n",
       "<td>1</td>\n",
       "</tr>\n",
       "</tbody>\n",
       "</table>"
      ],
      "text/plain": [
       "Tafra(\n",
       "data = {\n",
       "  'x': array([1, 2, 3, 4, 5, 6]),\n",
       " 'y': array(['one', 'two', 'one', 'two', 'one', 'two'], dtype=object),\n",
       " 'z': array([0, 0, 0, 1, 1, 1])},\n",
       "dtypes = {\n",
       "  'x': 'int', 'y': 'object', 'z': 'int'}\n",
       ")"
      ]
     },
     "execution_count": 14,
     "metadata": {},
     "output_type": "execute_result"
    }
   ],
   "source": [
    "print('Group By in Iterate By:')\n",
    "for u, ix, it in t.iterate_by(['y']):\n",
    "    it['x'][0] = 9\n",
    "    display(it)\n",
    "\n",
    "t"
   ]
  },
  {
   "cell_type": "code",
   "execution_count": 15,
   "metadata": {
    "ExecuteTime": {
     "end_time": "2020-05-30T23:32:55.117052Z",
     "start_time": "2020-05-30T23:32:54.590353Z"
    }
   },
   "outputs": [],
   "source": [
    "import pandas as pd"
   ]
  },
  {
   "cell_type": "code",
   "execution_count": 16,
   "metadata": {
    "ExecuteTime": {
     "end_time": "2020-05-30T23:32:55.275629Z",
     "start_time": "2020-05-30T23:32:55.118049Z"
    },
    "scrolled": true
   },
   "outputs": [],
   "source": [
    "l = pd.DataFrame.from_dict({\n",
    "    'x': np.arange(1000),\n",
    "})\n",
    "\n",
    "r = pd.DataFrame.from_dict({\n",
    "    'a': np.tile(np.arange(1000), 1000),\n",
    "})\n",
    "\n",
    "l = l.merge(r, how='left', left_on=['x'], right_on=['a'])"
   ]
  },
  {
   "cell_type": "code",
   "execution_count": 17,
   "metadata": {
    "ExecuteTime": {
     "end_time": "2020-05-30T23:32:57.469428Z",
     "start_time": "2020-05-30T23:32:55.277622Z"
    },
    "scrolled": false
   },
   "outputs": [],
   "source": [
    "l = Tafra({\n",
    "    'x': np.arange(1000),\n",
    "})\n",
    "\n",
    "r = Tafra({\n",
    "    'a': np.tile(np.arange(1000), 1000),\n",
    "})\n",
    "\n",
    "l = l.left_join(r, [('x', 'a', '==')], ['x', 'a'])"
   ]
  },
  {
   "cell_type": "code",
   "execution_count": 18,
   "metadata": {
    "ExecuteTime": {
     "end_time": "2020-05-30T23:32:57.735372Z",
     "start_time": "2020-05-30T23:32:57.470042Z"
    },
    "scrolled": false
   },
   "outputs": [],
   "source": [
    "l = Tafra({\n",
    "    'x': np.arange(100),\n",
    "})\n",
    "\n",
    "r = Tafra({\n",
    "    'a': np.tile(np.arange(10), 1000),\n",
    "})\n",
    "\n",
    "l = l.cross_join(r, ['x', 'a'])"
   ]
  },
  {
   "cell_type": "code",
   "execution_count": 19,
   "metadata": {
    "ExecuteTime": {
     "end_time": "2020-05-30T23:32:57.744321Z",
     "start_time": "2020-05-30T23:32:57.736334Z"
    }
   },
   "outputs": [
    {
     "data": {
      "text/html": [
       "<table>\n",
       "<thead>\n",
       "<tr>\n",
       "<th></th>\n",
       "<th>x</th>\n",
       "<th>y</th>\n",
       "<th>a</th>\n",
       "<th>b</th>\n",
       "</tr>\n",
       "</thead>\n",
       "<tbody>\n",
       "<tr>\n",
       "<td></td>\n",
       "<td>int</td>\n",
       "<td>object</td>\n",
       "<td>int</td>\n",
       "<td>object</td>\n",
       "</tr>\n",
       "<tr>\n",
       "<td>0</td>\n",
       "<td>1</td>\n",
       "<td>one</td>\n",
       "<td>1</td>\n",
       "<td>one</td>\n",
       "</tr>\n",
       "<tr>\n",
       "<td>1</td>\n",
       "<td>2</td>\n",
       "<td>two</td>\n",
       "<td>2</td>\n",
       "<td>two</td>\n",
       "</tr>\n",
       "<tr>\n",
       "<td>2</td>\n",
       "<td>3</td>\n",
       "<td>one</td>\n",
       "<td>3</td>\n",
       "<td>one</td>\n",
       "</tr>\n",
       "<tr>\n",
       "<td>3</td>\n",
       "<td>4</td>\n",
       "<td>two</td>\n",
       "<td>4</td>\n",
       "<td>two</td>\n",
       "</tr>\n",
       "<tr>\n",
       "<td>4</td>\n",
       "<td>5</td>\n",
       "<td>one</td>\n",
       "<td>5</td>\n",
       "<td>one</td>\n",
       "</tr>\n",
       "<tr>\n",
       "<td>5</td>\n",
       "<td>6</td>\n",
       "<td>two</td>\n",
       "<td>6</td>\n",
       "<td>two</td>\n",
       "</tr>\n",
       "</tbody>\n",
       "</table>"
      ],
      "text/plain": [
       "Tafra(\n",
       "data = {\n",
       "  'a': array([1, 2, 3, 4, 5, 6]),\n",
       " 'b': array(['one', 'two', 'one', 'two', 'one', 'two'], dtype=object),\n",
       " 'x': array([1, 2, 3, 4, 5, 6]),\n",
       " 'y': array(['one', 'two', 'one', 'two', 'one', 'two'], dtype=object)},\n",
       "dtypes = {\n",
       "  'a': 'int', 'b': 'object', 'x': 'int', 'y': 'object'}\n",
       ")"
      ]
     },
     "execution_count": 19,
     "metadata": {},
     "output_type": "execute_result"
    }
   ],
   "source": [
    "l = Tafra({\n",
    "    'x': np.array([1, 2, 3, 4, 5, 6]),\n",
    "    'y': np.array(['one', 'two', 'one', 'two', 'one', 'two'], dtype='object'),\n",
    "    'z': np.array([0, 0, 0, 1, 1, 1])\n",
    "})\n",
    "\n",
    "r = Tafra({\n",
    "    'a': np.array([1, 2, 3, 4, 5, 6]),\n",
    "    'b': np.array(['one', 'two', 'one', 'two', 'one', 'two'], dtype='object'),\n",
    "    'c': np.array([0, 0, 0, 1, 1, 1])\n",
    "})\n",
    "\n",
    "l = l.left_join(r, [('x', 'a', '==')], ['x', 'y', 'a', 'b'])\n",
    "l"
   ]
  },
  {
   "cell_type": "code",
   "execution_count": 20,
   "metadata": {
    "ExecuteTime": {
     "end_time": "2020-05-30T23:32:57.759305Z",
     "start_time": "2020-05-30T23:32:57.745309Z"
    }
   },
   "outputs": [
    {
     "data": {
      "text/html": [
       "<table>\n",
       "<thead>\n",
       "<tr>\n",
       "<th></th>\n",
       "<th>x</th>\n",
       "<th>y</th>\n",
       "<th>a</th>\n",
       "<th>b</th>\n",
       "</tr>\n",
       "</thead>\n",
       "<tbody>\n",
       "<tr>\n",
       "<td></td>\n",
       "<td>int</td>\n",
       "<td>object</td>\n",
       "<td>object</td>\n",
       "<td>object</td>\n",
       "</tr>\n",
       "<tr>\n",
       "<td>0</td>\n",
       "<td>1</td>\n",
       "<td>one</td>\n",
       "<td>1</td>\n",
       "<td>one</td>\n",
       "</tr>\n",
       "<tr>\n",
       "<td>1</td>\n",
       "<td>1</td>\n",
       "<td>one</td>\n",
       "<td>1</td>\n",
       "<td>two</td>\n",
       "</tr>\n",
       "<tr>\n",
       "<td>2</td>\n",
       "<td>1</td>\n",
       "<td>one</td>\n",
       "<td>1</td>\n",
       "<td>one</td>\n",
       "</tr>\n",
       "<tr>\n",
       "<td>3</td>\n",
       "<td>2</td>\n",
       "<td>two</td>\n",
       "<td>2</td>\n",
       "<td>two</td>\n",
       "</tr>\n",
       "<tr>\n",
       "<td>4</td>\n",
       "<td>2</td>\n",
       "<td>two</td>\n",
       "<td>2</td>\n",
       "<td>one</td>\n",
       "</tr>\n",
       "<tr>\n",
       "<td>5</td>\n",
       "<td>2</td>\n",
       "<td>two</td>\n",
       "<td>2</td>\n",
       "<td>two</td>\n",
       "</tr>\n",
       "<tr>\n",
       "<td>6</td>\n",
       "<td>3</td>\n",
       "<td>one</td>\n",
       "<td>None</td>\n",
       "<td>None</td>\n",
       "</tr>\n",
       "<tr>\n",
       "<td>7</td>\n",
       "<td>4</td>\n",
       "<td>two</td>\n",
       "<td>None</td>\n",
       "<td>None</td>\n",
       "</tr>\n",
       "<tr>\n",
       "<td>8</td>\n",
       "<td>5</td>\n",
       "<td>one</td>\n",
       "<td>None</td>\n",
       "<td>None</td>\n",
       "</tr>\n",
       "<tr>\n",
       "<td>9</td>\n",
       "<td>6</td>\n",
       "<td>two</td>\n",
       "<td>None</td>\n",
       "<td>None</td>\n",
       "</tr>\n",
       "</tbody>\n",
       "</table>"
      ],
      "text/plain": [
       "Tafra(\n",
       "data = {\n",
       "  'a': array([1, 1, 1, 2, 2, 2, None, None, None, None], dtype=object),\n",
       " 'b': array(['one', 'two', 'one', 'two', 'one', 'two', None, None, None, None],\n",
       "      dtype=object),\n",
       " 'x': array([1, 1, 1, 2, 2, 2, 3, 4, 5, 6]),\n",
       " 'y': array(['one', 'one', 'one', 'two', 'two', 'two', 'one', 'two', 'one',\n",
       "       'two'], dtype=object)},\n",
       "dtypes = {\n",
       "  'a': 'object', 'b': 'object', 'x': 'int', 'y': 'object'}\n",
       ")"
      ]
     },
     "execution_count": 20,
     "metadata": {},
     "output_type": "execute_result"
    }
   ],
   "source": [
    "l = Tafra({\n",
    "    'x': np.array([1, 2, 3, 4, 5, 6]),\n",
    "    'y': np.array(['one', 'two', 'one', 'two', 'one', 'two'], dtype='object'),\n",
    "    'z': np.array([0, 0, 0, 1, 1, 1])\n",
    "})\n",
    "\n",
    "r = Tafra({\n",
    "    'a': np.array([1, 1, 1, 2, 2, 2]),\n",
    "    'b': np.array(['one', 'two', 'one', 'two', 'one', 'two'], dtype='object'),\n",
    "    'c': np.array([0, 0, 0, 1, 1, 1])\n",
    "})\n",
    "\n",
    "l = l.left_join(r, [('x', 'a', '==')], ['x', 'y', 'a', 'b'])\n",
    "l"
   ]
  },
  {
   "cell_type": "code",
   "execution_count": 21,
   "metadata": {
    "ExecuteTime": {
     "end_time": "2020-05-30T23:32:57.776261Z",
     "start_time": "2020-05-30T23:32:57.761267Z"
    }
   },
   "outputs": [
    {
     "data": {
      "text/html": [
       "<table>\n",
       "<thead>\n",
       "<tr>\n",
       "<th></th>\n",
       "<th>x</th>\n",
       "<th>y</th>\n",
       "<th>a</th>\n",
       "<th>b</th>\n",
       "</tr>\n",
       "</thead>\n",
       "<tbody>\n",
       "<tr>\n",
       "<td></td>\n",
       "<td>int</td>\n",
       "<td>object</td>\n",
       "<td>object</td>\n",
       "<td>object</td>\n",
       "</tr>\n",
       "<tr>\n",
       "<td>0</td>\n",
       "<td>1</td>\n",
       "<td>one</td>\n",
       "<td>1</td>\n",
       "<td>one</td>\n",
       "</tr>\n",
       "<tr>\n",
       "<td>1</td>\n",
       "<td>1</td>\n",
       "<td>one</td>\n",
       "<td>1</td>\n",
       "<td>two</td>\n",
       "</tr>\n",
       "<tr>\n",
       "<td>2</td>\n",
       "<td>2</td>\n",
       "<td>two</td>\n",
       "<td>2</td>\n",
       "<td>two</td>\n",
       "</tr>\n",
       "<tr>\n",
       "<td>3</td>\n",
       "<td>3</td>\n",
       "<td>one</td>\n",
       "<td>None</td>\n",
       "<td>None</td>\n",
       "</tr>\n",
       "<tr>\n",
       "<td>4</td>\n",
       "<td>4</td>\n",
       "<td>two</td>\n",
       "<td>None</td>\n",
       "<td>None</td>\n",
       "</tr>\n",
       "<tr>\n",
       "<td>5</td>\n",
       "<td>5</td>\n",
       "<td>one</td>\n",
       "<td>None</td>\n",
       "<td>None</td>\n",
       "</tr>\n",
       "<tr>\n",
       "<td>6</td>\n",
       "<td>6</td>\n",
       "<td>two</td>\n",
       "<td>None</td>\n",
       "<td>None</td>\n",
       "</tr>\n",
       "</tbody>\n",
       "</table>"
      ],
      "text/plain": [
       "Tafra(\n",
       "data = {\n",
       "  'a': array([1, 1, 2, None, None, None, None], dtype=object),\n",
       " 'b': array(['one', 'two', 'two', None, None, None, None], dtype=object),\n",
       " 'x': array([1, 1, 2, 3, 4, 5, 6]),\n",
       " 'y': array(['one', 'one', 'two', 'one', 'two', 'one', 'two'], dtype=object)},\n",
       "dtypes = {\n",
       "  'a': 'object', 'b': 'object', 'x': 'int', 'y': 'object'}\n",
       ")"
      ]
     },
     "execution_count": 21,
     "metadata": {},
     "output_type": "execute_result"
    }
   ],
   "source": [
    "l = Tafra({\n",
    "    'x': np.array([1, 2, 3, 4, 5, 6]),\n",
    "    'y': np.array(['one', 'two', 'one', 'two', 'one', 'two'], dtype='object'),\n",
    "    'z': np.array([0, 0, 0, 1, 1, 1])\n",
    "})\n",
    "\n",
    "r = Tafra({\n",
    "    'a': np.array([1, 1, 1, 2, 2, 2]),\n",
    "    '_a': np.array([1, 1, 2, 2, 3, 3]),\n",
    "    'b': np.array(['one', 'two', 'one', 'two', 'one', 'two'], dtype='object'),\n",
    "    'c': np.array([0, 0, 0, 1, 1, 1])\n",
    "})\n",
    "\n",
    "l = l.left_join(r, [('x', 'a', '=='), ('x', '_a', '==')], ['x', 'y', 'a', 'b'])\n",
    "l"
   ]
  },
  {
   "cell_type": "code",
   "execution_count": 22,
   "metadata": {
    "ExecuteTime": {
     "end_time": "2020-05-30T23:32:57.790224Z",
     "start_time": "2020-05-30T23:32:57.781214Z"
    }
   },
   "outputs": [
    {
     "data": {
      "text/html": [
       "<table>\n",
       "<thead>\n",
       "<tr>\n",
       "<th></th>\n",
       "<th>x</th>\n",
       "<th>y</th>\n",
       "<th>a</th>\n",
       "<th>b</th>\n",
       "</tr>\n",
       "</thead>\n",
       "<tbody>\n",
       "<tr>\n",
       "<td></td>\n",
       "<td>int</td>\n",
       "<td>object</td>\n",
       "<td>object</td>\n",
       "<td>object</td>\n",
       "</tr>\n",
       "<tr>\n",
       "<td>0</td>\n",
       "<td>1</td>\n",
       "<td>one</td>\n",
       "<td>2</td>\n",
       "<td>one</td>\n",
       "</tr>\n",
       "<tr>\n",
       "<td>1</td>\n",
       "<td>1</td>\n",
       "<td>one</td>\n",
       "<td>2</td>\n",
       "<td>two</td>\n",
       "</tr>\n",
       "<tr>\n",
       "<td>2</td>\n",
       "<td>1</td>\n",
       "<td>one</td>\n",
       "<td>3</td>\n",
       "<td>one</td>\n",
       "</tr>\n",
       "<tr>\n",
       "<td>3</td>\n",
       "<td>1</td>\n",
       "<td>one</td>\n",
       "<td>3</td>\n",
       "<td>two</td>\n",
       "</tr>\n",
       "<tr>\n",
       "<td>4</td>\n",
       "<td>2</td>\n",
       "<td>two</td>\n",
       "<td>3</td>\n",
       "<td>one</td>\n",
       "</tr>\n",
       "<tr>\n",
       "<td>5</td>\n",
       "<td>2</td>\n",
       "<td>two</td>\n",
       "<td>3</td>\n",
       "<td>two</td>\n",
       "</tr>\n",
       "<tr>\n",
       "<td>6</td>\n",
       "<td>3</td>\n",
       "<td>one</td>\n",
       "<td>None</td>\n",
       "<td>None</td>\n",
       "</tr>\n",
       "<tr>\n",
       "<td>7</td>\n",
       "<td>4</td>\n",
       "<td>two</td>\n",
       "<td>None</td>\n",
       "<td>None</td>\n",
       "</tr>\n",
       "<tr>\n",
       "<td>8</td>\n",
       "<td>5</td>\n",
       "<td>one</td>\n",
       "<td>None</td>\n",
       "<td>None</td>\n",
       "</tr>\n",
       "<tr>\n",
       "<td>9</td>\n",
       "<td>6</td>\n",
       "<td>two</td>\n",
       "<td>None</td>\n",
       "<td>None</td>\n",
       "</tr>\n",
       "</tbody>\n",
       "</table>"
      ],
      "text/plain": [
       "Tafra(\n",
       "data = {\n",
       "  'a': array([2, 2, 3, 3, 3, 3, None, None, None, None], dtype=object),\n",
       " 'b': array(['one', 'two', 'one', 'two', 'one', 'two', None, None, None, None],\n",
       "      dtype=object),\n",
       " 'x': array([1, 1, 1, 1, 2, 2, 3, 4, 5, 6]),\n",
       " 'y': array(['one', 'one', 'one', 'one', 'two', 'two', 'one', 'two', 'one',\n",
       "       'two'], dtype=object)},\n",
       "dtypes = {\n",
       "  'a': 'object', 'b': 'object', 'x': 'int', 'y': 'object'}\n",
       ")"
      ]
     },
     "execution_count": 22,
     "metadata": {},
     "output_type": "execute_result"
    }
   ],
   "source": [
    "l = Tafra({\n",
    "    'x': np.array([1, 2, 3, 4, 5, 6]),\n",
    "    'y': np.array(['one', 'two', 'one', 'two', 'one', 'two'], dtype='object'),\n",
    "    'z': np.array([0, 0, 0, 1, 1, 1])\n",
    "})\n",
    "\n",
    "r = Tafra({\n",
    "    'a': np.array([1, 1, 2, 2, 3, 3]),\n",
    "    'b': np.array(['one', 'two', 'one', 'two', 'one', 'two'], dtype='object'),\n",
    "    'c': np.array([0, 0, 0, 1, 1, 1])\n",
    "})\n",
    "\n",
    "l = l.left_join(r, [('x', 'a', '<')], ['x', 'y', 'a', 'b'])\n",
    "l"
   ]
  },
  {
   "cell_type": "code",
   "execution_count": 23,
   "metadata": {
    "ExecuteTime": {
     "end_time": "2020-05-30T23:32:57.806146Z",
     "start_time": "2020-05-30T23:32:57.793182Z"
    }
   },
   "outputs": [
    {
     "data": {
      "text/html": [
       "<table>\n",
       "<thead>\n",
       "<tr>\n",
       "<th></th>\n",
       "<th>x</th>\n",
       "<th>y</th>\n",
       "<th>a</th>\n",
       "<th>b</th>\n",
       "</tr>\n",
       "</thead>\n",
       "<tbody>\n",
       "<tr>\n",
       "<td></td>\n",
       "<td>int</td>\n",
       "<td>object</td>\n",
       "<td>object</td>\n",
       "<td>object</td>\n",
       "</tr>\n",
       "<tr>\n",
       "<td>0</td>\n",
       "<td>1</td>\n",
       "<td>one</td>\n",
       "<td>1</td>\n",
       "<td>one</td>\n",
       "</tr>\n",
       "<tr>\n",
       "<td>1</td>\n",
       "<td>1</td>\n",
       "<td>one</td>\n",
       "<td>1</td>\n",
       "<td>two</td>\n",
       "</tr>\n",
       "<tr>\n",
       "<td>2</td>\n",
       "<td>1</td>\n",
       "<td>one</td>\n",
       "<td>1</td>\n",
       "<td>one</td>\n",
       "</tr>\n",
       "<tr>\n",
       "<td>3</td>\n",
       "<td>2</td>\n",
       "<td>two</td>\n",
       "<td>2</td>\n",
       "<td>two</td>\n",
       "</tr>\n",
       "<tr>\n",
       "<td>4</td>\n",
       "<td>2</td>\n",
       "<td>two</td>\n",
       "<td>2</td>\n",
       "<td>one</td>\n",
       "</tr>\n",
       "<tr>\n",
       "<td>5</td>\n",
       "<td>2</td>\n",
       "<td>two</td>\n",
       "<td>2</td>\n",
       "<td>two</td>\n",
       "</tr>\n",
       "<tr>\n",
       "<td>6</td>\n",
       "<td>3</td>\n",
       "<td>one</td>\n",
       "<td>None</td>\n",
       "<td>None</td>\n",
       "</tr>\n",
       "<tr>\n",
       "<td>7</td>\n",
       "<td>4</td>\n",
       "<td>two</td>\n",
       "<td>None</td>\n",
       "<td>None</td>\n",
       "</tr>\n",
       "<tr>\n",
       "<td>8</td>\n",
       "<td>5</td>\n",
       "<td>one</td>\n",
       "<td>None</td>\n",
       "<td>None</td>\n",
       "</tr>\n",
       "<tr>\n",
       "<td>9</td>\n",
       "<td>6</td>\n",
       "<td>two</td>\n",
       "<td>None</td>\n",
       "<td>None</td>\n",
       "</tr>\n",
       "</tbody>\n",
       "</table>"
      ],
      "text/plain": [
       "Tafra(\n",
       "data = {\n",
       "  'a': array([1, 1, 1, 2, 2, 2, None, None, None, None], dtype=object),\n",
       " 'b': array(['one', 'two', 'one', 'two', 'one', 'two', None, None, None, None],\n",
       "      dtype=object),\n",
       " 'x': array([1, 1, 1, 2, 2, 2, 3, 4, 5, 6]),\n",
       " 'y': array(['one', 'one', 'one', 'two', 'two', 'two', 'one', 'two', 'one',\n",
       "       'two'], dtype=object)},\n",
       "dtypes = {\n",
       "  'a': 'object', 'b': 'object', 'x': 'int', 'y': 'object'}\n",
       ")"
      ]
     },
     "execution_count": 23,
     "metadata": {},
     "output_type": "execute_result"
    }
   ],
   "source": [
    "l = Tafra({\n",
    "    'x': np.array([1, 2, 3, 4, 5, 6]),\n",
    "    'y': np.array(['one', 'two', 'one', 'two', 'one', 'two'], dtype='object'),\n",
    "    'z': np.array([0, 0, 0, 1, 1, 1])\n",
    "})\n",
    "\n",
    "r = Tafra({\n",
    "    'a': np.array([1, 1, 1, 2, 2, 2]),\n",
    "    'b': np.array(['one', 'two', 'one', 'two', 'one', 'two'], dtype='object'),\n",
    "    'c': np.array([0, 0, 0, 1, 1, 1])\n",
    "})\n",
    "\n",
    "l = l.left_join(r, [('x', 'a', '==')], ['x', 'y', 'a', 'b'])\n",
    "l"
   ]
  },
  {
   "cell_type": "code",
   "execution_count": 24,
   "metadata": {
    "ExecuteTime": {
     "end_time": "2020-05-30T23:32:57.818148Z",
     "start_time": "2020-05-30T23:32:57.807144Z"
    }
   },
   "outputs": [
    {
     "data": {
      "text/html": [
       "<table>\n",
       "<thead>\n",
       "<tr>\n",
       "<th></th>\n",
       "<th>x</th>\n",
       "<th>y</th>\n",
       "<th>a</th>\n",
       "<th>b</th>\n",
       "</tr>\n",
       "</thead>\n",
       "<tbody>\n",
       "<tr>\n",
       "<td></td>\n",
       "<td>int</td>\n",
       "<td>object</td>\n",
       "<td>int</td>\n",
       "<td>object</td>\n",
       "</tr>\n",
       "<tr>\n",
       "<td>0</td>\n",
       "<td>1</td>\n",
       "<td>one</td>\n",
       "<td>1</td>\n",
       "<td>one</td>\n",
       "</tr>\n",
       "<tr>\n",
       "<td>1</td>\n",
       "<td>2</td>\n",
       "<td>two</td>\n",
       "<td>2</td>\n",
       "<td>two</td>\n",
       "</tr>\n",
       "<tr>\n",
       "<td>2</td>\n",
       "<td>3</td>\n",
       "<td>one</td>\n",
       "<td>3</td>\n",
       "<td>one</td>\n",
       "</tr>\n",
       "<tr>\n",
       "<td>3</td>\n",
       "<td>4</td>\n",
       "<td>two</td>\n",
       "<td>4</td>\n",
       "<td>two</td>\n",
       "</tr>\n",
       "<tr>\n",
       "<td>4</td>\n",
       "<td>5</td>\n",
       "<td>one</td>\n",
       "<td>5</td>\n",
       "<td>one</td>\n",
       "</tr>\n",
       "<tr>\n",
       "<td>5</td>\n",
       "<td>6</td>\n",
       "<td>two</td>\n",
       "<td>6</td>\n",
       "<td>two</td>\n",
       "</tr>\n",
       "</tbody>\n",
       "</table>"
      ],
      "text/plain": [
       "Tafra(\n",
       "data = {\n",
       "  'a': array([1, 2, 3, 4, 5, 6]),\n",
       " 'b': array(['one', 'two', 'one', 'two', 'one', 'two'], dtype=object),\n",
       " 'x': array([1, 2, 3, 4, 5, 6]),\n",
       " 'y': array(['one', 'two', 'one', 'two', 'one', 'two'], dtype=object)},\n",
       "dtypes = {\n",
       "  'a': 'int', 'b': 'object', 'x': 'int', 'y': 'object'}\n",
       ")"
      ]
     },
     "execution_count": 24,
     "metadata": {},
     "output_type": "execute_result"
    }
   ],
   "source": [
    "l = Tafra({\n",
    "    'x': np.array([1, 2, 3, 4, 5, 6]),\n",
    "    'y': np.array(['one', 'two', 'one', 'two', 'one', 'two'], dtype='object'),\n",
    "    'z': np.array([0, 0, 0, 1, 1, 1])\n",
    "})\n",
    "\n",
    "r = Tafra({\n",
    "    'a': np.array([1, 2, 3, 4, 5, 6]),\n",
    "    'b': np.array(['one', 'two', 'one', 'two', 'one', 'two'], dtype='object'),\n",
    "    'c': np.array([0, 0, 0, 1, 1, 1])\n",
    "})\n",
    "\n",
    "l = l.inner_join(r, [('x', 'a', '==')], ['x', 'y', 'a', 'b'])\n",
    "l"
   ]
  },
  {
   "cell_type": "code",
   "execution_count": 25,
   "metadata": {
    "ExecuteTime": {
     "end_time": "2020-05-30T23:32:57.830083Z",
     "start_time": "2020-05-30T23:32:57.819111Z"
    }
   },
   "outputs": [
    {
     "data": {
      "text/html": [
       "<table>\n",
       "<thead>\n",
       "<tr>\n",
       "<th></th>\n",
       "<th>x</th>\n",
       "<th>y</th>\n",
       "<th>a</th>\n",
       "<th>b</th>\n",
       "</tr>\n",
       "</thead>\n",
       "<tbody>\n",
       "<tr>\n",
       "<td></td>\n",
       "<td>int</td>\n",
       "<td>object</td>\n",
       "<td>int</td>\n",
       "<td>object</td>\n",
       "</tr>\n",
       "<tr>\n",
       "<td>0</td>\n",
       "<td>1</td>\n",
       "<td>one</td>\n",
       "<td>1</td>\n",
       "<td>one</td>\n",
       "</tr>\n",
       "<tr>\n",
       "<td>1</td>\n",
       "<td>1</td>\n",
       "<td>one</td>\n",
       "<td>1</td>\n",
       "<td>two</td>\n",
       "</tr>\n",
       "<tr>\n",
       "<td>2</td>\n",
       "<td>2</td>\n",
       "<td>two</td>\n",
       "<td>2</td>\n",
       "<td>one</td>\n",
       "</tr>\n",
       "<tr>\n",
       "<td>3</td>\n",
       "<td>2</td>\n",
       "<td>two</td>\n",
       "<td>2</td>\n",
       "<td>two</td>\n",
       "</tr>\n",
       "<tr>\n",
       "<td>4</td>\n",
       "<td>3</td>\n",
       "<td>one</td>\n",
       "<td>3</td>\n",
       "<td>one</td>\n",
       "</tr>\n",
       "<tr>\n",
       "<td>5</td>\n",
       "<td>3</td>\n",
       "<td>one</td>\n",
       "<td>3</td>\n",
       "<td>two</td>\n",
       "</tr>\n",
       "</tbody>\n",
       "</table>"
      ],
      "text/plain": [
       "Tafra(\n",
       "data = {\n",
       "  'a': array([1, 1, 2, 2, 3, 3]),\n",
       " 'b': array(['one', 'two', 'one', 'two', 'one', 'two'], dtype=object),\n",
       " 'x': array([1, 1, 2, 2, 3, 3]),\n",
       " 'y': array(['one', 'one', 'two', 'two', 'one', 'one'], dtype=object)},\n",
       "dtypes = {\n",
       "  'a': 'int', 'b': 'object', 'x': 'int', 'y': 'object'}\n",
       ")"
      ]
     },
     "execution_count": 25,
     "metadata": {},
     "output_type": "execute_result"
    }
   ],
   "source": [
    "l = Tafra({\n",
    "    'x': np.array([1, 2, 3, 4, 5, 6]),\n",
    "    'y': np.array(['one', 'two', 'one', 'two', 'one', 'two'], dtype='object'),\n",
    "    'z': np.array([0, 0, 0, 1, 1, 1])\n",
    "})\n",
    "\n",
    "r = Tafra({\n",
    "    'a': np.array([1, 1, 2, 2, 3, 3]),\n",
    "    'b': np.array(['one', 'two', 'one', 'two', 'one', 'two'], dtype='object'),\n",
    "    'c': np.array([0, 0, 0, 1, 1, 1])\n",
    "})\n",
    "\n",
    "l = l.inner_join(r, [('x', 'a', '==')], ['x', 'y', 'a', 'b'])\n",
    "l"
   ]
  },
  {
   "cell_type": "code",
   "execution_count": 26,
   "metadata": {
    "ExecuteTime": {
     "end_time": "2020-05-30T23:32:57.842053Z",
     "start_time": "2020-05-30T23:32:57.831079Z"
    }
   },
   "outputs": [
    {
     "data": {
      "text/html": [
       "<table>\n",
       "<thead>\n",
       "<tr>\n",
       "<th></th>\n",
       "<th>x</th>\n",
       "<th>y</th>\n",
       "<th>a</th>\n",
       "<th>b</th>\n",
       "</tr>\n",
       "</thead>\n",
       "<tbody>\n",
       "<tr>\n",
       "<td></td>\n",
       "<td>int</td>\n",
       "<td>object</td>\n",
       "<td>int</td>\n",
       "<td>object</td>\n",
       "</tr>\n",
       "<tr>\n",
       "<td>0</td>\n",
       "<td>1</td>\n",
       "<td>one</td>\n",
       "<td>1</td>\n",
       "<td>one</td>\n",
       "</tr>\n",
       "<tr>\n",
       "<td>1</td>\n",
       "<td>1</td>\n",
       "<td>one</td>\n",
       "<td>1</td>\n",
       "<td>two</td>\n",
       "</tr>\n",
       "<tr>\n",
       "<td>2</td>\n",
       "<td>1</td>\n",
       "<td>one</td>\n",
       "<td>1</td>\n",
       "<td>one</td>\n",
       "</tr>\n",
       "<tr>\n",
       "<td>3</td>\n",
       "<td>2</td>\n",
       "<td>two</td>\n",
       "<td>2</td>\n",
       "<td>two</td>\n",
       "</tr>\n",
       "<tr>\n",
       "<td>4</td>\n",
       "<td>2</td>\n",
       "<td>two</td>\n",
       "<td>2</td>\n",
       "<td>one</td>\n",
       "</tr>\n",
       "<tr>\n",
       "<td>5</td>\n",
       "<td>2</td>\n",
       "<td>two</td>\n",
       "<td>2</td>\n",
       "<td>two</td>\n",
       "</tr>\n",
       "</tbody>\n",
       "</table>"
      ],
      "text/plain": [
       "Tafra(\n",
       "data = {\n",
       "  'a': array([1, 1, 1, 2, 2, 2]),\n",
       " 'b': array(['one', 'two', 'one', 'two', 'one', 'two'], dtype=object),\n",
       " 'x': array([1, 1, 1, 2, 2, 2]),\n",
       " 'y': array(['one', 'one', 'one', 'two', 'two', 'two'], dtype=object)},\n",
       "dtypes = {\n",
       "  'a': 'int', 'b': 'object', 'x': 'int', 'y': 'object'}\n",
       ")"
      ]
     },
     "execution_count": 26,
     "metadata": {},
     "output_type": "execute_result"
    }
   ],
   "source": [
    "l = Tafra({\n",
    "    'x': np.array([1, 2, 3, 4, 5, 6]),\n",
    "    'y': np.array(['one', 'two', 'one', 'two', 'one', 'two'], dtype='object'),\n",
    "    'z': np.array([0, 0, 0, 1, 1, 1])\n",
    "})\n",
    "\n",
    "r = Tafra({\n",
    "    'a': np.array([1, 1, 1, 2, 2, 2]),\n",
    "    'b': np.array(['one', 'two', 'one', 'two', 'one', 'two'], dtype='object'),\n",
    "    'c': np.array([0, 0, 0, 1, 1, 1])\n",
    "})\n",
    "\n",
    "l = l.inner_join(r, [('x', 'a', '==')], ['x', 'y', 'a', 'b'])\n",
    "l"
   ]
  },
  {
   "cell_type": "code",
   "execution_count": 27,
   "metadata": {
    "ExecuteTime": {
     "end_time": "2020-05-30T23:32:57.855042Z",
     "start_time": "2020-05-30T23:32:57.843047Z"
    }
   },
   "outputs": [
    {
     "data": {
      "text/html": [
       "<table>\n",
       "<thead>\n",
       "<tr>\n",
       "<th></th>\n",
       "<th>x</th>\n",
       "<th>y</th>\n",
       "<th>a</th>\n",
       "<th>b</th>\n",
       "</tr>\n",
       "</thead>\n",
       "<tbody>\n",
       "<tr>\n",
       "<td></td>\n",
       "<td>int</td>\n",
       "<td>object</td>\n",
       "<td>int</td>\n",
       "<td>object</td>\n",
       "</tr>\n",
       "<tr>\n",
       "<td>0</td>\n",
       "<td>1</td>\n",
       "<td>one</td>\n",
       "<td>1</td>\n",
       "<td>one</td>\n",
       "</tr>\n",
       "<tr>\n",
       "<td>1</td>\n",
       "<td>1</td>\n",
       "<td>one</td>\n",
       "<td>1</td>\n",
       "<td>two</td>\n",
       "</tr>\n",
       "<tr>\n",
       "<td>2</td>\n",
       "<td>1</td>\n",
       "<td>one</td>\n",
       "<td>1</td>\n",
       "<td>one</td>\n",
       "</tr>\n",
       "<tr>\n",
       "<td>3</td>\n",
       "<td>1</td>\n",
       "<td>one</td>\n",
       "<td>2</td>\n",
       "<td>two</td>\n",
       "</tr>\n",
       "<tr>\n",
       "<td>4</td>\n",
       "<td>1</td>\n",
       "<td>one</td>\n",
       "<td>2</td>\n",
       "<td>one</td>\n",
       "</tr>\n",
       "<tr>\n",
       "<td>5</td>\n",
       "<td>1</td>\n",
       "<td>one</td>\n",
       "<td>2</td>\n",
       "<td>two</td>\n",
       "</tr>\n",
       "<tr>\n",
       "<td>6</td>\n",
       "<td>2</td>\n",
       "<td>two</td>\n",
       "<td>2</td>\n",
       "<td>two</td>\n",
       "</tr>\n",
       "<tr>\n",
       "<td>7</td>\n",
       "<td>2</td>\n",
       "<td>two</td>\n",
       "<td>2</td>\n",
       "<td>one</td>\n",
       "</tr>\n",
       "<tr>\n",
       "<td>8</td>\n",
       "<td>2</td>\n",
       "<td>two</td>\n",
       "<td>2</td>\n",
       "<td>two</td>\n",
       "</tr>\n",
       "</tbody>\n",
       "</table>"
      ],
      "text/plain": [
       "Tafra(\n",
       "data = {\n",
       "  'a': array([1, 1, 1, 2, 2, 2, 2, 2, 2]),\n",
       " 'b': array(['one', 'two', 'one', 'two', 'one', 'two', 'two', 'one', 'two'],\n",
       "      dtype=object),\n",
       " 'x': array([1, 1, 1, 1, 1, 1, 2, 2, 2]),\n",
       " 'y': array(['one', 'one', 'one', 'one', 'one', 'one', 'two', 'two', 'two'],\n",
       "      dtype=object)},\n",
       "dtypes = {\n",
       "  'a': 'int', 'b': 'object', 'x': 'int', 'y': 'object'}\n",
       ")"
      ]
     },
     "execution_count": 27,
     "metadata": {},
     "output_type": "execute_result"
    }
   ],
   "source": [
    "l = Tafra({\n",
    "    'x': np.array([1, 2, 3, 4, 5, 6]),\n",
    "    'y': np.array(['one', 'two', 'one', 'two', 'one', 'two'], dtype='object'),\n",
    "    'z': np.array([0, 0, 0, 1, 1, 1])\n",
    "})\n",
    "\n",
    "r = Tafra({\n",
    "    'a': np.array([1, 1, 1, 2, 2, 2]),\n",
    "    'b': np.array(['one', 'two', 'one', 'two', 'one', 'two'], dtype='object'),\n",
    "    'c': np.array([0, 0, 0, 1, 1, 1])\n",
    "})\n",
    "\n",
    "l = l.inner_join(r, [('x', 'a', '<=')], ['x', 'y', 'a', 'b'])\n",
    "l"
   ]
  },
  {
   "cell_type": "code",
   "execution_count": 28,
   "metadata": {
    "ExecuteTime": {
     "end_time": "2020-05-30T23:32:57.866015Z",
     "start_time": "2020-05-30T23:32:57.856026Z"
    }
   },
   "outputs": [
    {
     "name": "stdout",
     "output_type": "stream",
     "text": [
      "This `Tafra` column count does not match other `Tafra` column count.\n"
     ]
    }
   ],
   "source": [
    "try:\n",
    "    t.union(_t)\n",
    "except Exception as e:\n",
    "    print(e)"
   ]
  },
  {
   "cell_type": "code",
   "execution_count": 29,
   "metadata": {
    "ExecuteTime": {
     "end_time": "2020-05-30T23:32:57.873975Z",
     "start_time": "2020-05-30T23:32:57.867982Z"
    }
   },
   "outputs": [],
   "source": [
    "t2 = t.copy()\n",
    "t3 = t.copy()\n",
    "t3.update_dtypes({'x': float})"
   ]
  },
  {
   "cell_type": "code",
   "execution_count": 30,
   "metadata": {
    "ExecuteTime": {
     "end_time": "2020-05-30T23:32:57.886931Z",
     "start_time": "2020-05-30T23:32:57.874963Z"
    }
   },
   "outputs": [
    {
     "data": {
      "text/html": [
       "<table>\n",
       "<thead>\n",
       "<tr>\n",
       "<th></th>\n",
       "<th>x</th>\n",
       "<th>y</th>\n",
       "<th>z</th>\n",
       "</tr>\n",
       "</thead>\n",
       "<tbody>\n",
       "<tr>\n",
       "<td></td>\n",
       "<td>int</td>\n",
       "<td>object</td>\n",
       "<td>int</td>\n",
       "</tr>\n",
       "<tr>\n",
       "<td>0</td>\n",
       "<td>1</td>\n",
       "<td>one</td>\n",
       "<td>0</td>\n",
       "</tr>\n",
       "<tr>\n",
       "<td>1</td>\n",
       "<td>2</td>\n",
       "<td>two</td>\n",
       "<td>0</td>\n",
       "</tr>\n",
       "<tr>\n",
       "<td>2</td>\n",
       "<td>3</td>\n",
       "<td>one</td>\n",
       "<td>0</td>\n",
       "</tr>\n",
       "<tr>\n",
       "<td>3</td>\n",
       "<td>4</td>\n",
       "<td>two</td>\n",
       "<td>1</td>\n",
       "</tr>\n",
       "<tr>\n",
       "<td>4</td>\n",
       "<td>5</td>\n",
       "<td>one</td>\n",
       "<td>1</td>\n",
       "</tr>\n",
       "<tr>\n",
       "<td>5</td>\n",
       "<td>6</td>\n",
       "<td>two</td>\n",
       "<td>1</td>\n",
       "</tr>\n",
       "<tr>\n",
       "<td>6</td>\n",
       "<td>1</td>\n",
       "<td>one</td>\n",
       "<td>0</td>\n",
       "</tr>\n",
       "<tr>\n",
       "<td>7</td>\n",
       "<td>2</td>\n",
       "<td>two</td>\n",
       "<td>0</td>\n",
       "</tr>\n",
       "<tr>\n",
       "<td>8</td>\n",
       "<td>3</td>\n",
       "<td>one</td>\n",
       "<td>0</td>\n",
       "</tr>\n",
       "<tr>\n",
       "<td>9</td>\n",
       "<td>4</td>\n",
       "<td>two</td>\n",
       "<td>1</td>\n",
       "</tr>\n",
       "<tr>\n",
       "<td>10</td>\n",
       "<td>5</td>\n",
       "<td>one</td>\n",
       "<td>1</td>\n",
       "</tr>\n",
       "<tr>\n",
       "<td>11</td>\n",
       "<td>6</td>\n",
       "<td>two</td>\n",
       "<td>1</td>\n",
       "</tr>\n",
       "</tbody>\n",
       "</table>"
      ],
      "text/plain": [
       "Tafra(\n",
       "data = {\n",
       "  'x': array([1, 2, 3, 4, 5, 6, 1, 2, 3, 4, 5, 6]),\n",
       " 'y': array(['one', 'two', 'one', 'two', 'one', 'two', 'one', 'two', 'one',\n",
       "       'two', 'one', 'two'], dtype=object),\n",
       " 'z': array([0, 0, 0, 1, 1, 1, 0, 0, 0, 1, 1, 1])},\n",
       "dtypes = {\n",
       "  'x': 'int', 'y': 'object', 'z': 'int'}\n",
       ")"
      ]
     },
     "execution_count": 30,
     "metadata": {},
     "output_type": "execute_result"
    }
   ],
   "source": [
    "t.union(t2)"
   ]
  },
  {
   "cell_type": "code",
   "execution_count": 31,
   "metadata": {
    "ExecuteTime": {
     "end_time": "2020-05-30T23:32:57.895907Z",
     "start_time": "2020-05-30T23:32:57.887928Z"
    }
   },
   "outputs": [
    {
     "name": "stdout",
     "output_type": "stream",
     "text": [
      "This `Tafra` column `x` dtype `int32` does not match other `Tafra` dtype `float64`.\n"
     ]
    }
   ],
   "source": [
    "try:\n",
    "    t.union(t3)\n",
    "except Exception as e:\n",
    "    print(e)"
   ]
  },
  {
   "cell_type": "code",
   "execution_count": 32,
   "metadata": {
    "ExecuteTime": {
     "end_time": "2020-05-30T23:32:57.906878Z",
     "start_time": "2020-05-30T23:32:57.896904Z"
    }
   },
   "outputs": [
    {
     "data": {
      "text/html": [
       "<table>\n",
       "<thead>\n",
       "<tr>\n",
       "<th></th>\n",
       "<th>x</th>\n",
       "<th>y</th>\n",
       "<th>z</th>\n",
       "</tr>\n",
       "</thead>\n",
       "<tbody>\n",
       "<tr>\n",
       "<td></td>\n",
       "<td>int</td>\n",
       "<td>object</td>\n",
       "<td>int</td>\n",
       "</tr>\n",
       "<tr>\n",
       "<td>0</td>\n",
       "<td>1</td>\n",
       "<td>one</td>\n",
       "<td>0</td>\n",
       "</tr>\n",
       "<tr>\n",
       "<td>1</td>\n",
       "<td>2</td>\n",
       "<td>two</td>\n",
       "<td>0</td>\n",
       "</tr>\n",
       "<tr>\n",
       "<td>2</td>\n",
       "<td>3</td>\n",
       "<td>one</td>\n",
       "<td>0</td>\n",
       "</tr>\n",
       "<tr>\n",
       "<td>3</td>\n",
       "<td>4</td>\n",
       "<td>two</td>\n",
       "<td>1</td>\n",
       "</tr>\n",
       "<tr>\n",
       "<td>4</td>\n",
       "<td>5</td>\n",
       "<td>one</td>\n",
       "<td>1</td>\n",
       "</tr>\n",
       "<tr>\n",
       "<td>5</td>\n",
       "<td>6</td>\n",
       "<td>two</td>\n",
       "<td>1</td>\n",
       "</tr>\n",
       "</tbody>\n",
       "</table>"
      ],
      "text/plain": [
       "Tafra(\n",
       "data = {\n",
       "  'x': array([1, 2, 3, 4, 5, 6, 1, 2, 3, 4, 5, 6]),\n",
       " 'y': array(['one', 'two', 'one', 'two', 'one', 'two', 'one', 'two', 'one',\n",
       "       'two', 'one', 'two'], dtype=object),\n",
       " 'z': array([0, 0, 0, 1, 1, 1, 0, 0, 0, 1, 1, 1])},\n",
       "dtypes = {\n",
       "  'x': 'int', 'y': 'object', 'z': 'int'}\n",
       ")"
      ]
     },
     "execution_count": 32,
     "metadata": {},
     "output_type": "execute_result"
    }
   ],
   "source": [
    "t3 = t.copy()\n",
    "t2.union(t3, inplace=True)\n",
    "t2"
   ]
  },
  {
   "cell_type": "code",
   "execution_count": 33,
   "metadata": {
    "ExecuteTime": {
     "end_time": "2020-05-30T23:32:57.916885Z",
     "start_time": "2020-05-30T23:32:57.907876Z"
    }
   },
   "outputs": [
    {
     "data": {
      "text/plain": [
       "array([0, 2, 3, 4, 5, 6])"
      ]
     },
     "execution_count": 33,
     "metadata": {},
     "output_type": "execute_result"
    }
   ],
   "source": [
    "x = t[:3]\n",
    "x['x'][0] = 0\n",
    "t['x']"
   ]
  },
  {
   "cell_type": "code",
   "execution_count": 34,
   "metadata": {
    "ExecuteTime": {
     "end_time": "2020-05-30T23:32:57.925853Z",
     "start_time": "2020-05-30T23:32:57.917848Z"
    }
   },
   "outputs": [
    {
     "data": {
      "text/plain": [
       "array([7, 2, 3, 4, 5, 6])"
      ]
     },
     "execution_count": 34,
     "metadata": {},
     "output_type": "execute_result"
    }
   ],
   "source": [
    "x = t[slice(0, 3)]\n",
    "x['x'][0] = 7\n",
    "t['x']"
   ]
  },
  {
   "cell_type": "code",
   "execution_count": 35,
   "metadata": {
    "ExecuteTime": {
     "end_time": "2020-05-30T23:32:57.938792Z",
     "start_time": "2020-05-30T23:32:57.926823Z"
    }
   },
   "outputs": [
    {
     "data": {
      "text/plain": [
       "array([7, 2, 3, 4, 5, 6])"
      ]
     },
     "execution_count": 35,
     "metadata": {},
     "output_type": "execute_result"
    }
   ],
   "source": [
    "z = t[:3].copy()\n",
    "z['x'][0] = 9\n",
    "t['x']"
   ]
  },
  {
   "cell_type": "code",
   "execution_count": 36,
   "metadata": {
    "ExecuteTime": {
     "end_time": "2020-05-30T23:32:57.947769Z",
     "start_time": "2020-05-30T23:32:57.940787Z"
    }
   },
   "outputs": [
    {
     "name": "stdout",
     "output_type": "stream",
     "text": [
      "[ 2 15  4]\n",
      "[7 2 3 4 5 6]\n"
     ]
    }
   ],
   "source": [
    "a = t[t['x'] <= 4]\n",
    "a['x'][1] = 15\n",
    "print(a['x'])\n",
    "print(t['x'])"
   ]
  },
  {
   "cell_type": "code",
   "execution_count": 37,
   "metadata": {
    "ExecuteTime": {
     "end_time": "2020-05-30T23:32:57.957741Z",
     "start_time": "2020-05-30T23:32:57.949763Z"
    }
   },
   "outputs": [],
   "source": [
    "t.update_dtypes({'x': float})"
   ]
  },
  {
   "cell_type": "code",
   "execution_count": 38,
   "metadata": {
    "ExecuteTime": {
     "end_time": "2020-05-30T23:32:57.966752Z",
     "start_time": "2020-05-30T23:32:57.958738Z"
    }
   },
   "outputs": [],
   "source": [
    "t.update_dtypes({'x': 'float'})"
   ]
  },
  {
   "cell_type": "code",
   "execution_count": 39,
   "metadata": {
    "ExecuteTime": {
     "end_time": "2020-05-30T23:32:57.976691Z",
     "start_time": "2020-05-30T23:32:57.968715Z"
    }
   },
   "outputs": [
    {
     "name": "stdout",
     "output_type": "stream",
     "text": [
      "`flot` is not a valid dtype for `x.`\n",
      "`st` is not a valid dtype for `y.`\n",
      "\n"
     ]
    }
   ],
   "source": [
    "try:\n",
    "    t.update_dtypes({'x': 'flot', 'y': 'st'})\n",
    "except Exception as e:\n",
    "    print(e)"
   ]
  },
  {
   "cell_type": "code",
   "execution_count": 40,
   "metadata": {
    "ExecuteTime": {
     "end_time": "2020-05-30T23:32:57.988700Z",
     "start_time": "2020-05-30T23:32:57.977688Z"
    }
   },
   "outputs": [
    {
     "data": {
      "text/html": [
       "<table>\n",
       "<thead>\n",
       "<tr>\n",
       "<th></th>\n",
       "<th>x</th>\n",
       "<th>y</th>\n",
       "<th>z</th>\n",
       "</tr>\n",
       "</thead>\n",
       "<tbody>\n",
       "<tr>\n",
       "<td></td>\n",
       "<td>int</td>\n",
       "<td>object</td>\n",
       "<td>int</td>\n",
       "</tr>\n",
       "<tr>\n",
       "<td>0</td>\n",
       "<td>7</td>\n",
       "<td>one</td>\n",
       "<td>0</td>\n",
       "</tr>\n",
       "<tr>\n",
       "<td>1</td>\n",
       "<td>2</td>\n",
       "<td>two</td>\n",
       "<td>0</td>\n",
       "</tr>\n",
       "<tr>\n",
       "<td>2</td>\n",
       "<td>3</td>\n",
       "<td>one</td>\n",
       "<td>0</td>\n",
       "</tr>\n",
       "<tr>\n",
       "<td>3</td>\n",
       "<td>4</td>\n",
       "<td>two</td>\n",
       "<td>1</td>\n",
       "</tr>\n",
       "<tr>\n",
       "<td>4</td>\n",
       "<td>5</td>\n",
       "<td>one</td>\n",
       "<td>1</td>\n",
       "</tr>\n",
       "<tr>\n",
       "<td>5</td>\n",
       "<td>6</td>\n",
       "<td>two</td>\n",
       "<td>1</td>\n",
       "</tr>\n",
       "</tbody>\n",
       "</table>"
      ],
      "text/plain": [
       "Tafra(\n",
       "data = {\n",
       "  'x': array([7, 2, 3, 4, 5, 6]),\n",
       " 'y': array(['one', 'two', 'one', 'two', 'one', 'two'], dtype=object),\n",
       " 'z': array([0, 0, 0, 1, 1, 1])},\n",
       "dtypes = {\n",
       "  'x': 'int', 'y': 'object', 'z': 'int'}\n",
       ")"
      ]
     },
     "execution_count": 40,
     "metadata": {},
     "output_type": "execute_result"
    }
   ],
   "source": [
    "t.update_dtypes({'x': int})\n",
    "o = t.copy()\n",
    "t.update(o)\n",
    "t"
   ]
  },
  {
   "cell_type": "code",
   "execution_count": 41,
   "metadata": {
    "ExecuteTime": {
     "end_time": "2020-05-30T23:32:57.998639Z",
     "start_time": "2020-05-30T23:32:57.989657Z"
    }
   },
   "outputs": [
    {
     "data": {
      "text/html": [
       "<table>\n",
       "<thead>\n",
       "<tr>\n",
       "<th></th>\n",
       "<th>x</th>\n",
       "<th>y</th>\n",
       "<th>z</th>\n",
       "</tr>\n",
       "</thead>\n",
       "<tbody>\n",
       "<tr>\n",
       "<td></td>\n",
       "<td>float</td>\n",
       "<td>object</td>\n",
       "<td>int</td>\n",
       "</tr>\n",
       "<tr>\n",
       "<td>0</td>\n",
       "<td>7.0</td>\n",
       "<td>one</td>\n",
       "<td>0</td>\n",
       "</tr>\n",
       "<tr>\n",
       "<td>1</td>\n",
       "<td>2.0</td>\n",
       "<td>two</td>\n",
       "<td>0</td>\n",
       "</tr>\n",
       "<tr>\n",
       "<td>2</td>\n",
       "<td>3.0</td>\n",
       "<td>one</td>\n",
       "<td>0</td>\n",
       "</tr>\n",
       "<tr>\n",
       "<td>3</td>\n",
       "<td>4.0</td>\n",
       "<td>two</td>\n",
       "<td>1</td>\n",
       "</tr>\n",
       "<tr>\n",
       "<td>4</td>\n",
       "<td>5.0</td>\n",
       "<td>one</td>\n",
       "<td>1</td>\n",
       "</tr>\n",
       "<tr>\n",
       "<td>5</td>\n",
       "<td>6.0</td>\n",
       "<td>two</td>\n",
       "<td>1</td>\n",
       "</tr>\n",
       "</tbody>\n",
       "</table>"
      ],
      "text/plain": [
       "Tafra(\n",
       "data = {\n",
       "  'x': array([7., 2., 3., 4., 5., 6.]),\n",
       " 'y': array(['one', 'two', 'one', 'two', 'one', 'two'], dtype=object),\n",
       " 'z': array([0, 0, 0, 1, 1, 1])},\n",
       "dtypes = {\n",
       "  'x': 'float', 'y': 'object', 'z': 'int'}\n",
       ")"
      ]
     },
     "execution_count": 41,
     "metadata": {},
     "output_type": "execute_result"
    }
   ],
   "source": [
    "o.update_dtypes({'x': float})\n",
    "t.update(o)\n",
    "t"
   ]
  },
  {
   "cell_type": "markdown",
   "metadata": {},
   "source": [
    "Direct assignment to the `_data` `dict()` is not recommended as it bypasses validation."
   ]
  },
  {
   "cell_type": "code",
   "execution_count": 42,
   "metadata": {
    "ExecuteTime": {
     "end_time": "2020-05-30T23:32:58.008630Z",
     "start_time": "2020-05-30T23:32:57.999630Z"
    }
   },
   "outputs": [
    {
     "name": "stdout",
     "output_type": "stream",
     "text": [
      "`Tafra` must have consistent row counts.\n"
     ]
    }
   ],
   "source": [
    "o._data['x'] = np.arange(5)\n",
    "try:\n",
    "    o.__post_init__()\n",
    "except Exception as e:\n",
    "    print(e)"
   ]
  },
  {
   "cell_type": "code",
   "execution_count": 43,
   "metadata": {
    "ExecuteTime": {
     "end_time": "2020-05-30T23:32:58.020585Z",
     "start_time": "2020-05-30T23:32:58.009602Z"
    }
   },
   "outputs": [
    {
     "name": "stdout",
     "output_type": "stream",
     "text": [
      "Other `Tafra` must have consistent row count. This `Tafra` has 6 rows, other `Tafra` has 5 rows.\n"
     ]
    },
    {
     "data": {
      "text/html": [
       "<table>\n",
       "<thead>\n",
       "<tr>\n",
       "<th></th>\n",
       "<th>x</th>\n",
       "<th>y</th>\n",
       "<th>z</th>\n",
       "</tr>\n",
       "</thead>\n",
       "<tbody>\n",
       "<tr>\n",
       "<td></td>\n",
       "<td>float</td>\n",
       "<td>object</td>\n",
       "<td>int</td>\n",
       "</tr>\n",
       "<tr>\n",
       "<td>0</td>\n",
       "<td>7.0</td>\n",
       "<td>one</td>\n",
       "<td>0</td>\n",
       "</tr>\n",
       "<tr>\n",
       "<td>1</td>\n",
       "<td>2.0</td>\n",
       "<td>two</td>\n",
       "<td>0</td>\n",
       "</tr>\n",
       "<tr>\n",
       "<td>2</td>\n",
       "<td>3.0</td>\n",
       "<td>one</td>\n",
       "<td>0</td>\n",
       "</tr>\n",
       "<tr>\n",
       "<td>3</td>\n",
       "<td>4.0</td>\n",
       "<td>two</td>\n",
       "<td>1</td>\n",
       "</tr>\n",
       "<tr>\n",
       "<td>4</td>\n",
       "<td>5.0</td>\n",
       "<td>one</td>\n",
       "<td>1</td>\n",
       "</tr>\n",
       "<tr>\n",
       "<td>5</td>\n",
       "<td>6.0</td>\n",
       "<td>two</td>\n",
       "<td>1</td>\n",
       "</tr>\n",
       "</tbody>\n",
       "</table>"
      ],
      "text/plain": [
       "Tafra(\n",
       "data = {\n",
       "  'x': array([7., 2., 3., 4., 5., 6.]),\n",
       " 'y': array(['one', 'two', 'one', 'two', 'one', 'two'], dtype=object),\n",
       " 'z': array([0, 0, 0, 1, 1, 1])},\n",
       "dtypes = {\n",
       "  'x': 'float', 'y': 'object', 'z': 'int'}\n",
       ")"
      ]
     },
     "execution_count": 43,
     "metadata": {},
     "output_type": "execute_result"
    }
   ],
   "source": [
    "try:\n",
    "    t.update(o)\n",
    "except Exception as e:\n",
    "    print(e)\n",
    "t"
   ]
  },
  {
   "cell_type": "code",
   "execution_count": 44,
   "metadata": {
    "ExecuteTime": {
     "end_time": "2020-05-30T23:32:58.030547Z",
     "start_time": "2020-05-30T23:32:58.021570Z"
    }
   },
   "outputs": [
    {
     "data": {
      "text/html": [
       "<table>\n",
       "<thead>\n",
       "<tr>\n",
       "<th></th>\n",
       "<th>x</th>\n",
       "<th>y</th>\n",
       "<th>z</th>\n",
       "</tr>\n",
       "</thead>\n",
       "<tbody>\n",
       "<tr>\n",
       "<td></td>\n",
       "<td>int</td>\n",
       "<td>object</td>\n",
       "<td>int</td>\n",
       "</tr>\n",
       "<tr>\n",
       "<td>0</td>\n",
       "<td>0</td>\n",
       "<td>one</td>\n",
       "<td>0</td>\n",
       "</tr>\n",
       "<tr>\n",
       "<td>1</td>\n",
       "<td>1</td>\n",
       "<td>two</td>\n",
       "<td>0</td>\n",
       "</tr>\n",
       "<tr>\n",
       "<td>2</td>\n",
       "<td>2</td>\n",
       "<td>one</td>\n",
       "<td>0</td>\n",
       "</tr>\n",
       "<tr>\n",
       "<td>3</td>\n",
       "<td>3</td>\n",
       "<td>two</td>\n",
       "<td>1</td>\n",
       "</tr>\n",
       "<tr>\n",
       "<td>4</td>\n",
       "<td>4</td>\n",
       "<td>one</td>\n",
       "<td>1</td>\n",
       "</tr>\n",
       "<tr>\n",
       "<td>5</td>\n",
       "<td>5</td>\n",
       "<td>two</td>\n",
       "<td>1</td>\n",
       "</tr>\n",
       "</tbody>\n",
       "</table>"
      ],
      "text/plain": [
       "Tafra(\n",
       "data = {\n",
       "  'x': array([0, 1, 2, 3, 4, 5]),\n",
       " 'y': array(['one', 'two', 'one', 'two', 'one', 'two'], dtype=object),\n",
       " 'z': array([0, 0, 0, 1, 1, 1])},\n",
       "dtypes = {\n",
       "  'x': 'int', 'y': 'object', 'z': 'int'}\n",
       ")"
      ]
     },
     "execution_count": 44,
     "metadata": {},
     "output_type": "execute_result"
    }
   ],
   "source": [
    "try:\n",
    "    t['x'] = list(range(6))\n",
    "except Exception as e:\n",
    "    print(e)\n",
    "t"
   ]
  },
  {
   "cell_type": "code",
   "execution_count": 45,
   "metadata": {
    "ExecuteTime": {
     "end_time": "2020-05-30T23:32:58.040520Z",
     "start_time": "2020-05-30T23:32:58.032542Z"
    }
   },
   "outputs": [
    {
     "name": "stderr",
     "output_type": "stream",
     "text": [
      "c:\\users\\dfulford\\projects\\petbox\\tafra\\tafra\\base.py:218: UserWarning: `np.squeeze(ndarray)` applied to set ndim == 1.\n",
      "  warnings.warn('`np.squeeze(ndarray)` applied to set ndim == 1.')\n"
     ]
    }
   ],
   "source": [
    "t['x'] = np.arange(6)[:, None]"
   ]
  },
  {
   "cell_type": "code",
   "execution_count": 46,
   "metadata": {
    "ExecuteTime": {
     "end_time": "2020-05-30T23:32:58.053486Z",
     "start_time": "2020-05-30T23:32:58.041517Z"
    }
   },
   "outputs": [
    {
     "name": "stderr",
     "output_type": "stream",
     "text": [
      "c:\\users\\dfulford\\projects\\petbox\\tafra\\tafra\\base.py:218: UserWarning: `np.squeeze(ndarray)` applied to set ndim == 1.\n",
      "  warnings.warn('`np.squeeze(ndarray)` applied to set ndim == 1.')\n"
     ]
    },
    {
     "data": {
      "text/html": [
       "<table>\n",
       "<thead>\n",
       "<tr>\n",
       "<th></th>\n",
       "<th>x</th>\n",
       "<th>y</th>\n",
       "<th>z</th>\n",
       "</tr>\n",
       "</thead>\n",
       "<tbody>\n",
       "<tr>\n",
       "<td></td>\n",
       "<td>int</td>\n",
       "<td>object</td>\n",
       "<td>int</td>\n",
       "</tr>\n",
       "<tr>\n",
       "<td>0</td>\n",
       "<td>0</td>\n",
       "<td>one</td>\n",
       "<td>0</td>\n",
       "</tr>\n",
       "<tr>\n",
       "<td>1</td>\n",
       "<td>1</td>\n",
       "<td>two</td>\n",
       "<td>0</td>\n",
       "</tr>\n",
       "<tr>\n",
       "<td>2</td>\n",
       "<td>2</td>\n",
       "<td>one</td>\n",
       "<td>0</td>\n",
       "</tr>\n",
       "<tr>\n",
       "<td>3</td>\n",
       "<td>3</td>\n",
       "<td>two</td>\n",
       "<td>1</td>\n",
       "</tr>\n",
       "<tr>\n",
       "<td>4</td>\n",
       "<td>4</td>\n",
       "<td>one</td>\n",
       "<td>1</td>\n",
       "</tr>\n",
       "<tr>\n",
       "<td>5</td>\n",
       "<td>5</td>\n",
       "<td>two</td>\n",
       "<td>1</td>\n",
       "</tr>\n",
       "</tbody>\n",
       "</table>"
      ],
      "text/plain": [
       "Tafra(\n",
       "data = {\n",
       "  'x': array([0, 1, 2, 3, 4, 5]),\n",
       " 'y': array(['one', 'two', 'one', 'two', 'one', 'two'], dtype=object),\n",
       " 'z': array([0, 0, 0, 1, 1, 1])},\n",
       "dtypes = {\n",
       "  'x': 'int', 'y': 'object', 'z': 'int'}\n",
       ")"
      ]
     },
     "execution_count": 46,
     "metadata": {},
     "output_type": "execute_result"
    }
   ],
   "source": [
    "try:\n",
    "    t['x'] = np.atleast_2d(np.arange(6))\n",
    "except Exception as e:\n",
    "    print(e)\n",
    "t"
   ]
  },
  {
   "cell_type": "code",
   "execution_count": 47,
   "metadata": {
    "ExecuteTime": {
     "end_time": "2020-05-30T23:32:58.064457Z",
     "start_time": "2020-05-30T23:32:58.054483Z"
    }
   },
   "outputs": [
    {
     "name": "stderr",
     "output_type": "stream",
     "text": [
      "c:\\users\\dfulford\\projects\\petbox\\tafra\\tafra\\base.py:218: UserWarning: `np.squeeze(ndarray)` applied to set ndim == 1.\n",
      "  warnings.warn('`np.squeeze(ndarray)` applied to set ndim == 1.')\n"
     ]
    },
    {
     "data": {
      "text/html": [
       "<table>\n",
       "<thead>\n",
       "<tr>\n",
       "<th></th>\n",
       "<th>x</th>\n",
       "<th>y</th>\n",
       "<th>z</th>\n",
       "</tr>\n",
       "</thead>\n",
       "<tbody>\n",
       "<tr>\n",
       "<td></td>\n",
       "<td>int</td>\n",
       "<td>object</td>\n",
       "<td>int</td>\n",
       "</tr>\n",
       "<tr>\n",
       "<td>0</td>\n",
       "<td>0</td>\n",
       "<td>one</td>\n",
       "<td>0</td>\n",
       "</tr>\n",
       "<tr>\n",
       "<td>1</td>\n",
       "<td>1</td>\n",
       "<td>two</td>\n",
       "<td>0</td>\n",
       "</tr>\n",
       "<tr>\n",
       "<td>2</td>\n",
       "<td>2</td>\n",
       "<td>one</td>\n",
       "<td>0</td>\n",
       "</tr>\n",
       "<tr>\n",
       "<td>3</td>\n",
       "<td>3</td>\n",
       "<td>two</td>\n",
       "<td>1</td>\n",
       "</tr>\n",
       "<tr>\n",
       "<td>4</td>\n",
       "<td>4</td>\n",
       "<td>one</td>\n",
       "<td>1</td>\n",
       "</tr>\n",
       "<tr>\n",
       "<td>5</td>\n",
       "<td>5</td>\n",
       "<td>two</td>\n",
       "<td>1</td>\n",
       "</tr>\n",
       "</tbody>\n",
       "</table>"
      ],
      "text/plain": [
       "Tafra(\n",
       "data = {\n",
       "  'x': array([0, 1, 2, 3, 4, 5]),\n",
       " 'y': array(['one', 'two', 'one', 'two', 'one', 'two'], dtype=object),\n",
       " 'z': array([0, 0, 0, 1, 1, 1])},\n",
       "dtypes = {\n",
       "  'x': 'int', 'y': 'object', 'z': 'int'}\n",
       ")"
      ]
     },
     "execution_count": 47,
     "metadata": {},
     "output_type": "execute_result"
    }
   ],
   "source": [
    "t['x'] = np.atleast_2d(np.arange(6)).T\n",
    "t"
   ]
  },
  {
   "cell_type": "code",
   "execution_count": 48,
   "metadata": {
    "ExecuteTime": {
     "end_time": "2020-05-30T23:32:58.073465Z",
     "start_time": "2020-05-30T23:32:58.066451Z"
    }
   },
   "outputs": [
    {
     "name": "stderr",
     "output_type": "stream",
     "text": [
      "c:\\users\\dfulford\\projects\\petbox\\tafra\\tafra\\base.py:218: UserWarning: `np.squeeze(ndarray)` applied to set ndim == 1.\n",
      "  warnings.warn('`np.squeeze(ndarray)` applied to set ndim == 1.')\n"
     ]
    }
   ],
   "source": [
    "try:\n",
    "    t['x'] = np.atleast_2d(np.arange(6))\n",
    "except Exception as e:\n",
    "    print(e)"
   ]
  },
  {
   "cell_type": "code",
   "execution_count": 49,
   "metadata": {
    "ExecuteTime": {
     "end_time": "2020-05-30T23:32:58.083406Z",
     "start_time": "2020-05-30T23:32:58.074430Z"
    }
   },
   "outputs": [
    {
     "name": "stdout",
     "output_type": "stream",
     "text": [
      "`ndarray` or `np.squeeze(ndarray)` must have ndim == 1.\n"
     ]
    }
   ],
   "source": [
    "try:\n",
    "    t['x'] = np.repeat(np.arange(6)[:, None], repeats=2, axis=1)\n",
    "except Exception as e:\n",
    "    print(e)"
   ]
  },
  {
   "cell_type": "code",
   "execution_count": 50,
   "metadata": {
    "ExecuteTime": {
     "end_time": "2020-05-30T23:32:58.096371Z",
     "start_time": "2020-05-30T23:32:58.084403Z"
    }
   },
   "outputs": [
    {
     "data": {
      "text/html": [
       "<table>\n",
       "<thead>\n",
       "<tr>\n",
       "<th></th>\n",
       "<th>x</th>\n",
       "<th>y</th>\n",
       "<th>z</th>\n",
       "<th>d</th>\n",
       "</tr>\n",
       "</thead>\n",
       "<tbody>\n",
       "<tr>\n",
       "<td></td>\n",
       "<td>int</td>\n",
       "<td>object</td>\n",
       "<td>int</td>\n",
       "<td>date</td>\n",
       "</tr>\n",
       "<tr>\n",
       "<td>0</td>\n",
       "<td>1</td>\n",
       "<td>one</td>\n",
       "<td>0</td>\n",
       "<td>1970-01-01</td>\n",
       "</tr>\n",
       "<tr>\n",
       "<td>1</td>\n",
       "<td>2</td>\n",
       "<td>two</td>\n",
       "<td>0</td>\n",
       "<td>1970-01-02</td>\n",
       "</tr>\n",
       "<tr>\n",
       "<td>2</td>\n",
       "<td>3</td>\n",
       "<td>one</td>\n",
       "<td>0</td>\n",
       "<td>1970-01-03</td>\n",
       "</tr>\n",
       "<tr>\n",
       "<td>3</td>\n",
       "<td>4</td>\n",
       "<td>two</td>\n",
       "<td>1</td>\n",
       "<td>1970-01-04</td>\n",
       "</tr>\n",
       "<tr>\n",
       "<td>4</td>\n",
       "<td>5</td>\n",
       "<td>one</td>\n",
       "<td>1</td>\n",
       "<td>1970-01-05</td>\n",
       "</tr>\n",
       "<tr>\n",
       "<td>5</td>\n",
       "<td>6</td>\n",
       "<td>two</td>\n",
       "<td>1</td>\n",
       "<td>1970-01-06</td>\n",
       "</tr>\n",
       "</tbody>\n",
       "</table>"
      ],
      "text/plain": [
       "Tafra(\n",
       "data = {\n",
       "  'd': array(['1970-01-01', '1970-01-02', '1970-01-03', '1970-01-04',\n",
       "       '1970-01-05', '1970-01-06'], dtype='datetime64[D]'),\n",
       " 'x': array([1, 2, 3, 4, 5, 6]),\n",
       " 'y': array(['one', 'two', 'one', 'two', 'one', 'two'], dtype=object),\n",
       " 'z': array([0, 0, 0, 1, 1, 1])},\n",
       "dtypes = {\n",
       "  'd': 'date', 'x': 'int', 'y': 'object', 'z': 'int'}\n",
       ")"
      ]
     },
     "execution_count": 50,
     "metadata": {},
     "output_type": "execute_result"
    }
   ],
   "source": [
    "t = Tafra({\n",
    "    'x': np.array([1, 2, 3, 4, 5, 6]),\n",
    "    'y': np.array(['one', 'two', 'one', 'two', 'one', 'two'], dtype='object'),\n",
    "    'z': np.array([0, 0, 0, 1, 1, 1])\n",
    "})\n",
    "\n",
    "t['d'] = np.array([np.datetime64(_, 'D') for _ in range(6)])\n",
    "\n",
    "t"
   ]
  },
  {
   "cell_type": "code",
   "execution_count": 51,
   "metadata": {
    "ExecuteTime": {
     "end_time": "2020-05-30T23:32:58.106344Z",
     "start_time": "2020-05-30T23:32:58.097369Z"
    }
   },
   "outputs": [
    {
     "name": "stdout",
     "output_type": "stream",
     "text": [
      "((1, 'one', 0, '1970-01-01'),\n",
      " (2, 'two', 0, '1970-01-02'),\n",
      " (3, 'one', 0, '1970-01-03'),\n",
      " (4, 'two', 1, '1970-01-04'),\n",
      " (5, 'one', 1, '1970-01-05'),\n",
      " (6, 'two', 1, '1970-01-06'))\n"
     ]
    }
   ],
   "source": [
    "pprint(tuple(t.to_records()))"
   ]
  },
  {
   "cell_type": "code",
   "execution_count": 52,
   "metadata": {
    "ExecuteTime": {
     "end_time": "2020-05-30T23:32:58.117316Z",
     "start_time": "2020-05-30T23:32:58.107341Z"
    }
   },
   "outputs": [
    {
     "name": "stdout",
     "output_type": "stream",
     "text": [
      "[array([1, 2, 3, 4, 5, 6]),\n",
      " array(['one', 'two', 'one', 'two', 'one', 'two'], dtype=object),\n",
      " array([0, 0, 0, 1, 1, 1]),\n",
      " array(['1970-01-01', '1970-01-02', '1970-01-03', '1970-01-04',\n",
      "       '1970-01-05', '1970-01-06'], dtype='datetime64[D]')]\n"
     ]
    }
   ],
   "source": [
    "pprint(t.to_list())"
   ]
  },
  {
   "cell_type": "code",
   "execution_count": 53,
   "metadata": {
    "ExecuteTime": {
     "end_time": "2020-05-30T23:32:58.127288Z",
     "start_time": "2020-05-30T23:32:58.118313Z"
    }
   },
   "outputs": [
    {
     "data": {
      "text/html": [
       "<table>\n",
       "<thead>\n",
       "<tr>\n",
       "<th></th>\n",
       "<th>x</th>\n",
       "</tr>\n",
       "</thead>\n",
       "<tbody>\n",
       "<tr>\n",
       "<td></td>\n",
       "<td>object</td>\n",
       "</tr>\n",
       "<tr>\n",
       "<td>0</td>\n",
       "<td>1</td>\n",
       "</tr>\n",
       "<tr>\n",
       "<td>1</td>\n",
       "<td>2</td>\n",
       "</tr>\n",
       "<tr>\n",
       "<td>2</td>\n",
       "<td>None</td>\n",
       "</tr>\n",
       "<tr>\n",
       "<td>3</td>\n",
       "<td>4</td>\n",
       "</tr>\n",
       "<tr>\n",
       "<td>4</td>\n",
       "<td>None</td>\n",
       "</tr>\n",
       "</tbody>\n",
       "</table>"
      ],
      "text/plain": [
       "Tafra(\n",
       "data = {\n",
       "  'x': array([1, 2, None, 4, None], dtype=object)},\n",
       "dtypes = {\n",
       "  'x': 'object'}\n",
       ")"
      ]
     },
     "execution_count": 53,
     "metadata": {},
     "output_type": "execute_result"
    }
   ],
   "source": [
    "t = Tafra({'x': np.array([1, 2, None, 4, None])})\n",
    "t"
   ]
  },
  {
   "cell_type": "code",
   "execution_count": 54,
   "metadata": {
    "ExecuteTime": {
     "end_time": "2020-05-30T23:32:58.138261Z",
     "start_time": "2020-05-30T23:32:58.129284Z"
    }
   },
   "outputs": [
    {
     "data": {
      "text/html": [
       "<table>\n",
       "<thead>\n",
       "<tr>\n",
       "<th></th>\n",
       "<th>x</th>\n",
       "</tr>\n",
       "</thead>\n",
       "<tbody>\n",
       "<tr>\n",
       "<td></td>\n",
       "<td>object</td>\n",
       "</tr>\n",
       "<tr>\n",
       "<td>0</td>\n",
       "<td>1</td>\n",
       "</tr>\n",
       "<tr>\n",
       "<td>1</td>\n",
       "<td>2</td>\n",
       "</tr>\n",
       "<tr>\n",
       "<td>2</td>\n",
       "<td>1</td>\n",
       "</tr>\n",
       "<tr>\n",
       "<td>3</td>\n",
       "<td>4</td>\n",
       "</tr>\n",
       "<tr>\n",
       "<td>4</td>\n",
       "<td>1</td>\n",
       "</tr>\n",
       "</tbody>\n",
       "</table>"
      ],
      "text/plain": [
       "Tafra(\n",
       "data = {\n",
       "  'x': array([1, 2, 1, 4, 1], dtype=object)},\n",
       "dtypes = {\n",
       "  'x': 'object'}\n",
       ")"
      ]
     },
     "execution_count": 54,
     "metadata": {},
     "output_type": "execute_result"
    }
   ],
   "source": [
    "t['x'] = t.coalesce('x', [[1, 2, 3, None, 5], [None, None, None, None, 'five']])\n",
    "t"
   ]
  }
 ],
 "metadata": {
  "kernelspec": {
   "display_name": "Python 3",
   "language": "python",
   "name": "python3"
  },
  "language_info": {
   "codemirror_mode": {
    "name": "ipython",
    "version": 3
   },
   "file_extension": ".py",
   "mimetype": "text/x-python",
   "name": "python",
   "nbconvert_exporter": "python",
   "pygments_lexer": "ipython3",
   "version": "3.7.6"
  },
  "varInspector": {
   "cols": {
    "lenName": 16,
    "lenType": 16,
    "lenVar": 40
   },
   "kernels_config": {
    "python": {
     "delete_cmd_postfix": "",
     "delete_cmd_prefix": "del ",
     "library": "var_list.py",
     "varRefreshCmd": "print(var_dic_list())"
    },
    "r": {
     "delete_cmd_postfix": ") ",
     "delete_cmd_prefix": "rm(",
     "library": "var_list.r",
     "varRefreshCmd": "cat(var_dic_list()) "
    }
   },
   "types_to_exclude": [
    "module",
    "function",
    "builtin_function_or_method",
    "instance",
    "_Feature"
   ],
   "window_display": false
  }
 },
 "nbformat": 4,
 "nbformat_minor": 4
}
