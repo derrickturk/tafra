{
 "cells": [
  {
   "cell_type": "code",
   "execution_count": 1,
   "metadata": {
    "ExecuteTime": {
     "end_time": "2020-05-01T20:59:19.376118Z",
     "start_time": "2020-05-01T20:59:19.244469Z"
    }
   },
   "outputs": [],
   "source": [
    "import numpy as np\n",
    "from tafra import Tafra"
   ]
  },
  {
   "cell_type": "code",
   "execution_count": 2,
   "metadata": {
    "ExecuteTime": {
     "end_time": "2020-05-01T20:59:19.392075Z",
     "start_time": "2020-05-01T20:59:19.377114Z"
    }
   },
   "outputs": [
    {
     "name": "stdout",
     "output_type": "stream",
     "text": [
      "List:\n",
      " [array([1, 2, 3, 4, 5, 6]), array(['one', 'two', 'one', 'two', 'one', 'two'], dtype=object), array([0, 0, 0, 1, 1, 1])]\n",
      "Record:\n",
      " ((1, 'one', 0), (2, 'two', 0), (3, 'one', 0), (4, 'two', 1), (5, 'one', 1), (6, 'two', 1))\n",
      "\n",
      "Group By:\n",
      " Tafra(_data={'y': array(['one', 'two', 'two', 'one'], dtype=object), 'z': array([0, 0, 1, 1]), 'x': array([ 4,  2, 10,  5])}, _dtypes={'y': 'object', 'z': 'int', 'x': 'int'})\n",
      "\n",
      "Transform:\n",
      " Tafra(_data={'y': array(['one', 'two', 'one', 'two', 'one', 'two'], dtype=object), 'z': array([0, 0, 0, 1, 1, 1]), 'x': array([ 4,  2,  4, 10,  5, 10])}, _dtypes={'y': 'object', 'z': 'int', 'x': 'int'})\n",
      "\n",
      "Iterate By:\t\n",
      "Tafra(_data={'x': array([1, 3, 5]), 'y': array(['one', 'one', 'one'], dtype=object), 'z': array([0, 0, 1])}, _dtypes={'x': 'int', 'y': 'object', 'z': 'int'})\n",
      "Tafra(_data={'x': array([2, 4, 6]), 'y': array(['two', 'two', 'two'], dtype=object), 'z': array([0, 1, 1])}, _dtypes={'x': 'int', 'y': 'object', 'z': 'int'})\n",
      "\n",
      "Group By in Iterate By:\t\n",
      "Tafra(_data={'z': array([0, 1]), 'x': array([4, 5])}, _dtypes={'z': 'int', 'x': 'int'})\n",
      "Tafra(_data={'z': array([0, 1]), 'x': array([ 2, 10])}, _dtypes={'z': 'int', 'x': 'int'})\n"
     ]
    }
   ],
   "source": [
    "t = Tafra({\n",
    "    'x': np.array([1, 2, 3, 4, 5, 6]),\n",
    "    'y': np.array(['one', 'two', 'one', 'two', 'one', 'two'], dtype='object'),\n",
    "    'z': np.array([0, 0, 0, 1, 1, 1])\n",
    "})\n",
    "print('List:\\n', t.to_list())\n",
    "print('Record:\\n', tuple(t.to_records()))\n",
    "\n",
    "\n",
    "gb = t.group_by(\n",
    "    ['y', 'z'], {'x': sum}\n",
    ")\n",
    "print('\\nGroup By:\\n', gb)\n",
    "\n",
    "\n",
    "tr = t.transform(\n",
    "    ['y', 'z'], {'x': sum}\n",
    ")\n",
    "\n",
    "print('\\nTransform:\\n', tr)\n",
    "\n",
    "\n",
    "it = t.iterate_by(\n",
    "    ['y']\n",
    ")\n",
    "\n",
    "print('\\nIterate By:\\t')\n",
    "[print(_) for _ in it];\n",
    "\n",
    "\n",
    "it = t.iterate_by(\n",
    "    ['y']\n",
    ")\n",
    "\n",
    "print('\\nGroup By in Iterate By:\\t')\n",
    "[print(_.group_by(['z'], {'x': sum})) for _ in it];"
   ]
  },
  {
   "cell_type": "code",
   "execution_count": 3,
   "metadata": {
    "ExecuteTime": {
     "end_time": "2020-05-01T20:59:19.405041Z",
     "start_time": "2020-05-01T20:59:19.394069Z"
    }
   },
   "outputs": [
    {
     "data": {
      "text/plain": [
       "array([0, 2, 3, 4, 5, 6])"
      ]
     },
     "execution_count": 3,
     "metadata": {},
     "output_type": "execute_result"
    }
   ],
   "source": [
    "x = t[:3]\n",
    "x['x'][0] = 0\n",
    "t['x']"
   ]
  },
  {
   "cell_type": "code",
   "execution_count": 4,
   "metadata": {
    "ExecuteTime": {
     "end_time": "2020-05-01T20:59:19.413017Z",
     "start_time": "2020-05-01T20:59:19.407034Z"
    }
   },
   "outputs": [
    {
     "data": {
      "text/plain": [
       "array([7, 2, 3, 4, 5, 6])"
      ]
     },
     "execution_count": 4,
     "metadata": {},
     "output_type": "execute_result"
    }
   ],
   "source": [
    "x = t[slice(0, 3)]\n",
    "x['x'][0] = 7\n",
    "t['x']"
   ]
  },
  {
   "cell_type": "code",
   "execution_count": 5,
   "metadata": {
    "ExecuteTime": {
     "end_time": "2020-05-01T20:59:19.419004Z",
     "start_time": "2020-05-01T20:59:19.414017Z"
    }
   },
   "outputs": [
    {
     "data": {
      "text/plain": [
       "array([7, 2, 3, 4, 5, 6])"
      ]
     },
     "execution_count": 5,
     "metadata": {},
     "output_type": "execute_result"
    }
   ],
   "source": [
    "z = t[:3].copy()\n",
    "z['x'][0] = 9\n",
    "t['x']"
   ]
  },
  {
   "cell_type": "code",
   "execution_count": 6,
   "metadata": {
    "ExecuteTime": {
     "end_time": "2020-05-01T20:59:19.423990Z",
     "start_time": "2020-05-01T20:59:19.420000Z"
    }
   },
   "outputs": [
    {
     "name": "stdout",
     "output_type": "stream",
     "text": [
      "[ 2 15  4]\n",
      "[7 2 3 4 5 6]\n"
     ]
    }
   ],
   "source": [
    "a = t[t['x'] <= 4]\n",
    "a['x'][1] = 15\n",
    "print(a['x'])\n",
    "print(t['x'])"
   ]
  },
  {
   "cell_type": "code",
   "execution_count": 7,
   "metadata": {
    "ExecuteTime": {
     "end_time": "2020-05-01T20:59:19.431967Z",
     "start_time": "2020-05-01T20:59:19.426981Z"
    }
   },
   "outputs": [],
   "source": [
    "t.update_types({'x': float})"
   ]
  },
  {
   "cell_type": "code",
   "execution_count": 8,
   "metadata": {
    "ExecuteTime": {
     "end_time": "2020-05-01T20:59:19.438949Z",
     "start_time": "2020-05-01T20:59:19.434976Z"
    }
   },
   "outputs": [],
   "source": [
    "t.update_types({'x': 'float'})"
   ]
  },
  {
   "cell_type": "code",
   "execution_count": 9,
   "metadata": {
    "ExecuteTime": {
     "end_time": "2020-05-01T20:59:19.443935Z",
     "start_time": "2020-05-01T20:59:19.439945Z"
    }
   },
   "outputs": [
    {
     "name": "stdout",
     "output_type": "stream",
     "text": [
      "`flot` is not a valid dtype for `x`\n",
      "`st` is not a valid dtype for `y`\n",
      "\n"
     ]
    }
   ],
   "source": [
    "try:\n",
    "    t.update_types({'x': 'flot', 'y': 'st'})\n",
    "except Exception as e:\n",
    "    print(e)"
   ]
  },
  {
   "cell_type": "code",
   "execution_count": 10,
   "metadata": {
    "ExecuteTime": {
     "end_time": "2020-05-01T20:59:19.450916Z",
     "start_time": "2020-05-01T20:59:19.444933Z"
    }
   },
   "outputs": [
    {
     "data": {
      "text/plain": [
       "Tafra(_data={'x': array([7, 2, 3, 4, 5, 6]), 'y': array(['one', 'two', 'one', 'two', 'one', 'two'], dtype=object), 'z': array([0, 0, 0, 1, 1, 1])}, _dtypes={'x': 'int', 'y': 'object', 'z': 'int'})"
      ]
     },
     "execution_count": 10,
     "metadata": {},
     "output_type": "execute_result"
    }
   ],
   "source": [
    "t.update_types({'x': int})\n",
    "o = t.copy()\n",
    "t.update(o)\n",
    "t"
   ]
  },
  {
   "cell_type": "code",
   "execution_count": 11,
   "metadata": {
    "ExecuteTime": {
     "end_time": "2020-05-01T20:59:19.457899Z",
     "start_time": "2020-05-01T20:59:19.451915Z"
    }
   },
   "outputs": [
    {
     "data": {
      "text/plain": [
       "Tafra(_data={'x': array([7., 2., 3., 4., 5., 6.]), 'y': array(['one', 'two', 'one', 'two', 'one', 'two'], dtype=object), 'z': array([0, 0, 0, 1, 1, 1])}, _dtypes={'x': 'float', 'y': 'object', 'z': 'int'})"
      ]
     },
     "execution_count": 11,
     "metadata": {},
     "output_type": "execute_result"
    }
   ],
   "source": [
    "o.update_types({'x': float})\n",
    "t.update(o)\n",
    "t"
   ]
  },
  {
   "cell_type": "code",
   "execution_count": 12,
   "metadata": {
    "ExecuteTime": {
     "end_time": "2020-05-01T20:59:19.464413Z",
     "start_time": "2020-05-01T20:59:19.459437Z"
    }
   },
   "outputs": [
    {
     "data": {
      "text/plain": [
       "Tafra(_data={'x': array([0, 1, 2, 3, 4]), 'y': array(['one', 'two', 'one', 'two', 'one', 'two'], dtype=object), 'z': array([0, 0, 0, 1, 1, 1])}, _dtypes={'x': 'float', 'y': 'object', 'z': 'int'})"
      ]
     },
     "execution_count": 12,
     "metadata": {},
     "output_type": "execute_result"
    }
   ],
   "source": [
    "o._data['x'] = np.arange(5)\n",
    "o"
   ]
  },
  {
   "cell_type": "code",
   "execution_count": 13,
   "metadata": {
    "ExecuteTime": {
     "end_time": "2020-05-01T20:59:19.471395Z",
     "start_time": "2020-05-01T20:59:19.465411Z"
    }
   },
   "outputs": [
    {
     "name": "stdout",
     "output_type": "stream",
     "text": [
      "Other `Tafra` must have consistent row count. This `Tafra` has 6 rows, other `Tafra` has 5 rows.\n"
     ]
    },
    {
     "data": {
      "text/plain": [
       "Tafra(_data={'x': array([7., 2., 3., 4., 5., 6.]), 'y': array(['one', 'two', 'one', 'two', 'one', 'two'], dtype=object), 'z': array([0, 0, 0, 1, 1, 1])}, _dtypes={'x': 'float', 'y': 'object', 'z': 'int'})"
      ]
     },
     "execution_count": 13,
     "metadata": {},
     "output_type": "execute_result"
    }
   ],
   "source": [
    "try:\n",
    "    t.update(o)\n",
    "except Exception as e:\n",
    "    print(e)\n",
    "t"
   ]
  },
  {
   "cell_type": "code",
   "execution_count": 14,
   "metadata": {
    "ExecuteTime": {
     "end_time": "2020-05-01T20:59:19.478378Z",
     "start_time": "2020-05-01T20:59:19.472394Z"
    }
   },
   "outputs": [
    {
     "data": {
      "text/plain": [
       "Tafra(_data={'x': array([0, 1, 2, 3, 4, 5]), 'y': array(['one', 'two', 'one', 'two', 'one', 'two'], dtype=object), 'z': array([0, 0, 0, 1, 1, 1])}, _dtypes={'x': 'int', 'y': 'object', 'z': 'int'})"
      ]
     },
     "execution_count": 14,
     "metadata": {},
     "output_type": "execute_result"
    }
   ],
   "source": [
    "try:\n",
    "    t['x'] = list(range(6))\n",
    "except Exception as e:\n",
    "    print(e)\n",
    "t"
   ]
  },
  {
   "cell_type": "code",
   "execution_count": 15,
   "metadata": {
    "ExecuteTime": {
     "end_time": "2020-05-01T20:59:19.484360Z",
     "start_time": "2020-05-01T20:59:19.479374Z"
    }
   },
   "outputs": [
    {
     "name": "stderr",
     "output_type": "stream",
     "text": [
      "c:\\users\\dfulford\\projects\\tafra\\tafra\\tafra.py:132: UserWarning: `np.squeeze(ndarray)` applied to set ndim == 1\n",
      "  warnings.warn('`np.squeeze(ndarray)` applied to set ndim == 1')\n"
     ]
    }
   ],
   "source": [
    "t['x'] = np.arange(6)[:, None]"
   ]
  },
  {
   "cell_type": "code",
   "execution_count": 16,
   "metadata": {
    "ExecuteTime": {
     "end_time": "2020-05-01T20:59:19.491343Z",
     "start_time": "2020-05-01T20:59:19.486355Z"
    }
   },
   "outputs": [
    {
     "name": "stderr",
     "output_type": "stream",
     "text": [
      "c:\\users\\dfulford\\projects\\tafra\\tafra\\tafra.py:132: UserWarning: `np.squeeze(ndarray)` applied to set ndim == 1\n",
      "  warnings.warn('`np.squeeze(ndarray)` applied to set ndim == 1')\n"
     ]
    },
    {
     "data": {
      "text/plain": [
       "Tafra(_data={'x': array([0, 1, 2, 3, 4, 5]), 'y': array(['one', 'two', 'one', 'two', 'one', 'two'], dtype=object), 'z': array([0, 0, 0, 1, 1, 1])}, _dtypes={'x': 'int', 'y': 'object', 'z': 'int'})"
      ]
     },
     "execution_count": 16,
     "metadata": {},
     "output_type": "execute_result"
    }
   ],
   "source": [
    "try:\n",
    "    t['x'] = np.atleast_2d(np.arange(6))\n",
    "except Exception as e:\n",
    "    print(e)\n",
    "t"
   ]
  },
  {
   "cell_type": "code",
   "execution_count": 17,
   "metadata": {
    "ExecuteTime": {
     "end_time": "2020-05-01T20:59:19.497327Z",
     "start_time": "2020-05-01T20:59:19.492340Z"
    }
   },
   "outputs": [
    {
     "name": "stderr",
     "output_type": "stream",
     "text": [
      "c:\\users\\dfulford\\projects\\tafra\\tafra\\tafra.py:132: UserWarning: `np.squeeze(ndarray)` applied to set ndim == 1\n",
      "  warnings.warn('`np.squeeze(ndarray)` applied to set ndim == 1')\n"
     ]
    },
    {
     "data": {
      "text/plain": [
       "Tafra(_data={'x': array([0, 1, 2, 3, 4, 5]), 'y': array(['one', 'two', 'one', 'two', 'one', 'two'], dtype=object), 'z': array([0, 0, 0, 1, 1, 1])}, _dtypes={'x': 'int', 'y': 'object', 'z': 'int'})"
      ]
     },
     "execution_count": 17,
     "metadata": {},
     "output_type": "execute_result"
    }
   ],
   "source": [
    "t['x'] = np.atleast_2d(np.arange(6)).T\n",
    "t"
   ]
  },
  {
   "cell_type": "code",
   "execution_count": 18,
   "metadata": {
    "ExecuteTime": {
     "end_time": "2020-05-01T20:59:19.502313Z",
     "start_time": "2020-05-01T20:59:19.498323Z"
    }
   },
   "outputs": [
    {
     "name": "stderr",
     "output_type": "stream",
     "text": [
      "c:\\users\\dfulford\\projects\\tafra\\tafra\\tafra.py:132: UserWarning: `np.squeeze(ndarray)` applied to set ndim == 1\n",
      "  warnings.warn('`np.squeeze(ndarray)` applied to set ndim == 1')\n"
     ]
    }
   ],
   "source": [
    "try:\n",
    "    t['x'] = np.atleast_2d(np.arange(6))\n",
    "except Exception as e:\n",
    "    print(e)"
   ]
  },
  {
   "cell_type": "code",
   "execution_count": 19,
   "metadata": {
    "ExecuteTime": {
     "end_time": "2020-05-01T20:59:19.507300Z",
     "start_time": "2020-05-01T20:59:19.503309Z"
    }
   },
   "outputs": [
    {
     "name": "stdout",
     "output_type": "stream",
     "text": [
      "`ndarray` or `np.squeeze(ndarray)` must have ndim == 1\n"
     ]
    }
   ],
   "source": [
    "try:\n",
    "    t['x'] = np.repeat(np.arange(6)[:, None], repeats=2, axis=1)\n",
    "except Exception as e:\n",
    "    print(e)"
   ]
  },
  {
   "cell_type": "code",
   "execution_count": 20,
   "metadata": {
    "ExecuteTime": {
     "end_time": "2020-05-01T20:59:19.512289Z",
     "start_time": "2020-05-01T20:59:19.508297Z"
    }
   },
   "outputs": [],
   "source": [
    "t['d'] = np.array([np.datetime64(_, 'D') for _ in range(6)])"
   ]
  },
  {
   "cell_type": "code",
   "execution_count": 21,
   "metadata": {
    "ExecuteTime": {
     "end_time": "2020-05-01T20:59:19.517273Z",
     "start_time": "2020-05-01T20:59:19.513284Z"
    }
   },
   "outputs": [
    {
     "data": {
      "text/plain": [
       "Tafra(_data={'x': array([0, 1, 2, 3, 4, 5]), 'y': array(['one', 'two', 'one', 'two', 'one', 'two'], dtype=object), 'z': array([0, 0, 0, 1, 1, 1]), 'd': array(['1970-01-01', '1970-01-02', '1970-01-03', '1970-01-04',\n",
       "       '1970-01-05', '1970-01-06'], dtype='datetime64[D]')}, _dtypes={'x': 'int', 'y': 'object', 'z': 'int', 'd': 'datetime64'})"
      ]
     },
     "execution_count": 21,
     "metadata": {},
     "output_type": "execute_result"
    }
   ],
   "source": [
    "t"
   ]
  },
  {
   "cell_type": "code",
   "execution_count": 22,
   "metadata": {
    "ExecuteTime": {
     "end_time": "2020-05-01T20:59:19.525252Z",
     "start_time": "2020-05-01T20:59:19.520265Z"
    }
   },
   "outputs": [
    {
     "data": {
      "text/plain": [
       "((0, 'one', 0, numpy.datetime64('1970-01-01')),\n",
       " (1, 'two', 0, numpy.datetime64('1970-01-02')),\n",
       " (2, 'one', 0, numpy.datetime64('1970-01-03')),\n",
       " (3, 'two', 1, numpy.datetime64('1970-01-04')),\n",
       " (4, 'one', 1, numpy.datetime64('1970-01-05')),\n",
       " (5, 'two', 1, numpy.datetime64('1970-01-06')))"
      ]
     },
     "execution_count": 22,
     "metadata": {},
     "output_type": "execute_result"
    }
   ],
   "source": [
    "tuple(t.to_records())"
   ]
  },
  {
   "cell_type": "code",
   "execution_count": 23,
   "metadata": {
    "ExecuteTime": {
     "end_time": "2020-05-01T20:59:19.531236Z",
     "start_time": "2020-05-01T20:59:19.527246Z"
    }
   },
   "outputs": [
    {
     "data": {
      "text/plain": [
       "[array([0, 1, 2, 3, 4, 5]),\n",
       " array(['one', 'two', 'one', 'two', 'one', 'two'], dtype=object),\n",
       " array([0, 0, 0, 1, 1, 1]),\n",
       " array(['1970-01-01', '1970-01-02', '1970-01-03', '1970-01-04',\n",
       "        '1970-01-05', '1970-01-06'], dtype='datetime64[D]')]"
      ]
     },
     "execution_count": 23,
     "metadata": {},
     "output_type": "execute_result"
    }
   ],
   "source": [
    "t.to_list()"
   ]
  }
 ],
 "metadata": {
  "kernelspec": {
   "display_name": "Python 3.7.6 64-bit (base)",
   "language": "python",
   "name": "base"
  },
  "language_info": {
   "codemirror_mode": {
    "name": "ipython",
    "version": 3
   },
   "file_extension": ".py",
   "mimetype": "text/x-python",
   "name": "python",
   "nbconvert_exporter": "python",
   "pygments_lexer": "ipython3",
   "version": "3.7.6"
  },
  "varInspector": {
   "cols": {
    "lenName": 16,
    "lenType": 16,
    "lenVar": 40
   },
   "kernels_config": {
    "python": {
     "delete_cmd_postfix": "",
     "delete_cmd_prefix": "del ",
     "library": "var_list.py",
     "varRefreshCmd": "print(var_dic_list())"
    },
    "r": {
     "delete_cmd_postfix": ") ",
     "delete_cmd_prefix": "rm(",
     "library": "var_list.r",
     "varRefreshCmd": "cat(var_dic_list()) "
    }
   },
   "types_to_exclude": [
    "module",
    "function",
    "builtin_function_or_method",
    "instance",
    "_Feature"
   ],
   "window_display": false
  }
 },
 "nbformat": 4,
 "nbformat_minor": 4
}
