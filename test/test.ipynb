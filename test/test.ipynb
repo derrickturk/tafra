{
 "cells": [
  {
   "cell_type": "code",
   "execution_count": 2,
   "metadata": {
    "ExecuteTime": {
     "end_time": "2020-05-02T00:56:01.495512Z",
     "start_time": "2020-05-02T00:56:01.368705Z"
    }
   },
   "outputs": [],
   "source": [
    "import numpy as np\n",
    "from tafra import Tafra"
   ]
  },
  {
   "cell_type": "code",
   "execution_count": 3,
   "metadata": {
    "ExecuteTime": {
     "end_time": "2020-05-02T00:56:01.519078Z",
     "start_time": "2020-05-02T00:56:01.497491Z"
    }
   },
   "outputs": [
    {
     "name": "stdout",
     "output_type": "stream",
     "text": [
      "List:\n",
      " [array([1, 2, 3, 4, 5, 6]), array(['one', 'two', 'one', 'two', 'one', 'two'], dtype=object), array([0, 0, 0, 1, 1, 1])]\n",
      "Record:\n",
      " ((1, 'one', 0), (2, 'two', 0), (3, 'one', 0), (4, 'two', 1), (5, 'one', 1), (6, 'two', 1))\n",
      "\n",
      "Group By:\n",
      " Tafra(_data={'y': array(['one', 'two', 'two', 'one'], dtype=object), 'z': array([0, 0, 1, 1]), 'x': array([ 4,  2, 10,  5])}, _dtypes={'y': 'object', 'z': 'int', 'x': 'int'})\n",
      "\n",
      "Transform:\n",
      " Tafra(_data={'y': array(['one', 'two', 'one', 'two', 'one', 'two'], dtype=object), 'z': array([0, 0, 0, 1, 1, 1]), 'x': array([ 4,  2,  4, 10,  5, 10])}, _dtypes={'y': 'object', 'z': 'int', 'x': 'int'})\n",
      "\n",
      "Transformed without magic:\n",
      " Tafra(_data={'x': array([ 4,  2,  4, 10,  5, 10]), 'y': array(['one', 'two', 'one', 'two', 'one', 'two'], dtype=object), 'z': array([0, 0, 0, 1, 1, 1])}, _dtypes={'x': 'int', 'y': 'object', 'z': 'int'})\n",
      "\n",
      "Iterate By:\t\n",
      "Tafra(_data={'x': array([1, 3, 5]), 'y': array(['one', 'one', 'one'], dtype=object), 'z': array([0, 0, 1])}, _dtypes={'x': 'int', 'y': 'object', 'z': 'int'})\n",
      "Tafra(_data={'x': array([2, 4, 6]), 'y': array(['two', 'two', 'two'], dtype=object), 'z': array([0, 1, 1])}, _dtypes={'x': 'int', 'y': 'object', 'z': 'int'})\n",
      "\n",
      "Group By in Iterate By:\t\n",
      "Tafra(_data={'z': array([0, 1]), 'x': array([4, 5])}, _dtypes={'z': 'int', 'x': 'int'})\n",
      "Tafra(_data={'z': array([0, 1]), 'x': array([ 2, 10])}, _dtypes={'z': 'int', 'x': 'int'})\n"
     ]
    }
   ],
   "source": [
    "t = Tafra({\n",
    "    'x': np.array([1, 2, 3, 4, 5, 6]),\n",
    "    'y': np.array(['one', 'two', 'one', 'two', 'one', 'two'], dtype='object'),\n",
    "    'z': np.array([0, 0, 0, 1, 1, 1])\n",
    "})\n",
    "print('List:\\n', t.to_list())\n",
    "print('Record:\\n', tuple(t.to_records()))\n",
    "\n",
    "\n",
    "gb = t.group_by(\n",
    "    ['y', 'z'], {'x': sum}\n",
    ")\n",
    "print('\\nGroup By:\\n', gb)\n",
    "\n",
    "\n",
    "tr = t.transform(\n",
    "    ['y', 'z'], {'x': sum}\n",
    ")\n",
    "print('\\nTransform:\\n', tr)\n",
    "\n",
    "\n",
    "# tr = t.transform(\n",
    "#     ['y', 'z'], {'x': sum, 'id': (max, '__id__')}\n",
    "# )\n",
    "# print('\\nTransform with \"magic\" enumerator:\\n', tr)\n",
    "\n",
    "# can't do ^ that without magic __id__, but can do it as:\n",
    "t2 = t.copy()\n",
    "t2.id = np.empty_like(t2.x)\n",
    "for i, (u, ix, grouped) in enumerate(t.iterate_by(['y', 'z'])):\n",
    "    t2.x[ix] = sum(grouped.x)\n",
    "    t2.id[ix] = i\n",
    "print('\\nTransformed without magic:\\n', t2)\n",
    "    \n",
    "print('\\nIterate By:\\t')\n",
    "for u, ix, grouped in t.iterate_by(['y']):\n",
    "    print(grouped)\n",
    "\n",
    "print('\\nGroup By in Iterate By:\\t')\n",
    "for u, ix, grouped in t.iterate_by(['y']):\n",
    "    print(grouped.group_by(['z'], {'x': sum}))"
   ]
  },
  {
   "cell_type": "code",
   "execution_count": 5,
   "metadata": {
    "ExecuteTime": {
     "end_time": "2020-05-02T00:56:33.304177Z",
     "start_time": "2020-05-02T00:56:33.295201Z"
    }
   },
   "outputs": [
    {
     "name": "stdout",
     "output_type": "stream",
     "text": [
      "\n",
      "Index Use in Iterate By:\n",
      "Tafra(_data={'x': array([-2, -2,  0,  0,  2,  2]), 'y': array(['one', 'two', 'one', 'two', 'one', 'two'], dtype=object), 'z': array([0, 0, 0, 1, 1, 1])}, _dtypes={'x': 'int', 'y': 'object', 'z': 'int'})\n"
     ]
    }
   ],
   "source": [
    "_t = t.copy()\n",
    "\n",
    "for _, ix, it in t.iterate_by(['y']):\n",
    "    _t.x[ix] = it.x - np.mean(it.x)\n",
    "\n",
    "print('\\nIndex Use in Iterate By:')\n",
    "print(_t)"
   ]
  },
  {
   "cell_type": "code",
   "execution_count": 6,
   "metadata": {
    "ExecuteTime": {
     "end_time": "2020-05-02T00:56:01.536033Z",
     "start_time": "2020-05-02T00:56:01.529052Z"
    }
   },
   "outputs": [
    {
     "name": "stdout",
     "output_type": "stream",
     "text": [
      "\n",
      "Group By in Iterate By:\t\n",
      "Tafra(_data={'x': array([9, 3, 5]), 'y': array(['one', 'one', 'one'], dtype=object), 'z': array([0, 0, 1])}, _dtypes={'x': 'int', 'y': 'object', 'z': 'int'})\n",
      "Tafra(_data={'x': array([9, 4, 6]), 'y': array(['two', 'two', 'two'], dtype=object), 'z': array([0, 1, 1])}, _dtypes={'x': 'int', 'y': 'object', 'z': 'int'})\n",
      "\n",
      "Tafra(_data={'x': array([1, 2, 3, 4, 5, 6]), 'y': array(['one', 'two', 'one', 'two', 'one', 'two'], dtype=object), 'z': array([0, 0, 0, 1, 1, 1])}, _dtypes={'x': 'int', 'y': 'object', 'z': 'int'})\n"
     ]
    }
   ],
   "source": [
    "print('\\nGroup By in Iterate By:\\t')\n",
    "for _, _, it in t.iterate_by(['y']):\n",
    "    it['x'][0] = 9\n",
    "    print(it)\n",
    "\n",
    "print()\n",
    "print(t)"
   ]
  },
  {
   "cell_type": "code",
   "execution_count": 7,
   "metadata": {
    "ExecuteTime": {
     "end_time": "2020-05-02T00:56:01.550009Z",
     "start_time": "2020-05-02T00:56:01.538028Z"
    }
   },
   "outputs": [
    {
     "data": {
      "text/plain": [
       "array([0, 2, 3, 4, 5, 6])"
      ]
     },
     "execution_count": 7,
     "metadata": {},
     "output_type": "execute_result"
    }
   ],
   "source": [
    "x = t[:3]\n",
    "x['x'][0] = 0\n",
    "t['x']"
   ]
  },
  {
   "cell_type": "code",
   "execution_count": 8,
   "metadata": {
    "ExecuteTime": {
     "end_time": "2020-05-02T00:56:01.556977Z",
     "start_time": "2020-05-02T00:56:01.552004Z"
    }
   },
   "outputs": [
    {
     "data": {
      "text/plain": [
       "array([7, 2, 3, 4, 5, 6])"
      ]
     },
     "execution_count": 8,
     "metadata": {},
     "output_type": "execute_result"
    }
   ],
   "source": [
    "x = t[slice(0, 3)]\n",
    "x['x'][0] = 7\n",
    "t['x']"
   ]
  },
  {
   "cell_type": "code",
   "execution_count": 9,
   "metadata": {
    "ExecuteTime": {
     "end_time": "2020-05-02T00:56:01.565953Z",
     "start_time": "2020-05-02T00:56:01.560965Z"
    }
   },
   "outputs": [
    {
     "data": {
      "text/plain": [
       "array([7, 2, 3, 4, 5, 6])"
      ]
     },
     "execution_count": 9,
     "metadata": {},
     "output_type": "execute_result"
    }
   ],
   "source": [
    "z = t[:3].copy()\n",
    "z['x'][0] = 9\n",
    "t['x']"
   ]
  },
  {
   "cell_type": "code",
   "execution_count": 10,
   "metadata": {
    "ExecuteTime": {
     "end_time": "2020-05-02T00:56:01.572934Z",
     "start_time": "2020-05-02T00:56:01.567948Z"
    }
   },
   "outputs": [
    {
     "name": "stdout",
     "output_type": "stream",
     "text": [
      "[ 2 15  4]\n",
      "[7 2 3 4 5 6]\n"
     ]
    }
   ],
   "source": [
    "a = t[t['x'] <= 4]\n",
    "a['x'][1] = 15\n",
    "print(a['x'])\n",
    "print(t['x'])"
   ]
  },
  {
   "cell_type": "code",
   "execution_count": 11,
   "metadata": {
    "ExecuteTime": {
     "end_time": "2020-05-02T00:56:01.576939Z",
     "start_time": "2020-05-02T00:56:01.573931Z"
    }
   },
   "outputs": [],
   "source": [
    "t.update_types({'x': float})"
   ]
  },
  {
   "cell_type": "code",
   "execution_count": 12,
   "metadata": {
    "ExecuteTime": {
     "end_time": "2020-05-02T00:56:01.583905Z",
     "start_time": "2020-05-02T00:56:01.578919Z"
    }
   },
   "outputs": [],
   "source": [
    "t.update_types({'x': 'float'})"
   ]
  },
  {
   "cell_type": "code",
   "execution_count": 13,
   "metadata": {
    "ExecuteTime": {
     "end_time": "2020-05-02T00:56:01.590885Z",
     "start_time": "2020-05-02T00:56:01.585899Z"
    }
   },
   "outputs": [
    {
     "name": "stdout",
     "output_type": "stream",
     "text": [
      "`flot` is not a valid dtype for `x.`\n",
      "`st` is not a valid dtype for `y.`\n",
      "\n"
     ]
    }
   ],
   "source": [
    "try:\n",
    "    t.update_types({'x': 'flot', 'y': 'st'})\n",
    "except Exception as e:\n",
    "    print(e)"
   ]
  },
  {
   "cell_type": "code",
   "execution_count": 14,
   "metadata": {
    "ExecuteTime": {
     "end_time": "2020-05-02T00:56:01.599861Z",
     "start_time": "2020-05-02T00:56:01.592881Z"
    }
   },
   "outputs": [
    {
     "data": {
      "text/plain": [
       "Tafra(_data={'x': array([7, 2, 3, 4, 5, 6]), 'y': array(['one', 'two', 'one', 'two', 'one', 'two'], dtype=object), 'z': array([0, 0, 0, 1, 1, 1])}, _dtypes={'x': 'int', 'y': 'object', 'z': 'int'})"
      ]
     },
     "execution_count": 14,
     "metadata": {},
     "output_type": "execute_result"
    }
   ],
   "source": [
    "t.update_types({'x': int})\n",
    "o = t.copy()\n",
    "t.update(o)\n",
    "t"
   ]
  },
  {
   "cell_type": "code",
   "execution_count": 15,
   "metadata": {
    "ExecuteTime": {
     "end_time": "2020-05-02T00:56:01.607841Z",
     "start_time": "2020-05-02T00:56:01.600859Z"
    }
   },
   "outputs": [
    {
     "data": {
      "text/plain": [
       "Tafra(_data={'x': array([7., 2., 3., 4., 5., 6.]), 'y': array(['one', 'two', 'one', 'two', 'one', 'two'], dtype=object), 'z': array([0, 0, 0, 1, 1, 1])}, _dtypes={'x': 'float', 'y': 'object', 'z': 'int'})"
      ]
     },
     "execution_count": 15,
     "metadata": {},
     "output_type": "execute_result"
    }
   ],
   "source": [
    "o.update_types({'x': float})\n",
    "t.update(o)\n",
    "t"
   ]
  },
  {
   "cell_type": "code",
   "execution_count": 16,
   "metadata": {
    "ExecuteTime": {
     "end_time": "2020-05-02T00:56:01.614826Z",
     "start_time": "2020-05-02T00:56:01.609835Z"
    }
   },
   "outputs": [
    {
     "data": {
      "text/plain": [
       "Tafra(_data={'x': array([0, 1, 2, 3, 4]), 'y': array(['one', 'two', 'one', 'two', 'one', 'two'], dtype=object), 'z': array([0, 0, 0, 1, 1, 1])}, _dtypes={'x': 'float', 'y': 'object', 'z': 'int'})"
      ]
     },
     "execution_count": 16,
     "metadata": {},
     "output_type": "execute_result"
    }
   ],
   "source": [
    "o._data['x'] = np.arange(5)\n",
    "o"
   ]
  },
  {
   "cell_type": "code",
   "execution_count": 17,
   "metadata": {
    "ExecuteTime": {
     "end_time": "2020-05-02T00:56:01.621803Z",
     "start_time": "2020-05-02T00:56:01.615819Z"
    }
   },
   "outputs": [
    {
     "name": "stdout",
     "output_type": "stream",
     "text": [
      "Other `Tafra` must have consistent row count. This `Tafra` has 6 rows, other `Tafra` has 5 rows.\n"
     ]
    },
    {
     "data": {
      "text/plain": [
       "Tafra(_data={'x': array([7., 2., 3., 4., 5., 6.]), 'y': array(['one', 'two', 'one', 'two', 'one', 'two'], dtype=object), 'z': array([0, 0, 0, 1, 1, 1])}, _dtypes={'x': 'float', 'y': 'object', 'z': 'int'})"
      ]
     },
     "execution_count": 17,
     "metadata": {},
     "output_type": "execute_result"
    }
   ],
   "source": [
    "try:\n",
    "    t.update(o)\n",
    "except Exception as e:\n",
    "    print(e)\n",
    "t"
   ]
  },
  {
   "cell_type": "code",
   "execution_count": 18,
   "metadata": {
    "ExecuteTime": {
     "end_time": "2020-05-02T00:56:01.630778Z",
     "start_time": "2020-05-02T00:56:01.623797Z"
    }
   },
   "outputs": [
    {
     "data": {
      "text/plain": [
       "Tafra(_data={'x': array([0, 1, 2, 3, 4, 5]), 'y': array(['one', 'two', 'one', 'two', 'one', 'two'], dtype=object), 'z': array([0, 0, 0, 1, 1, 1])}, _dtypes={'x': 'int', 'y': 'object', 'z': 'int'})"
      ]
     },
     "execution_count": 18,
     "metadata": {},
     "output_type": "execute_result"
    }
   ],
   "source": [
    "try:\n",
    "    t['x'] = list(range(6))\n",
    "except Exception as e:\n",
    "    print(e)\n",
    "t"
   ]
  },
  {
   "cell_type": "code",
   "execution_count": 19,
   "metadata": {
    "ExecuteTime": {
     "end_time": "2020-05-02T00:56:01.636763Z",
     "start_time": "2020-05-02T00:56:01.631776Z"
    }
   },
   "outputs": [
    {
     "name": "stderr",
     "output_type": "stream",
     "text": [
      "c:\\users\\derrick\\documents\\src\\test\\scratch\\tafra\\tafra.py:164: UserWarning: `np.squeeze(ndarray)` applied to set ndim == 1.\n",
      "  warnings.warn('`np.squeeze(ndarray)` applied to set ndim == 1.')\n"
     ]
    }
   ],
   "source": [
    "t['x'] = np.arange(6)[:, None]"
   ]
  },
  {
   "cell_type": "code",
   "execution_count": 20,
   "metadata": {
    "ExecuteTime": {
     "end_time": "2020-05-02T00:56:01.643744Z",
     "start_time": "2020-05-02T00:56:01.637760Z"
    }
   },
   "outputs": [
    {
     "name": "stderr",
     "output_type": "stream",
     "text": [
      "c:\\users\\derrick\\documents\\src\\test\\scratch\\tafra\\tafra.py:164: UserWarning: `np.squeeze(ndarray)` applied to set ndim == 1.\n",
      "  warnings.warn('`np.squeeze(ndarray)` applied to set ndim == 1.')\n"
     ]
    },
    {
     "data": {
      "text/plain": [
       "Tafra(_data={'x': array([0, 1, 2, 3, 4, 5]), 'y': array(['one', 'two', 'one', 'two', 'one', 'two'], dtype=object), 'z': array([0, 0, 0, 1, 1, 1])}, _dtypes={'x': 'int', 'y': 'object', 'z': 'int'})"
      ]
     },
     "execution_count": 20,
     "metadata": {},
     "output_type": "execute_result"
    }
   ],
   "source": [
    "try:\n",
    "    t['x'] = np.atleast_2d(np.arange(6))\n",
    "except Exception as e:\n",
    "    print(e)\n",
    "t"
   ]
  },
  {
   "cell_type": "code",
   "execution_count": 21,
   "metadata": {
    "ExecuteTime": {
     "end_time": "2020-05-02T00:56:01.650726Z",
     "start_time": "2020-05-02T00:56:01.644741Z"
    }
   },
   "outputs": [
    {
     "name": "stderr",
     "output_type": "stream",
     "text": [
      "c:\\users\\derrick\\documents\\src\\test\\scratch\\tafra\\tafra.py:164: UserWarning: `np.squeeze(ndarray)` applied to set ndim == 1.\n",
      "  warnings.warn('`np.squeeze(ndarray)` applied to set ndim == 1.')\n"
     ]
    },
    {
     "data": {
      "text/plain": [
       "Tafra(_data={'x': array([0, 1, 2, 3, 4, 5]), 'y': array(['one', 'two', 'one', 'two', 'one', 'two'], dtype=object), 'z': array([0, 0, 0, 1, 1, 1])}, _dtypes={'x': 'int', 'y': 'object', 'z': 'int'})"
      ]
     },
     "execution_count": 21,
     "metadata": {},
     "output_type": "execute_result"
    }
   ],
   "source": [
    "t['x'] = np.atleast_2d(np.arange(6)).T\n",
    "t"
   ]
  },
  {
   "cell_type": "code",
   "execution_count": 22,
   "metadata": {
    "ExecuteTime": {
     "end_time": "2020-05-02T00:56:01.656709Z",
     "start_time": "2020-05-02T00:56:01.651724Z"
    }
   },
   "outputs": [
    {
     "name": "stderr",
     "output_type": "stream",
     "text": [
      "c:\\users\\derrick\\documents\\src\\test\\scratch\\tafra\\tafra.py:164: UserWarning: `np.squeeze(ndarray)` applied to set ndim == 1.\n",
      "  warnings.warn('`np.squeeze(ndarray)` applied to set ndim == 1.')\n"
     ]
    }
   ],
   "source": [
    "try:\n",
    "    t['x'] = np.atleast_2d(np.arange(6))\n",
    "except Exception as e:\n",
    "    print(e)"
   ]
  },
  {
   "cell_type": "code",
   "execution_count": 23,
   "metadata": {
    "ExecuteTime": {
     "end_time": "2020-05-02T00:56:01.662693Z",
     "start_time": "2020-05-02T00:56:01.657706Z"
    }
   },
   "outputs": [
    {
     "name": "stdout",
     "output_type": "stream",
     "text": [
      "`ndarray` or `np.squeeze(ndarray)` must have ndim == 1.\n"
     ]
    }
   ],
   "source": [
    "try:\n",
    "    t['x'] = np.repeat(np.arange(6)[:, None], repeats=2, axis=1)\n",
    "except Exception as e:\n",
    "    print(e)"
   ]
  },
  {
   "cell_type": "code",
   "execution_count": 24,
   "metadata": {
    "ExecuteTime": {
     "end_time": "2020-05-02T00:56:01.669674Z",
     "start_time": "2020-05-02T00:56:01.665685Z"
    }
   },
   "outputs": [],
   "source": [
    "t['d'] = np.array([np.datetime64(_, 'D') for _ in range(6)])"
   ]
  },
  {
   "cell_type": "code",
   "execution_count": 25,
   "metadata": {
    "ExecuteTime": {
     "end_time": "2020-05-02T00:56:01.675658Z",
     "start_time": "2020-05-02T00:56:01.671669Z"
    }
   },
   "outputs": [
    {
     "data": {
      "text/plain": [
       "Tafra(_data={'x': array([0, 1, 2, 3, 4, 5]), 'y': array(['one', 'two', 'one', 'two', 'one', 'two'], dtype=object), 'z': array([0, 0, 0, 1, 1, 1]), 'd': array(['1970-01-01', '1970-01-02', '1970-01-03', '1970-01-04',\n",
       "       '1970-01-05', '1970-01-06'], dtype='datetime64[D]')}, _dtypes={'x': 'int', 'y': 'object', 'z': 'int', 'd': 'date'})"
      ]
     },
     "execution_count": 25,
     "metadata": {},
     "output_type": "execute_result"
    }
   ],
   "source": [
    "t"
   ]
  },
  {
   "cell_type": "code",
   "execution_count": 26,
   "metadata": {
    "ExecuteTime": {
     "end_time": "2020-05-02T00:56:01.681642Z",
     "start_time": "2020-05-02T00:56:01.676656Z"
    }
   },
   "outputs": [
    {
     "data": {
      "text/plain": [
       "((0, 'one', 0, '1970-01-01'),\n",
       " (1, 'two', 0, '1970-01-02'),\n",
       " (2, 'one', 0, '1970-01-03'),\n",
       " (3, 'two', 1, '1970-01-04'),\n",
       " (4, 'one', 1, '1970-01-05'),\n",
       " (5, 'two', 1, '1970-01-06'))"
      ]
     },
     "execution_count": 26,
     "metadata": {},
     "output_type": "execute_result"
    }
   ],
   "source": [
    "tuple(t.to_records())"
   ]
  },
  {
   "cell_type": "code",
   "execution_count": 27,
   "metadata": {
    "ExecuteTime": {
     "end_time": "2020-05-02T00:56:01.686630Z",
     "start_time": "2020-05-02T00:56:01.682640Z"
    }
   },
   "outputs": [
    {
     "data": {
      "text/plain": [
       "[array([0, 1, 2, 3, 4, 5]),\n",
       " array(['one', 'two', 'one', 'two', 'one', 'two'], dtype=object),\n",
       " array([0, 0, 0, 1, 1, 1]),\n",
       " array(['1970-01-01', '1970-01-02', '1970-01-03', '1970-01-04',\n",
       "        '1970-01-05', '1970-01-06'], dtype='datetime64[D]')]"
      ]
     },
     "execution_count": 27,
     "metadata": {},
     "output_type": "execute_result"
    }
   ],
   "source": [
    "t.to_list()"
   ]
  },
  {
   "cell_type": "code",
   "execution_count": null,
   "metadata": {},
   "outputs": [],
   "source": []
  }
 ],
 "metadata": {
  "kernelspec": {
   "display_name": "Python 3",
   "language": "python",
   "name": "python3"
  },
  "language_info": {
   "codemirror_mode": {
    "name": "ipython",
    "version": 3
   },
   "file_extension": ".py",
   "mimetype": "text/x-python",
   "name": "python",
   "nbconvert_exporter": "python",
   "pygments_lexer": "ipython3",
   "version": "3.7.4"
  },
  "varInspector": {
   "cols": {
    "lenName": 16,
    "lenType": 16,
    "lenVar": 40
   },
   "kernels_config": {
    "python": {
     "delete_cmd_postfix": "",
     "delete_cmd_prefix": "del ",
     "library": "var_list.py",
     "varRefreshCmd": "print(var_dic_list())"
    },
    "r": {
     "delete_cmd_postfix": ") ",
     "delete_cmd_prefix": "rm(",
     "library": "var_list.r",
     "varRefreshCmd": "cat(var_dic_list()) "
    }
   },
   "types_to_exclude": [
    "module",
    "function",
    "builtin_function_or_method",
    "instance",
    "_Feature"
   ],
   "window_display": false
  }
 },
 "nbformat": 4,
 "nbformat_minor": 4
}
