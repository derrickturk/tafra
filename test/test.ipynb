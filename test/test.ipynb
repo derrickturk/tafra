{
 "cells": [
  {
   "cell_type": "code",
   "execution_count": 1,
   "metadata": {
    "ExecuteTime": {
     "end_time": "2020-05-31T22:14:05.428691Z",
     "start_time": "2020-05-31T22:14:05.411734Z"
    },
    "scrolled": false
   },
   "outputs": [],
   "source": [
    "# %load_ext autoreload\n",
    "\n",
    "import numpy as np\n",
    "from tafra import Tafra\n",
    "\n",
    "# %autoreload 2"
   ]
  },
  {
   "cell_type": "code",
   "execution_count": 2,
   "metadata": {
    "ExecuteTime": {
     "end_time": "2020-05-31T22:14:05.441622Z",
     "start_time": "2020-05-31T22:14:05.429653Z"
    },
    "scrolled": false
   },
   "outputs": [
    {
     "data": {
      "text/html": [
       "<table>\n",
       "<thead>\n",
       "<tr>\n",
       "<th></th>\n",
       "<th>x</th>\n",
       "<th>y</th>\n",
       "<th>z</th>\n",
       "</tr>\n",
       "</thead>\n",
       "<tbody>\n",
       "<tr>\n",
       "<td>dtype</td>\n",
       "<td>float</td>\n",
       "<td>object</td>\n",
       "<td>int</td>\n",
       "</tr>\n",
       "<tr>\n",
       "<td>0</td>\n",
       "<td>1.0</td>\n",
       "<td>one</td>\n",
       "<td>0</td>\n",
       "</tr>\n",
       "<tr>\n",
       "<td>1</td>\n",
       "<td>2.0</td>\n",
       "<td>two</td>\n",
       "<td>0</td>\n",
       "</tr>\n",
       "<tr>\n",
       "<td>2</td>\n",
       "<td>3.0</td>\n",
       "<td>one</td>\n",
       "<td>0</td>\n",
       "</tr>\n",
       "<tr>\n",
       "<td>3</td>\n",
       "<td>4.0</td>\n",
       "<td>two</td>\n",
       "<td>1</td>\n",
       "</tr>\n",
       "<tr>\n",
       "<td>4</td>\n",
       "<td>5.0</td>\n",
       "<td>one</td>\n",
       "<td>1</td>\n",
       "</tr>\n",
       "<tr>\n",
       "<td>5</td>\n",
       "<td>6.0</td>\n",
       "<td>two</td>\n",
       "<td>1</td>\n",
       "</tr>\n",
       "</tbody>\n",
       "</table>"
      ],
      "text/plain": [
       "Tafra(\n",
       "data = {\n",
       " 'x': array([1., 2., 3., 4., 5., 6.]),\n",
       " 'y': array(['one', 'two', 'one', 'two', 'one', 'two'], dtype=object),\n",
       " 'z': array([0, 0, 0, 1, 1, 1])},\n",
       "dtypes = {\n",
       " 'x': 'float', 'y': 'object', 'z': 'int'}\n",
       ")"
      ]
     },
     "execution_count": 2,
     "metadata": {},
     "output_type": "execute_result"
    }
   ],
   "source": [
    "t = Tafra({\n",
    "    'x': np.array([1., 2., 3., 4., 5., 6.]),\n",
    "    'y': np.array(['one', 'two', 'one', 'two', 'one', 'two'], dtype='object'),\n",
    "    'z': np.array([0, 0, 0, 1, 1, 1])\n",
    "})\n",
    "\n",
    "t"
   ]
  },
  {
   "cell_type": "code",
   "execution_count": 61,
   "metadata": {
    "ExecuteTime": {
     "end_time": "2020-06-01T00:20:10.777276Z",
     "start_time": "2020-06-01T00:20:10.771293Z"
    },
    "scrolled": false
   },
   "outputs": [
    {
     "data": {
      "text/html": [
       "<table>\n",
       "<thead>\n",
       "<tr>\n",
       "<th></th>\n",
       "<th>x</th>\n",
       "<th>y</th>\n",
       "</tr>\n",
       "</thead>\n",
       "<tbody>\n",
       "<tr>\n",
       "<td>dtype</td>\n",
       "<td>int</td>\n",
       "<td>object</td>\n",
       "</tr>\n",
       "<tr>\n",
       "<td>0</td>\n",
       "<td>1</td>\n",
       "<td>one</td>\n",
       "</tr>\n",
       "<tr>\n",
       "<td>1</td>\n",
       "<td>2</td>\n",
       "<td>two</td>\n",
       "</tr>\n",
       "<tr>\n",
       "<td>2</td>\n",
       "<td>3</td>\n",
       "<td>one</td>\n",
       "</tr>\n",
       "<tr>\n",
       "<td>3</td>\n",
       "<td>4</td>\n",
       "<td>two</td>\n",
       "</tr>\n",
       "</tbody>\n",
       "</table>"
      ],
      "text/plain": [
       "Tafra(\n",
       "data = {\n",
       " 'x': array([1, 2, 3, 4]),\n",
       " 'y': array(['one', 'two', 'one', 'two'], dtype=object)},\n",
       "dtypes = {\n",
       " 'x': 'int', 'y': 'object'}\n",
       ")"
      ]
     },
     "execution_count": 61,
     "metadata": {},
     "output_type": "execute_result"
    }
   ],
   "source": [
    "t = Tafra({\n",
    "    'x': np.array([1, 2, 3, 4]),\n",
    "    'y': np.array(['one', 'two', 'one', 'two'], dtype='object'),\n",
    "})\n",
    "\n",
    "t"
   ]
  },
  {
   "cell_type": "code",
   "execution_count": 3,
   "metadata": {
    "ExecuteTime": {
     "end_time": "2020-05-31T22:14:05.959704Z",
     "start_time": "2020-05-31T22:14:05.443617Z"
    }
   },
   "outputs": [
    {
     "data": {
      "text/html": [
       "<div>\n",
       "<style scoped>\n",
       "    .dataframe tbody tr th:only-of-type {\n",
       "        vertical-align: middle;\n",
       "    }\n",
       "\n",
       "    .dataframe tbody tr th {\n",
       "        vertical-align: top;\n",
       "    }\n",
       "\n",
       "    .dataframe thead th {\n",
       "        text-align: right;\n",
       "    }\n",
       "</style>\n",
       "<table border=\"1\" class=\"dataframe\">\n",
       "  <thead>\n",
       "    <tr style=\"text-align: right;\">\n",
       "      <th></th>\n",
       "      <th>x</th>\n",
       "      <th>y</th>\n",
       "      <th>z</th>\n",
       "    </tr>\n",
       "  </thead>\n",
       "  <tbody>\n",
       "    <tr>\n",
       "      <td>0</td>\n",
       "      <td>1.0</td>\n",
       "      <td>one</td>\n",
       "      <td>0</td>\n",
       "    </tr>\n",
       "    <tr>\n",
       "      <td>1</td>\n",
       "      <td>2.0</td>\n",
       "      <td>two</td>\n",
       "      <td>0</td>\n",
       "    </tr>\n",
       "    <tr>\n",
       "      <td>2</td>\n",
       "      <td>3.0</td>\n",
       "      <td>one</td>\n",
       "      <td>0</td>\n",
       "    </tr>\n",
       "    <tr>\n",
       "      <td>3</td>\n",
       "      <td>4.0</td>\n",
       "      <td>two</td>\n",
       "      <td>1</td>\n",
       "    </tr>\n",
       "    <tr>\n",
       "      <td>4</td>\n",
       "      <td>5.0</td>\n",
       "      <td>one</td>\n",
       "      <td>1</td>\n",
       "    </tr>\n",
       "    <tr>\n",
       "      <td>5</td>\n",
       "      <td>6.0</td>\n",
       "      <td>two</td>\n",
       "      <td>1</td>\n",
       "    </tr>\n",
       "  </tbody>\n",
       "</table>\n",
       "</div>"
      ],
      "text/plain": [
       "     x    y  z\n",
       "0  1.0  one  0\n",
       "1  2.0  two  0\n",
       "2  3.0  one  0\n",
       "3  4.0  two  1\n",
       "4  5.0  one  1\n",
       "5  6.0  two  1"
      ]
     },
     "execution_count": 3,
     "metadata": {},
     "output_type": "execute_result"
    }
   ],
   "source": [
    "import pandas as pd\n",
    "df = pd.DataFrame(t.data)\n",
    "\n",
    "df"
   ]
  },
  {
   "cell_type": "code",
   "execution_count": 4,
   "metadata": {
    "ExecuteTime": {
     "end_time": "2020-05-31T22:14:05.966685Z",
     "start_time": "2020-05-31T22:14:05.960704Z"
    }
   },
   "outputs": [
    {
     "data": {
      "text/html": [
       "<table>\n",
       "<thead>\n",
       "<tr>\n",
       "<th></th>\n",
       "<th>x</th>\n",
       "<th>y</th>\n",
       "<th>z</th>\n",
       "</tr>\n",
       "</thead>\n",
       "<tbody>\n",
       "<tr>\n",
       "<td>dtype</td>\n",
       "<td>float</td>\n",
       "<td>object</td>\n",
       "<td>int</td>\n",
       "</tr>\n",
       "<tr>\n",
       "<td>0</td>\n",
       "<td>1.0</td>\n",
       "<td>one</td>\n",
       "<td>0</td>\n",
       "</tr>\n",
       "<tr>\n",
       "<td>1</td>\n",
       "<td>2.0</td>\n",
       "<td>two</td>\n",
       "<td>0</td>\n",
       "</tr>\n",
       "<tr>\n",
       "<td>2</td>\n",
       "<td>3.0</td>\n",
       "<td>one</td>\n",
       "<td>0</td>\n",
       "</tr>\n",
       "<tr>\n",
       "<td>3</td>\n",
       "<td>4.0</td>\n",
       "<td>two</td>\n",
       "<td>1</td>\n",
       "</tr>\n",
       "<tr>\n",
       "<td>4</td>\n",
       "<td>5.0</td>\n",
       "<td>one</td>\n",
       "<td>1</td>\n",
       "</tr>\n",
       "<tr>\n",
       "<td>5</td>\n",
       "<td>6.0</td>\n",
       "<td>two</td>\n",
       "<td>1</td>\n",
       "</tr>\n",
       "</tbody>\n",
       "</table>"
      ],
      "text/plain": [
       "Tafra(\n",
       "data = {\n",
       " 'x': array([1., 2., 3., 4., 5., 6.]),\n",
       " 'y': array(['one', 'two', 'one', 'two', 'one', 'two'], dtype=object),\n",
       " 'z': array([0, 0, 0, 1, 1, 1])},\n",
       "dtypes = {\n",
       " 'x': 'float', 'y': 'object', 'z': 'int'}\n",
       ")"
      ]
     },
     "execution_count": 4,
     "metadata": {},
     "output_type": "execute_result"
    }
   ],
   "source": [
    "Tafra.as_tafra(df)"
   ]
  },
  {
   "cell_type": "markdown",
   "metadata": {},
   "source": [
    "Print Options"
   ]
  },
  {
   "cell_type": "code",
   "execution_count": 5,
   "metadata": {
    "ExecuteTime": {
     "end_time": "2020-05-31T22:14:05.971671Z",
     "start_time": "2020-05-31T22:14:05.967682Z"
    }
   },
   "outputs": [
    {
     "name": "stdout",
     "output_type": "stream",
     "text": [
      "Tafra(data={'x': array([1., 2., 3., 4., 5., 6.]), 'y': array(['one', 'two', 'one', 'two', 'one', 'two'], dtype=object), 'z': array([0, 0, 0, 1, 1, 1])}, dtypes={'x': 'float', 'y': 'object', 'z': 'int'}, rows=6)\n"
     ]
    }
   ],
   "source": [
    "print(t)"
   ]
  },
  {
   "cell_type": "code",
   "execution_count": 6,
   "metadata": {
    "ExecuteTime": {
     "end_time": "2020-05-31T22:14:05.978653Z",
     "start_time": "2020-05-31T22:14:05.972669Z"
    }
   },
   "outputs": [
    {
     "name": "stdout",
     "output_type": "stream",
     "text": [
      "Tafra(\n",
      "data = {\n",
      " 'x': array([1., 2., 3., 4., 5., 6.]),\n",
      " 'y': array(['one', 'two', 'one', 'two', 'one', 'two'], dtype=object),\n",
      " 'z': array([0, 0, 0, 1, 1, 1])},\n",
      "dtypes = {\n",
      " 'x': 'float', 'y': 'object', 'z': 'int'}\n",
      ")\n"
     ]
    }
   ],
   "source": [
    "t.pprint()"
   ]
  },
  {
   "cell_type": "code",
   "execution_count": 7,
   "metadata": {
    "ExecuteTime": {
     "end_time": "2020-05-31T22:14:05.985635Z",
     "start_time": "2020-05-31T22:14:05.980649Z"
    }
   },
   "outputs": [
    {
     "name": "stdout",
     "output_type": "stream",
     "text": [
      "Tafra(\n",
      "data = {\n",
      "    'x': array([1., 2., 3., 4., 5., 6.]), 'y': array(['one', 'two', 'one', 'two', 'one', 'two'], dtype=object), 'z': array([0, 0, 0, 1, 1, 1])},\n",
      "dtypes = {\n",
      "    'x': 'float', 'y': 'object', 'z': 'int'}\n",
      ")\n"
     ]
    }
   ],
   "source": [
    "t.pprint(indent=4, width=140)"
   ]
  },
  {
   "cell_type": "code",
   "execution_count": 8,
   "metadata": {
    "ExecuteTime": {
     "end_time": "2020-05-31T22:14:05.992616Z",
     "start_time": "2020-05-31T22:14:05.987654Z"
    }
   },
   "outputs": [
    {
     "data": {
      "text/html": [
       "<table>\n",
       "<thead>\n",
       "<tr>\n",
       "<th></th>\n",
       "<th>x</th>\n",
       "<th>y</th>\n",
       "<th>z</th>\n",
       "</tr>\n",
       "</thead>\n",
       "<tbody>\n",
       "<tr>\n",
       "<td>dtype</td>\n",
       "<td>float</td>\n",
       "<td>object</td>\n",
       "<td>int</td>\n",
       "</tr>\n",
       "<tr>\n",
       "<td>0</td>\n",
       "<td>1.0</td>\n",
       "<td>one</td>\n",
       "<td>0</td>\n",
       "</tr>\n",
       "<tr>\n",
       "<td>1</td>\n",
       "<td>2.0</td>\n",
       "<td>two</td>\n",
       "<td>0</td>\n",
       "</tr>\n",
       "<tr>\n",
       "<td>2</td>\n",
       "<td>3.0</td>\n",
       "<td>one</td>\n",
       "<td>0</td>\n",
       "</tr>\n",
       "<tr>\n",
       "<td>3</td>\n",
       "<td>4.0</td>\n",
       "<td>two</td>\n",
       "<td>1</td>\n",
       "</tr>\n",
       "<tr>\n",
       "<td>4</td>\n",
       "<td>5.0</td>\n",
       "<td>one</td>\n",
       "<td>1</td>\n",
       "</tr>\n",
       "</tbody>\n",
       "</table>"
      ],
      "text/plain": [
       "Tafra(\n",
       "data = {\n",
       " 'x': array([1., 2., 3., 4., 5.]),\n",
       " 'y': array(['one', 'two', 'one', 'two', 'one'], dtype=object),\n",
       " 'z': array([0, 0, 0, 1, 1])},\n",
       "dtypes = {\n",
       " 'x': 'float', 'y': 'object', 'z': 'int'}\n",
       ")"
      ]
     },
     "metadata": {},
     "output_type": "display_data"
    }
   ],
   "source": [
    "t.head(5)"
   ]
  },
  {
   "cell_type": "markdown",
   "metadata": {},
   "source": [
    "Group By:"
   ]
  },
  {
   "cell_type": "code",
   "execution_count": 58,
   "metadata": {
    "ExecuteTime": {
     "end_time": "2020-05-31T23:07:54.609090Z",
     "start_time": "2020-05-31T23:07:54.601113Z"
    }
   },
   "outputs": [
    {
     "data": {
      "text/html": [
       "<table>\n",
       "<thead>\n",
       "<tr>\n",
       "<th></th>\n",
       "<th>y</th>\n",
       "<th>z</th>\n",
       "<th>x</th>\n",
       "<th>count</th>\n",
       "</tr>\n",
       "</thead>\n",
       "<tbody>\n",
       "<tr>\n",
       "<td>dtype</td>\n",
       "<td>object</td>\n",
       "<td>int</td>\n",
       "<td>float</td>\n",
       "<td>int</td>\n",
       "</tr>\n",
       "<tr>\n",
       "<td>0</td>\n",
       "<td>one</td>\n",
       "<td>0</td>\n",
       "<td>4.0</td>\n",
       "<td>2</td>\n",
       "</tr>\n",
       "<tr>\n",
       "<td>1</td>\n",
       "<td>two</td>\n",
       "<td>0</td>\n",
       "<td>2.0</td>\n",
       "<td>1</td>\n",
       "</tr>\n",
       "<tr>\n",
       "<td>2</td>\n",
       "<td>two</td>\n",
       "<td>1</td>\n",
       "<td>10.0</td>\n",
       "<td>2</td>\n",
       "</tr>\n",
       "<tr>\n",
       "<td>3</td>\n",
       "<td>one</td>\n",
       "<td>1</td>\n",
       "<td>5.0</td>\n",
       "<td>1</td>\n",
       "</tr>\n",
       "</tbody>\n",
       "</table>"
      ],
      "text/plain": [
       "Tafra(\n",
       "data = {\n",
       " 'count': array([2, 1, 2, 1]),\n",
       " 'x': array([ 4.,  2., 10.,  5.]),\n",
       " 'y': array(['one', 'two', 'two', 'one'], dtype=object),\n",
       " 'z': array([0, 0, 1, 1])},\n",
       "dtypes = {\n",
       " 'count': 'int', 'x': 'float', 'y': 'object', 'z': 'int'}\n",
       ")"
      ]
     },
     "execution_count": 58,
     "metadata": {},
     "output_type": "execute_result"
    }
   ],
   "source": [
    "gb = t.group_by(\n",
    "    ['y', 'z'], {'x': sum}, {'count': len}\n",
    ")\n",
    "\n",
    "gb"
   ]
  },
  {
   "cell_type": "code",
   "execution_count": 60,
   "metadata": {
    "ExecuteTime": {
     "end_time": "2020-05-31T23:08:19.328007Z",
     "start_time": "2020-05-31T23:08:19.322022Z"
    }
   },
   "outputs": [
    {
     "data": {
      "text/html": [
       "<table>\n",
       "<thead>\n",
       "<tr>\n",
       "<th></th>\n",
       "<th>y</th>\n",
       "<th>z</th>\n",
       "<th>x</th>\n",
       "<th>new_x</th>\n",
       "<th>count</th>\n",
       "</tr>\n",
       "</thead>\n",
       "<tbody>\n",
       "<tr>\n",
       "<td>dtype</td>\n",
       "<td>object</td>\n",
       "<td>int</td>\n",
       "<td>float</td>\n",
       "<td>float</td>\n",
       "<td>int</td>\n",
       "</tr>\n",
       "<tr>\n",
       "<td>0</td>\n",
       "<td>one</td>\n",
       "<td>0</td>\n",
       "<td>4.0</td>\n",
       "<td>4.0</td>\n",
       "<td>2</td>\n",
       "</tr>\n",
       "<tr>\n",
       "<td>1</td>\n",
       "<td>two</td>\n",
       "<td>0</td>\n",
       "<td>2.0</td>\n",
       "<td>2.0</td>\n",
       "<td>1</td>\n",
       "</tr>\n",
       "<tr>\n",
       "<td>2</td>\n",
       "<td>two</td>\n",
       "<td>1</td>\n",
       "<td>10.0</td>\n",
       "<td>10.0</td>\n",
       "<td>2</td>\n",
       "</tr>\n",
       "<tr>\n",
       "<td>3</td>\n",
       "<td>one</td>\n",
       "<td>1</td>\n",
       "<td>5.0</td>\n",
       "<td>5.0</td>\n",
       "<td>1</td>\n",
       "</tr>\n",
       "</tbody>\n",
       "</table>"
      ],
      "text/plain": [
       "Tafra(\n",
       "data = {\n",
       " 'count': array([2, 1, 2, 1]),\n",
       " 'new_x': array([ 4.,  2., 10.,  5.]),\n",
       " 'x': array([ 4.,  2., 10.,  5.]),\n",
       " 'y': array(['one', 'two', 'two', 'one'], dtype=object),\n",
       " 'z': array([0, 0, 1, 1])},\n",
       "dtypes = {\n",
       " 'count': 'int', 'new_x': 'float', 'x': 'float', 'y': 'object', 'z': 'int'}\n",
       ")"
      ]
     },
     "execution_count": 60,
     "metadata": {},
     "output_type": "execute_result"
    }
   ],
   "source": [
    "gb = t.group_by(\n",
    "    ['y', 'z'], {\n",
    "        'x': sum,\n",
    "        'new_x': (sum, 'x')\n",
    "    }, {'count': len}\n",
    ")\n",
    "\n",
    "gb"
   ]
  },
  {
   "cell_type": "markdown",
   "metadata": {
    "ExecuteTime": {
     "end_time": "2020-05-30T20:45:08.352010Z",
     "start_time": "2020-05-30T20:45:08.309110Z"
    }
   },
   "source": [
    "Transform"
   ]
  },
  {
   "cell_type": "code",
   "execution_count": 10,
   "metadata": {
    "ExecuteTime": {
     "end_time": "2020-05-31T22:14:06.007579Z",
     "start_time": "2020-05-31T22:14:06.001592Z"
    }
   },
   "outputs": [
    {
     "data": {
      "text/html": [
       "<table>\n",
       "<thead>\n",
       "<tr>\n",
       "<th></th>\n",
       "<th>y</th>\n",
       "<th>z</th>\n",
       "<th>x</th>\n",
       "<th>id</th>\n",
       "</tr>\n",
       "</thead>\n",
       "<tbody>\n",
       "<tr>\n",
       "<td>dtype</td>\n",
       "<td>object</td>\n",
       "<td>int</td>\n",
       "<td>float</td>\n",
       "<td>int</td>\n",
       "</tr>\n",
       "<tr>\n",
       "<td>0</td>\n",
       "<td>one</td>\n",
       "<td>0</td>\n",
       "<td>4.0</td>\n",
       "<td>0</td>\n",
       "</tr>\n",
       "<tr>\n",
       "<td>1</td>\n",
       "<td>two</td>\n",
       "<td>0</td>\n",
       "<td>2.0</td>\n",
       "<td>1</td>\n",
       "</tr>\n",
       "<tr>\n",
       "<td>2</td>\n",
       "<td>one</td>\n",
       "<td>0</td>\n",
       "<td>4.0</td>\n",
       "<td>0</td>\n",
       "</tr>\n",
       "<tr>\n",
       "<td>3</td>\n",
       "<td>two</td>\n",
       "<td>1</td>\n",
       "<td>10.0</td>\n",
       "<td>2</td>\n",
       "</tr>\n",
       "<tr>\n",
       "<td>4</td>\n",
       "<td>one</td>\n",
       "<td>1</td>\n",
       "<td>5.0</td>\n",
       "<td>3</td>\n",
       "</tr>\n",
       "<tr>\n",
       "<td>5</td>\n",
       "<td>two</td>\n",
       "<td>1</td>\n",
       "<td>10.0</td>\n",
       "<td>2</td>\n",
       "</tr>\n",
       "</tbody>\n",
       "</table>"
      ],
      "text/plain": [
       "Tafra(\n",
       "data = {\n",
       " 'id': array([0, 1, 0, 2, 3, 2]),\n",
       " 'x': array([ 4.,  2.,  4., 10.,  5., 10.]),\n",
       " 'y': array(['one', 'two', 'one', 'two', 'one', 'two'], dtype=object),\n",
       " 'z': array([0, 0, 0, 1, 1, 1])},\n",
       "dtypes = {\n",
       " 'id': 'int', 'x': 'float', 'y': 'object', 'z': 'int'}\n",
       ")"
      ]
     },
     "execution_count": 10,
     "metadata": {},
     "output_type": "execute_result"
    }
   ],
   "source": [
    "tr = t.transform(\n",
    "    ['y', 'z'], {'x': sum}, {'id': max}\n",
    ")\n",
    "\n",
    "tr"
   ]
  },
  {
   "cell_type": "markdown",
   "metadata": {},
   "source": [
    "We can set an custom attribute, but it does not point to the `data` item of the same name"
   ]
  },
  {
   "cell_type": "code",
   "execution_count": 11,
   "metadata": {
    "ExecuteTime": {
     "end_time": "2020-05-31T22:14:06.018547Z",
     "start_time": "2020-05-31T22:14:06.008575Z"
    }
   },
   "outputs": [
    {
     "name": "stdout",
     "output_type": "stream",
     "text": [
      "t2.id = array([2 1 2 2 1 2])\n"
     ]
    },
    {
     "data": {
      "text/html": [
       "<table>\n",
       "<thead>\n",
       "<tr>\n",
       "<th></th>\n",
       "<th>x</th>\n",
       "<th>y</th>\n",
       "<th>z</th>\n",
       "<th>id</th>\n",
       "</tr>\n",
       "</thead>\n",
       "<tbody>\n",
       "<tr>\n",
       "<td>dtype</td>\n",
       "<td>float</td>\n",
       "<td>object</td>\n",
       "<td>int</td>\n",
       "<td>int</td>\n",
       "</tr>\n",
       "<tr>\n",
       "<td>0</td>\n",
       "<td>4.0</td>\n",
       "<td>one</td>\n",
       "<td>0</td>\n",
       "<td>3</td>\n",
       "</tr>\n",
       "<tr>\n",
       "<td>1</td>\n",
       "<td>2.0</td>\n",
       "<td>two</td>\n",
       "<td>0</td>\n",
       "<td>2</td>\n",
       "</tr>\n",
       "<tr>\n",
       "<td>2</td>\n",
       "<td>4.0</td>\n",
       "<td>one</td>\n",
       "<td>0</td>\n",
       "<td>3</td>\n",
       "</tr>\n",
       "<tr>\n",
       "<td>3</td>\n",
       "<td>10.0</td>\n",
       "<td>two</td>\n",
       "<td>1</td>\n",
       "<td>6</td>\n",
       "</tr>\n",
       "<tr>\n",
       "<td>4</td>\n",
       "<td>5.0</td>\n",
       "<td>one</td>\n",
       "<td>1</td>\n",
       "<td>5</td>\n",
       "</tr>\n",
       "<tr>\n",
       "<td>5</td>\n",
       "<td>10.0</td>\n",
       "<td>two</td>\n",
       "<td>1</td>\n",
       "<td>6</td>\n",
       "</tr>\n",
       "</tbody>\n",
       "</table>"
      ],
      "text/plain": [
       "Tafra(\n",
       "data = {\n",
       " 'id': array([3, 2, 3, 6, 5, 6]),\n",
       " 'x': array([ 4.,  2.,  4., 10.,  5., 10.]),\n",
       " 'y': array(['one', 'two', 'one', 'two', 'one', 'two'], dtype=object),\n",
       " 'z': array([0, 0, 0, 1, 1, 1])},\n",
       "dtypes = {\n",
       " 'id': 'int', 'x': 'float', 'y': 'object', 'z': 'int'}\n",
       ")"
      ]
     },
     "execution_count": 11,
     "metadata": {},
     "output_type": "execute_result"
    }
   ],
   "source": [
    "t2 = t.copy()\n",
    "t2.id = np.empty(t2.rows, dtype=int)\n",
    "t2['id'] = np.empty(t2.rows, dtype=int)\n",
    "for i, (u, ix, grouped) in enumerate(t.iterate_by(['y', 'z'])):\n",
    "    t2['x'][ix] = sum(grouped['x'])\n",
    "    t2.id[ix] = len(grouped['x'])\n",
    "    t2['id'][ix] = max(grouped['x'])\n",
    "    \n",
    "print(f't2.id = array({t2.id})')\n",
    "t2"
   ]
  },
  {
   "cell_type": "markdown",
   "metadata": {},
   "source": [
    "Iterate By"
   ]
  },
  {
   "cell_type": "code",
   "execution_count": 12,
   "metadata": {
    "ExecuteTime": {
     "end_time": "2020-05-31T22:14:06.028519Z",
     "start_time": "2020-05-31T22:14:06.020577Z"
    }
   },
   "outputs": [
    {
     "name": "stdout",
     "output_type": "stream",
     "text": [
      "Iterate By:\n"
     ]
    },
    {
     "data": {
      "text/html": [
       "<table>\n",
       "<thead>\n",
       "<tr>\n",
       "<th></th>\n",
       "<th>x</th>\n",
       "<th>y</th>\n",
       "<th>z</th>\n",
       "</tr>\n",
       "</thead>\n",
       "<tbody>\n",
       "<tr>\n",
       "<td>dtype</td>\n",
       "<td>float</td>\n",
       "<td>object</td>\n",
       "<td>int</td>\n",
       "</tr>\n",
       "<tr>\n",
       "<td>0</td>\n",
       "<td>1.0</td>\n",
       "<td>one</td>\n",
       "<td>0</td>\n",
       "</tr>\n",
       "<tr>\n",
       "<td>1</td>\n",
       "<td>3.0</td>\n",
       "<td>one</td>\n",
       "<td>0</td>\n",
       "</tr>\n",
       "<tr>\n",
       "<td>2</td>\n",
       "<td>5.0</td>\n",
       "<td>one</td>\n",
       "<td>1</td>\n",
       "</tr>\n",
       "</tbody>\n",
       "</table>"
      ],
      "text/plain": [
       "Tafra(\n",
       "data = {\n",
       " 'x': array([1., 3., 5.]),\n",
       " 'y': array(['one', 'one', 'one'], dtype=object),\n",
       " 'z': array([0, 0, 1])},\n",
       "dtypes = {\n",
       " 'x': 'float', 'y': 'object', 'z': 'int'}\n",
       ")"
      ]
     },
     "metadata": {},
     "output_type": "display_data"
    },
    {
     "data": {
      "text/html": [
       "<table>\n",
       "<thead>\n",
       "<tr>\n",
       "<th></th>\n",
       "<th>x</th>\n",
       "<th>y</th>\n",
       "<th>z</th>\n",
       "</tr>\n",
       "</thead>\n",
       "<tbody>\n",
       "<tr>\n",
       "<td>dtype</td>\n",
       "<td>float</td>\n",
       "<td>object</td>\n",
       "<td>int</td>\n",
       "</tr>\n",
       "<tr>\n",
       "<td>0</td>\n",
       "<td>2.0</td>\n",
       "<td>two</td>\n",
       "<td>0</td>\n",
       "</tr>\n",
       "<tr>\n",
       "<td>1</td>\n",
       "<td>4.0</td>\n",
       "<td>two</td>\n",
       "<td>1</td>\n",
       "</tr>\n",
       "<tr>\n",
       "<td>2</td>\n",
       "<td>6.0</td>\n",
       "<td>two</td>\n",
       "<td>1</td>\n",
       "</tr>\n",
       "</tbody>\n",
       "</table>"
      ],
      "text/plain": [
       "Tafra(\n",
       "data = {\n",
       " 'x': array([2., 4., 6.]),\n",
       " 'y': array(['two', 'two', 'two'], dtype=object),\n",
       " 'z': array([0, 1, 1])},\n",
       "dtypes = {\n",
       " 'x': 'float', 'y': 'object', 'z': 'int'}\n",
       ")"
      ]
     },
     "metadata": {},
     "output_type": "display_data"
    }
   ],
   "source": [
    "print('Iterate By:')\n",
    "for u, ix, grouped in t.iterate_by(['y']):\n",
    "    display(grouped)"
   ]
  },
  {
   "cell_type": "markdown",
   "metadata": {},
   "source": [
    "Group By in Interate By"
   ]
  },
  {
   "cell_type": "code",
   "execution_count": 13,
   "metadata": {
    "ExecuteTime": {
     "end_time": "2020-05-31T22:14:06.038495Z",
     "start_time": "2020-05-31T22:14:06.030517Z"
    },
    "scrolled": false
   },
   "outputs": [
    {
     "name": "stdout",
     "output_type": "stream",
     "text": [
      "Group By in Iterate By:\n"
     ]
    },
    {
     "data": {
      "text/html": [
       "<table>\n",
       "<thead>\n",
       "<tr>\n",
       "<th></th>\n",
       "<th>z</th>\n",
       "<th>x</th>\n",
       "</tr>\n",
       "</thead>\n",
       "<tbody>\n",
       "<tr>\n",
       "<td>dtype</td>\n",
       "<td>int</td>\n",
       "<td>float</td>\n",
       "</tr>\n",
       "<tr>\n",
       "<td>0</td>\n",
       "<td>0</td>\n",
       "<td>4.0</td>\n",
       "</tr>\n",
       "<tr>\n",
       "<td>1</td>\n",
       "<td>1</td>\n",
       "<td>5.0</td>\n",
       "</tr>\n",
       "</tbody>\n",
       "</table>"
      ],
      "text/plain": [
       "Tafra(\n",
       "data = {\n",
       " 'x': array([4., 5.]), 'z': array([0, 1])},\n",
       "dtypes = {\n",
       " 'x': 'float', 'z': 'int'}\n",
       ")"
      ]
     },
     "metadata": {},
     "output_type": "display_data"
    },
    {
     "data": {
      "text/html": [
       "<table>\n",
       "<thead>\n",
       "<tr>\n",
       "<th></th>\n",
       "<th>z</th>\n",
       "<th>x</th>\n",
       "</tr>\n",
       "</thead>\n",
       "<tbody>\n",
       "<tr>\n",
       "<td>dtype</td>\n",
       "<td>int</td>\n",
       "<td>float</td>\n",
       "</tr>\n",
       "<tr>\n",
       "<td>0</td>\n",
       "<td>0</td>\n",
       "<td>2.0</td>\n",
       "</tr>\n",
       "<tr>\n",
       "<td>1</td>\n",
       "<td>1</td>\n",
       "<td>10.0</td>\n",
       "</tr>\n",
       "</tbody>\n",
       "</table>"
      ],
      "text/plain": [
       "Tafra(\n",
       "data = {\n",
       " 'x': array([ 2., 10.]), 'z': array([0, 1])},\n",
       "dtypes = {\n",
       " 'x': 'float', 'z': 'int'}\n",
       ")"
      ]
     },
     "metadata": {},
     "output_type": "display_data"
    }
   ],
   "source": [
    "print('Group By in Iterate By:')\n",
    "for u, ix, grouped in t.iterate_by(['y']):\n",
    "    display(grouped.group_by(['z'], {'x': sum}))"
   ]
  },
  {
   "cell_type": "code",
   "execution_count": 14,
   "metadata": {
    "ExecuteTime": {
     "end_time": "2020-05-31T22:14:06.046472Z",
     "start_time": "2020-05-31T22:14:06.039492Z"
    }
   },
   "outputs": [
    {
     "name": "stdout",
     "output_type": "stream",
     "text": [
      "Index Use in Iterate By:\n"
     ]
    },
    {
     "data": {
      "text/html": [
       "<table>\n",
       "<thead>\n",
       "<tr>\n",
       "<th></th>\n",
       "<th>x</th>\n",
       "<th>y</th>\n",
       "<th>z</th>\n",
       "<th>id</th>\n",
       "</tr>\n",
       "</thead>\n",
       "<tbody>\n",
       "<tr>\n",
       "<td>dtype</td>\n",
       "<td>float</td>\n",
       "<td>object</td>\n",
       "<td>int</td>\n",
       "<td>int</td>\n",
       "</tr>\n",
       "<tr>\n",
       "<td>0</td>\n",
       "<td>-2.0</td>\n",
       "<td>one</td>\n",
       "<td>0</td>\n",
       "<td>0</td>\n",
       "</tr>\n",
       "<tr>\n",
       "<td>1</td>\n",
       "<td>-2.0</td>\n",
       "<td>two</td>\n",
       "<td>0</td>\n",
       "<td>1</td>\n",
       "</tr>\n",
       "<tr>\n",
       "<td>2</td>\n",
       "<td>0.0</td>\n",
       "<td>one</td>\n",
       "<td>0</td>\n",
       "<td>0</td>\n",
       "</tr>\n",
       "<tr>\n",
       "<td>3</td>\n",
       "<td>0.0</td>\n",
       "<td>two</td>\n",
       "<td>1</td>\n",
       "<td>1</td>\n",
       "</tr>\n",
       "<tr>\n",
       "<td>4</td>\n",
       "<td>2.0</td>\n",
       "<td>one</td>\n",
       "<td>1</td>\n",
       "<td>0</td>\n",
       "</tr>\n",
       "<tr>\n",
       "<td>5</td>\n",
       "<td>2.0</td>\n",
       "<td>two</td>\n",
       "<td>1</td>\n",
       "<td>1</td>\n",
       "</tr>\n",
       "</tbody>\n",
       "</table>"
      ],
      "text/plain": [
       "Tafra(\n",
       "data = {\n",
       " 'id': array([0, 1, 0, 1, 0, 1]),\n",
       " 'x': array([-2., -2.,  0.,  0.,  2.,  2.]),\n",
       " 'y': array(['one', 'two', 'one', 'two', 'one', 'two'], dtype=object),\n",
       " 'z': array([0, 0, 0, 1, 1, 1])},\n",
       "dtypes = {\n",
       " 'id': 'int', 'x': 'float', 'y': 'object', 'z': 'int'}\n",
       ")"
      ]
     },
     "execution_count": 14,
     "metadata": {},
     "output_type": "execute_result"
    }
   ],
   "source": [
    "_t = t.copy()\n",
    "_t.update(_t.transform(['y'], {}, {'id': max}))\n",
    "\n",
    "for u, ix, it in t.iterate_by(['y']):\n",
    "    _t['x'][ix] = it['x'] - np.mean(it['x'])\n",
    "\n",
    "print('Index Use in Iterate By:')\n",
    "_t"
   ]
  },
  {
   "cell_type": "code",
   "execution_count": 15,
   "metadata": {
    "ExecuteTime": {
     "end_time": "2020-05-31T22:14:06.056445Z",
     "start_time": "2020-05-31T22:14:06.047469Z"
    }
   },
   "outputs": [
    {
     "name": "stdout",
     "output_type": "stream",
     "text": [
      "Group By in Iterate By:\n"
     ]
    },
    {
     "data": {
      "text/html": [
       "<table>\n",
       "<thead>\n",
       "<tr>\n",
       "<th></th>\n",
       "<th>x</th>\n",
       "<th>y</th>\n",
       "<th>z</th>\n",
       "</tr>\n",
       "</thead>\n",
       "<tbody>\n",
       "<tr>\n",
       "<td>dtype</td>\n",
       "<td>float</td>\n",
       "<td>object</td>\n",
       "<td>int</td>\n",
       "</tr>\n",
       "<tr>\n",
       "<td>0</td>\n",
       "<td>9.0</td>\n",
       "<td>one</td>\n",
       "<td>0</td>\n",
       "</tr>\n",
       "<tr>\n",
       "<td>1</td>\n",
       "<td>3.0</td>\n",
       "<td>one</td>\n",
       "<td>0</td>\n",
       "</tr>\n",
       "<tr>\n",
       "<td>2</td>\n",
       "<td>5.0</td>\n",
       "<td>one</td>\n",
       "<td>1</td>\n",
       "</tr>\n",
       "</tbody>\n",
       "</table>"
      ],
      "text/plain": [
       "Tafra(\n",
       "data = {\n",
       " 'x': array([9., 3., 5.]),\n",
       " 'y': array(['one', 'one', 'one'], dtype=object),\n",
       " 'z': array([0, 0, 1])},\n",
       "dtypes = {\n",
       " 'x': 'float', 'y': 'object', 'z': 'int'}\n",
       ")"
      ]
     },
     "metadata": {},
     "output_type": "display_data"
    },
    {
     "data": {
      "text/html": [
       "<table>\n",
       "<thead>\n",
       "<tr>\n",
       "<th></th>\n",
       "<th>x</th>\n",
       "<th>y</th>\n",
       "<th>z</th>\n",
       "</tr>\n",
       "</thead>\n",
       "<tbody>\n",
       "<tr>\n",
       "<td>dtype</td>\n",
       "<td>float</td>\n",
       "<td>object</td>\n",
       "<td>int</td>\n",
       "</tr>\n",
       "<tr>\n",
       "<td>0</td>\n",
       "<td>9.0</td>\n",
       "<td>two</td>\n",
       "<td>0</td>\n",
       "</tr>\n",
       "<tr>\n",
       "<td>1</td>\n",
       "<td>4.0</td>\n",
       "<td>two</td>\n",
       "<td>1</td>\n",
       "</tr>\n",
       "<tr>\n",
       "<td>2</td>\n",
       "<td>6.0</td>\n",
       "<td>two</td>\n",
       "<td>1</td>\n",
       "</tr>\n",
       "</tbody>\n",
       "</table>"
      ],
      "text/plain": [
       "Tafra(\n",
       "data = {\n",
       " 'x': array([9., 4., 6.]),\n",
       " 'y': array(['two', 'two', 'two'], dtype=object),\n",
       " 'z': array([0, 1, 1])},\n",
       "dtypes = {\n",
       " 'x': 'float', 'y': 'object', 'z': 'int'}\n",
       ")"
      ]
     },
     "metadata": {},
     "output_type": "display_data"
    },
    {
     "data": {
      "text/html": [
       "<table>\n",
       "<thead>\n",
       "<tr>\n",
       "<th></th>\n",
       "<th>x</th>\n",
       "<th>y</th>\n",
       "<th>z</th>\n",
       "</tr>\n",
       "</thead>\n",
       "<tbody>\n",
       "<tr>\n",
       "<td>dtype</td>\n",
       "<td>float</td>\n",
       "<td>object</td>\n",
       "<td>int</td>\n",
       "</tr>\n",
       "<tr>\n",
       "<td>0</td>\n",
       "<td>1.0</td>\n",
       "<td>one</td>\n",
       "<td>0</td>\n",
       "</tr>\n",
       "<tr>\n",
       "<td>1</td>\n",
       "<td>2.0</td>\n",
       "<td>two</td>\n",
       "<td>0</td>\n",
       "</tr>\n",
       "<tr>\n",
       "<td>2</td>\n",
       "<td>3.0</td>\n",
       "<td>one</td>\n",
       "<td>0</td>\n",
       "</tr>\n",
       "<tr>\n",
       "<td>3</td>\n",
       "<td>4.0</td>\n",
       "<td>two</td>\n",
       "<td>1</td>\n",
       "</tr>\n",
       "<tr>\n",
       "<td>4</td>\n",
       "<td>5.0</td>\n",
       "<td>one</td>\n",
       "<td>1</td>\n",
       "</tr>\n",
       "<tr>\n",
       "<td>5</td>\n",
       "<td>6.0</td>\n",
       "<td>two</td>\n",
       "<td>1</td>\n",
       "</tr>\n",
       "</tbody>\n",
       "</table>"
      ],
      "text/plain": [
       "Tafra(\n",
       "data = {\n",
       " 'x': array([1., 2., 3., 4., 5., 6.]),\n",
       " 'y': array(['one', 'two', 'one', 'two', 'one', 'two'], dtype=object),\n",
       " 'z': array([0, 0, 0, 1, 1, 1])},\n",
       "dtypes = {\n",
       " 'x': 'float', 'y': 'object', 'z': 'int'}\n",
       ")"
      ]
     },
     "execution_count": 15,
     "metadata": {},
     "output_type": "execute_result"
    }
   ],
   "source": [
    "print('Group By in Iterate By:')\n",
    "_t = t.copy()\n",
    "for u, ix, it in _t.iterate_by(['y']):\n",
    "    it['x'][0] = 9\n",
    "    display(it)\n",
    "\n",
    "_t"
   ]
  },
  {
   "cell_type": "code",
   "execution_count": 16,
   "metadata": {
    "ExecuteTime": {
     "end_time": "2020-05-31T22:14:06.182144Z",
     "start_time": "2020-05-31T22:14:06.057442Z"
    },
    "scrolled": true
   },
   "outputs": [],
   "source": [
    "l = pd.DataFrame.from_dict({\n",
    "    'x': np.arange(1000),\n",
    "})\n",
    "\n",
    "r = pd.DataFrame.from_dict({\n",
    "    'a': np.tile(np.arange(1000), 1000),\n",
    "})\n",
    "\n",
    "l = l.merge(r, how='left', left_on=['x'], right_on=['a'])"
   ]
  },
  {
   "cell_type": "code",
   "execution_count": 17,
   "metadata": {
    "ExecuteTime": {
     "end_time": "2020-05-31T22:14:08.120410Z",
     "start_time": "2020-05-31T22:14:06.183139Z"
    },
    "scrolled": false
   },
   "outputs": [],
   "source": [
    "l = Tafra({\n",
    "    'x': np.arange(1000),\n",
    "})\n",
    "\n",
    "r = Tafra({\n",
    "    'a': np.tile(np.arange(1000), 1000),\n",
    "})\n",
    "\n",
    "l = l.left_join(r, [('x', 'a', '==')], ['x', 'a'])"
   ]
  },
  {
   "cell_type": "code",
   "execution_count": 18,
   "metadata": {
    "ExecuteTime": {
     "end_time": "2020-05-31T22:14:08.386624Z",
     "start_time": "2020-05-31T22:14:08.121243Z"
    },
    "scrolled": false
   },
   "outputs": [],
   "source": [
    "l = Tafra({\n",
    "    'x': np.arange(100),\n",
    "})\n",
    "\n",
    "r = Tafra({\n",
    "    'a': np.tile(np.arange(10), 1000),\n",
    "})\n",
    "\n",
    "l = l.cross_join(r, ['x', 'a'])"
   ]
  },
  {
   "cell_type": "code",
   "execution_count": 19,
   "metadata": {
    "ExecuteTime": {
     "end_time": "2020-05-31T22:14:08.397065Z",
     "start_time": "2020-05-31T22:14:08.387581Z"
    }
   },
   "outputs": [
    {
     "data": {
      "text/html": [
       "<table>\n",
       "<thead>\n",
       "<tr>\n",
       "<th></th>\n",
       "<th>x</th>\n",
       "<th>y</th>\n",
       "<th>a</th>\n",
       "<th>b</th>\n",
       "</tr>\n",
       "</thead>\n",
       "<tbody>\n",
       "<tr>\n",
       "<td>dtype</td>\n",
       "<td>int</td>\n",
       "<td>object</td>\n",
       "<td>int</td>\n",
       "<td>object</td>\n",
       "</tr>\n",
       "<tr>\n",
       "<td>0</td>\n",
       "<td>1</td>\n",
       "<td>one</td>\n",
       "<td>1</td>\n",
       "<td>one</td>\n",
       "</tr>\n",
       "<tr>\n",
       "<td>1</td>\n",
       "<td>2</td>\n",
       "<td>two</td>\n",
       "<td>2</td>\n",
       "<td>two</td>\n",
       "</tr>\n",
       "<tr>\n",
       "<td>2</td>\n",
       "<td>3</td>\n",
       "<td>one</td>\n",
       "<td>3</td>\n",
       "<td>one</td>\n",
       "</tr>\n",
       "<tr>\n",
       "<td>3</td>\n",
       "<td>4</td>\n",
       "<td>two</td>\n",
       "<td>4</td>\n",
       "<td>two</td>\n",
       "</tr>\n",
       "<tr>\n",
       "<td>4</td>\n",
       "<td>5</td>\n",
       "<td>one</td>\n",
       "<td>5</td>\n",
       "<td>one</td>\n",
       "</tr>\n",
       "<tr>\n",
       "<td>5</td>\n",
       "<td>6</td>\n",
       "<td>two</td>\n",
       "<td>6</td>\n",
       "<td>two</td>\n",
       "</tr>\n",
       "</tbody>\n",
       "</table>"
      ],
      "text/plain": [
       "Tafra(\n",
       "data = {\n",
       " 'a': array([1, 2, 3, 4, 5, 6]),\n",
       " 'b': array(['one', 'two', 'one', 'two', 'one', 'two'], dtype=object),\n",
       " 'x': array([1, 2, 3, 4, 5, 6]),\n",
       " 'y': array(['one', 'two', 'one', 'two', 'one', 'two'], dtype=object)},\n",
       "dtypes = {\n",
       " 'a': 'int', 'b': 'object', 'x': 'int', 'y': 'object'}\n",
       ")"
      ]
     },
     "execution_count": 19,
     "metadata": {},
     "output_type": "execute_result"
    }
   ],
   "source": [
    "l = Tafra({\n",
    "    'x': np.array([1, 2, 3, 4, 5, 6]),\n",
    "    'y': np.array(['one', 'two', 'one', 'two', 'one', 'two'], dtype='object'),\n",
    "    'z': np.array([0, 0, 0, 1, 1, 1])\n",
    "})\n",
    "\n",
    "r = Tafra({\n",
    "    'a': np.array([1, 2, 3, 4, 5, 6]),\n",
    "    'b': np.array(['one', 'two', 'one', 'two', 'one', 'two'], dtype='object'),\n",
    "    'c': np.array([0, 0, 0, 1, 1, 1])\n",
    "})\n",
    "\n",
    "l = l.left_join(r, [('x', 'a', '==')], ['x', 'y', 'a', 'b'])\n",
    "l"
   ]
  },
  {
   "cell_type": "code",
   "execution_count": 20,
   "metadata": {
    "ExecuteTime": {
     "end_time": "2020-05-31T22:14:08.407039Z",
     "start_time": "2020-05-31T22:14:08.398063Z"
    }
   },
   "outputs": [
    {
     "data": {
      "text/html": [
       "<table>\n",
       "<thead>\n",
       "<tr>\n",
       "<th></th>\n",
       "<th>x</th>\n",
       "<th>y</th>\n",
       "<th>a</th>\n",
       "<th>b</th>\n",
       "</tr>\n",
       "</thead>\n",
       "<tbody>\n",
       "<tr>\n",
       "<td>dtype</td>\n",
       "<td>int</td>\n",
       "<td>object</td>\n",
       "<td>object</td>\n",
       "<td>object</td>\n",
       "</tr>\n",
       "<tr>\n",
       "<td>0</td>\n",
       "<td>1</td>\n",
       "<td>one</td>\n",
       "<td>1</td>\n",
       "<td>one</td>\n",
       "</tr>\n",
       "<tr>\n",
       "<td>1</td>\n",
       "<td>1</td>\n",
       "<td>one</td>\n",
       "<td>1</td>\n",
       "<td>two</td>\n",
       "</tr>\n",
       "<tr>\n",
       "<td>2</td>\n",
       "<td>1</td>\n",
       "<td>one</td>\n",
       "<td>1</td>\n",
       "<td>one</td>\n",
       "</tr>\n",
       "<tr>\n",
       "<td>3</td>\n",
       "<td>2</td>\n",
       "<td>two</td>\n",
       "<td>2</td>\n",
       "<td>two</td>\n",
       "</tr>\n",
       "<tr>\n",
       "<td>4</td>\n",
       "<td>2</td>\n",
       "<td>two</td>\n",
       "<td>2</td>\n",
       "<td>one</td>\n",
       "</tr>\n",
       "<tr>\n",
       "<td>5</td>\n",
       "<td>2</td>\n",
       "<td>two</td>\n",
       "<td>2</td>\n",
       "<td>two</td>\n",
       "</tr>\n",
       "<tr>\n",
       "<td>6</td>\n",
       "<td>3</td>\n",
       "<td>one</td>\n",
       "<td>None</td>\n",
       "<td>None</td>\n",
       "</tr>\n",
       "<tr>\n",
       "<td>7</td>\n",
       "<td>4</td>\n",
       "<td>two</td>\n",
       "<td>None</td>\n",
       "<td>None</td>\n",
       "</tr>\n",
       "<tr>\n",
       "<td>8</td>\n",
       "<td>5</td>\n",
       "<td>one</td>\n",
       "<td>None</td>\n",
       "<td>None</td>\n",
       "</tr>\n",
       "<tr>\n",
       "<td>9</td>\n",
       "<td>6</td>\n",
       "<td>two</td>\n",
       "<td>None</td>\n",
       "<td>None</td>\n",
       "</tr>\n",
       "</tbody>\n",
       "</table>"
      ],
      "text/plain": [
       "Tafra(\n",
       "data = {\n",
       " 'a': array([1, 1, 1, 2, 2, 2, None, None, None, None], dtype=object),\n",
       " 'b': array(['one', 'two', 'one', 'two', 'one', 'two', None, None, None, None],\n",
       "      dtype=object),\n",
       " 'x': array([1, 1, 1, 2, 2, 2, 3, 4, 5, 6]),\n",
       " 'y': array(['one', 'one', 'one', 'two', 'two', 'two', 'one', 'two', 'one',\n",
       "       'two'], dtype=object)},\n",
       "dtypes = {\n",
       " 'a': 'object', 'b': 'object', 'x': 'int', 'y': 'object'}\n",
       ")"
      ]
     },
     "execution_count": 20,
     "metadata": {},
     "output_type": "execute_result"
    }
   ],
   "source": [
    "l = Tafra({\n",
    "    'x': np.array([1, 2, 3, 4, 5, 6]),\n",
    "    'y': np.array(['one', 'two', 'one', 'two', 'one', 'two'], dtype='object'),\n",
    "    'z': np.array([0, 0, 0, 1, 1, 1])\n",
    "})\n",
    "\n",
    "r = Tafra({\n",
    "    'a': np.array([1, 1, 1, 2, 2, 2]),\n",
    "    'b': np.array(['one', 'two', 'one', 'two', 'one', 'two'], dtype='object'),\n",
    "    'c': np.array([0, 0, 0, 1, 1, 1])\n",
    "})\n",
    "\n",
    "l = l.left_join(r, [('x', 'a', '==')], ['x', 'y', 'a', 'b'])\n",
    "l"
   ]
  },
  {
   "cell_type": "code",
   "execution_count": 21,
   "metadata": {
    "ExecuteTime": {
     "end_time": "2020-05-31T22:14:08.418008Z",
     "start_time": "2020-05-31T22:14:08.408037Z"
    }
   },
   "outputs": [
    {
     "data": {
      "text/html": [
       "<table>\n",
       "<thead>\n",
       "<tr>\n",
       "<th></th>\n",
       "<th>x</th>\n",
       "<th>y</th>\n",
       "<th>a</th>\n",
       "<th>b</th>\n",
       "</tr>\n",
       "</thead>\n",
       "<tbody>\n",
       "<tr>\n",
       "<td>dtype</td>\n",
       "<td>int</td>\n",
       "<td>object</td>\n",
       "<td>object</td>\n",
       "<td>object</td>\n",
       "</tr>\n",
       "<tr>\n",
       "<td>0</td>\n",
       "<td>1</td>\n",
       "<td>one</td>\n",
       "<td>1</td>\n",
       "<td>one</td>\n",
       "</tr>\n",
       "<tr>\n",
       "<td>1</td>\n",
       "<td>1</td>\n",
       "<td>one</td>\n",
       "<td>1</td>\n",
       "<td>two</td>\n",
       "</tr>\n",
       "<tr>\n",
       "<td>2</td>\n",
       "<td>2</td>\n",
       "<td>two</td>\n",
       "<td>2</td>\n",
       "<td>two</td>\n",
       "</tr>\n",
       "<tr>\n",
       "<td>3</td>\n",
       "<td>3</td>\n",
       "<td>one</td>\n",
       "<td>None</td>\n",
       "<td>None</td>\n",
       "</tr>\n",
       "<tr>\n",
       "<td>4</td>\n",
       "<td>4</td>\n",
       "<td>two</td>\n",
       "<td>None</td>\n",
       "<td>None</td>\n",
       "</tr>\n",
       "<tr>\n",
       "<td>5</td>\n",
       "<td>5</td>\n",
       "<td>one</td>\n",
       "<td>None</td>\n",
       "<td>None</td>\n",
       "</tr>\n",
       "<tr>\n",
       "<td>6</td>\n",
       "<td>6</td>\n",
       "<td>two</td>\n",
       "<td>None</td>\n",
       "<td>None</td>\n",
       "</tr>\n",
       "</tbody>\n",
       "</table>"
      ],
      "text/plain": [
       "Tafra(\n",
       "data = {\n",
       " 'a': array([1, 1, 2, None, None, None, None], dtype=object),\n",
       " 'b': array(['one', 'two', 'two', None, None, None, None], dtype=object),\n",
       " 'x': array([1, 1, 2, 3, 4, 5, 6]),\n",
       " 'y': array(['one', 'one', 'two', 'one', 'two', 'one', 'two'], dtype=object)},\n",
       "dtypes = {\n",
       " 'a': 'object', 'b': 'object', 'x': 'int', 'y': 'object'}\n",
       ")"
      ]
     },
     "execution_count": 21,
     "metadata": {},
     "output_type": "execute_result"
    }
   ],
   "source": [
    "l = Tafra({\n",
    "    'x': np.array([1, 2, 3, 4, 5, 6]),\n",
    "    'y': np.array(['one', 'two', 'one', 'two', 'one', 'two'], dtype='object'),\n",
    "    'z': np.array([0, 0, 0, 1, 1, 1])\n",
    "})\n",
    "\n",
    "r = Tafra({\n",
    "    'a': np.array([1, 1, 1, 2, 2, 2]),\n",
    "    '_a': np.array([1, 1, 2, 2, 3, 3]),\n",
    "    'b': np.array(['one', 'two', 'one', 'two', 'one', 'two'], dtype='object'),\n",
    "    'c': np.array([0, 0, 0, 1, 1, 1])\n",
    "})\n",
    "\n",
    "l = l.left_join(r, [('x', 'a', '=='), ('x', '_a', '==')], ['x', 'y', 'a', 'b'])\n",
    "l"
   ]
  },
  {
   "cell_type": "code",
   "execution_count": 22,
   "metadata": {
    "ExecuteTime": {
     "end_time": "2020-05-31T22:14:08.427984Z",
     "start_time": "2020-05-31T22:14:08.419006Z"
    }
   },
   "outputs": [
    {
     "data": {
      "text/html": [
       "<table>\n",
       "<thead>\n",
       "<tr>\n",
       "<th></th>\n",
       "<th>x</th>\n",
       "<th>y</th>\n",
       "<th>a</th>\n",
       "<th>b</th>\n",
       "</tr>\n",
       "</thead>\n",
       "<tbody>\n",
       "<tr>\n",
       "<td>dtype</td>\n",
       "<td>int</td>\n",
       "<td>object</td>\n",
       "<td>object</td>\n",
       "<td>object</td>\n",
       "</tr>\n",
       "<tr>\n",
       "<td>0</td>\n",
       "<td>1</td>\n",
       "<td>one</td>\n",
       "<td>2</td>\n",
       "<td>one</td>\n",
       "</tr>\n",
       "<tr>\n",
       "<td>1</td>\n",
       "<td>1</td>\n",
       "<td>one</td>\n",
       "<td>2</td>\n",
       "<td>two</td>\n",
       "</tr>\n",
       "<tr>\n",
       "<td>2</td>\n",
       "<td>1</td>\n",
       "<td>one</td>\n",
       "<td>3</td>\n",
       "<td>one</td>\n",
       "</tr>\n",
       "<tr>\n",
       "<td>3</td>\n",
       "<td>1</td>\n",
       "<td>one</td>\n",
       "<td>3</td>\n",
       "<td>two</td>\n",
       "</tr>\n",
       "<tr>\n",
       "<td>4</td>\n",
       "<td>2</td>\n",
       "<td>two</td>\n",
       "<td>3</td>\n",
       "<td>one</td>\n",
       "</tr>\n",
       "<tr>\n",
       "<td>5</td>\n",
       "<td>2</td>\n",
       "<td>two</td>\n",
       "<td>3</td>\n",
       "<td>two</td>\n",
       "</tr>\n",
       "<tr>\n",
       "<td>6</td>\n",
       "<td>3</td>\n",
       "<td>one</td>\n",
       "<td>None</td>\n",
       "<td>None</td>\n",
       "</tr>\n",
       "<tr>\n",
       "<td>7</td>\n",
       "<td>4</td>\n",
       "<td>two</td>\n",
       "<td>None</td>\n",
       "<td>None</td>\n",
       "</tr>\n",
       "<tr>\n",
       "<td>8</td>\n",
       "<td>5</td>\n",
       "<td>one</td>\n",
       "<td>None</td>\n",
       "<td>None</td>\n",
       "</tr>\n",
       "<tr>\n",
       "<td>9</td>\n",
       "<td>6</td>\n",
       "<td>two</td>\n",
       "<td>None</td>\n",
       "<td>None</td>\n",
       "</tr>\n",
       "</tbody>\n",
       "</table>"
      ],
      "text/plain": [
       "Tafra(\n",
       "data = {\n",
       " 'a': array([2, 2, 3, 3, 3, 3, None, None, None, None], dtype=object),\n",
       " 'b': array(['one', 'two', 'one', 'two', 'one', 'two', None, None, None, None],\n",
       "      dtype=object),\n",
       " 'x': array([1, 1, 1, 1, 2, 2, 3, 4, 5, 6]),\n",
       " 'y': array(['one', 'one', 'one', 'one', 'two', 'two', 'one', 'two', 'one',\n",
       "       'two'], dtype=object)},\n",
       "dtypes = {\n",
       " 'a': 'object', 'b': 'object', 'x': 'int', 'y': 'object'}\n",
       ")"
      ]
     },
     "execution_count": 22,
     "metadata": {},
     "output_type": "execute_result"
    }
   ],
   "source": [
    "l = Tafra({\n",
    "    'x': np.array([1, 2, 3, 4, 5, 6]),\n",
    "    'y': np.array(['one', 'two', 'one', 'two', 'one', 'two'], dtype='object'),\n",
    "    'z': np.array([0, 0, 0, 1, 1, 1])\n",
    "})\n",
    "\n",
    "r = Tafra({\n",
    "    'a': np.array([1, 1, 2, 2, 3, 3]),\n",
    "    'b': np.array(['one', 'two', 'one', 'two', 'one', 'two'], dtype='object'),\n",
    "    'c': np.array([0, 0, 0, 1, 1, 1])\n",
    "})\n",
    "\n",
    "l = l.left_join(r, [('x', 'a', '<')], ['x', 'y', 'a', 'b'])\n",
    "l"
   ]
  },
  {
   "cell_type": "code",
   "execution_count": 23,
   "metadata": {
    "ExecuteTime": {
     "end_time": "2020-05-31T22:14:08.443939Z",
     "start_time": "2020-05-31T22:14:08.433005Z"
    }
   },
   "outputs": [
    {
     "data": {
      "text/html": [
       "<table>\n",
       "<thead>\n",
       "<tr>\n",
       "<th></th>\n",
       "<th>x</th>\n",
       "<th>y</th>\n",
       "<th>a</th>\n",
       "<th>b</th>\n",
       "</tr>\n",
       "</thead>\n",
       "<tbody>\n",
       "<tr>\n",
       "<td>dtype</td>\n",
       "<td>int</td>\n",
       "<td>object</td>\n",
       "<td>object</td>\n",
       "<td>object</td>\n",
       "</tr>\n",
       "<tr>\n",
       "<td>0</td>\n",
       "<td>1</td>\n",
       "<td>one</td>\n",
       "<td>1</td>\n",
       "<td>one</td>\n",
       "</tr>\n",
       "<tr>\n",
       "<td>1</td>\n",
       "<td>1</td>\n",
       "<td>one</td>\n",
       "<td>1</td>\n",
       "<td>two</td>\n",
       "</tr>\n",
       "<tr>\n",
       "<td>2</td>\n",
       "<td>1</td>\n",
       "<td>one</td>\n",
       "<td>1</td>\n",
       "<td>one</td>\n",
       "</tr>\n",
       "<tr>\n",
       "<td>3</td>\n",
       "<td>2</td>\n",
       "<td>two</td>\n",
       "<td>2</td>\n",
       "<td>two</td>\n",
       "</tr>\n",
       "<tr>\n",
       "<td>4</td>\n",
       "<td>2</td>\n",
       "<td>two</td>\n",
       "<td>2</td>\n",
       "<td>one</td>\n",
       "</tr>\n",
       "<tr>\n",
       "<td>5</td>\n",
       "<td>2</td>\n",
       "<td>two</td>\n",
       "<td>2</td>\n",
       "<td>two</td>\n",
       "</tr>\n",
       "<tr>\n",
       "<td>6</td>\n",
       "<td>3</td>\n",
       "<td>one</td>\n",
       "<td>None</td>\n",
       "<td>None</td>\n",
       "</tr>\n",
       "<tr>\n",
       "<td>7</td>\n",
       "<td>4</td>\n",
       "<td>two</td>\n",
       "<td>None</td>\n",
       "<td>None</td>\n",
       "</tr>\n",
       "<tr>\n",
       "<td>8</td>\n",
       "<td>5</td>\n",
       "<td>one</td>\n",
       "<td>None</td>\n",
       "<td>None</td>\n",
       "</tr>\n",
       "<tr>\n",
       "<td>9</td>\n",
       "<td>6</td>\n",
       "<td>two</td>\n",
       "<td>None</td>\n",
       "<td>None</td>\n",
       "</tr>\n",
       "</tbody>\n",
       "</table>"
      ],
      "text/plain": [
       "Tafra(\n",
       "data = {\n",
       " 'a': array([1, 1, 1, 2, 2, 2, None, None, None, None], dtype=object),\n",
       " 'b': array(['one', 'two', 'one', 'two', 'one', 'two', None, None, None, None],\n",
       "      dtype=object),\n",
       " 'x': array([1, 1, 1, 2, 2, 2, 3, 4, 5, 6]),\n",
       " 'y': array(['one', 'one', 'one', 'two', 'two', 'two', 'one', 'two', 'one',\n",
       "       'two'], dtype=object)},\n",
       "dtypes = {\n",
       " 'a': 'object', 'b': 'object', 'x': 'int', 'y': 'object'}\n",
       ")"
      ]
     },
     "execution_count": 23,
     "metadata": {},
     "output_type": "execute_result"
    }
   ],
   "source": [
    "l = Tafra({\n",
    "    'x': np.array([1, 2, 3, 4, 5, 6]),\n",
    "    'y': np.array(['one', 'two', 'one', 'two', 'one', 'two'], dtype='object'),\n",
    "    'z': np.array([0, 0, 0, 1, 1, 1])\n",
    "})\n",
    "\n",
    "r = Tafra({\n",
    "    'a': np.array([1, 1, 1, 2, 2, 2]),\n",
    "    'b': np.array(['one', 'two', 'one', 'two', 'one', 'two'], dtype='object'),\n",
    "    'c': np.array([0, 0, 0, 1, 1, 1])\n",
    "})\n",
    "\n",
    "l = l.left_join(r, [('x', 'a', '==')], ['x', 'y', 'a', 'b'])\n",
    "l"
   ]
  },
  {
   "cell_type": "code",
   "execution_count": 24,
   "metadata": {
    "ExecuteTime": {
     "end_time": "2020-05-31T22:14:08.455908Z",
     "start_time": "2020-05-31T22:14:08.447929Z"
    }
   },
   "outputs": [
    {
     "data": {
      "text/html": [
       "<table>\n",
       "<thead>\n",
       "<tr>\n",
       "<th></th>\n",
       "<th>x</th>\n",
       "<th>y</th>\n",
       "<th>a</th>\n",
       "<th>b</th>\n",
       "</tr>\n",
       "</thead>\n",
       "<tbody>\n",
       "<tr>\n",
       "<td>dtype</td>\n",
       "<td>int</td>\n",
       "<td>object</td>\n",
       "<td>int</td>\n",
       "<td>object</td>\n",
       "</tr>\n",
       "<tr>\n",
       "<td>0</td>\n",
       "<td>1</td>\n",
       "<td>one</td>\n",
       "<td>1</td>\n",
       "<td>one</td>\n",
       "</tr>\n",
       "<tr>\n",
       "<td>1</td>\n",
       "<td>2</td>\n",
       "<td>two</td>\n",
       "<td>2</td>\n",
       "<td>two</td>\n",
       "</tr>\n",
       "<tr>\n",
       "<td>2</td>\n",
       "<td>3</td>\n",
       "<td>one</td>\n",
       "<td>3</td>\n",
       "<td>one</td>\n",
       "</tr>\n",
       "<tr>\n",
       "<td>3</td>\n",
       "<td>4</td>\n",
       "<td>two</td>\n",
       "<td>4</td>\n",
       "<td>two</td>\n",
       "</tr>\n",
       "<tr>\n",
       "<td>4</td>\n",
       "<td>5</td>\n",
       "<td>one</td>\n",
       "<td>5</td>\n",
       "<td>one</td>\n",
       "</tr>\n",
       "<tr>\n",
       "<td>5</td>\n",
       "<td>6</td>\n",
       "<td>two</td>\n",
       "<td>6</td>\n",
       "<td>two</td>\n",
       "</tr>\n",
       "</tbody>\n",
       "</table>"
      ],
      "text/plain": [
       "Tafra(\n",
       "data = {\n",
       " 'a': array([1, 2, 3, 4, 5, 6]),\n",
       " 'b': array(['one', 'two', 'one', 'two', 'one', 'two'], dtype=object),\n",
       " 'x': array([1, 2, 3, 4, 5, 6]),\n",
       " 'y': array(['one', 'two', 'one', 'two', 'one', 'two'], dtype=object)},\n",
       "dtypes = {\n",
       " 'a': 'int', 'b': 'object', 'x': 'int', 'y': 'object'}\n",
       ")"
      ]
     },
     "execution_count": 24,
     "metadata": {},
     "output_type": "execute_result"
    }
   ],
   "source": [
    "l = Tafra({\n",
    "    'x': np.array([1, 2, 3, 4, 5, 6]),\n",
    "    'y': np.array(['one', 'two', 'one', 'two', 'one', 'two'], dtype='object'),\n",
    "    'z': np.array([0, 0, 0, 1, 1, 1])\n",
    "})\n",
    "\n",
    "r = Tafra({\n",
    "    'a': np.array([1, 2, 3, 4, 5, 6]),\n",
    "    'b': np.array(['one', 'two', 'one', 'two', 'one', 'two'], dtype='object'),\n",
    "    'c': np.array([0, 0, 0, 1, 1, 1])\n",
    "})\n",
    "\n",
    "l = l.inner_join(r, [('x', 'a', '==')], ['x', 'y', 'a', 'b'])\n",
    "l"
   ]
  },
  {
   "cell_type": "code",
   "execution_count": 25,
   "metadata": {
    "ExecuteTime": {
     "end_time": "2020-05-31T22:14:08.467877Z",
     "start_time": "2020-05-31T22:14:08.456919Z"
    }
   },
   "outputs": [
    {
     "data": {
      "text/html": [
       "<table>\n",
       "<thead>\n",
       "<tr>\n",
       "<th></th>\n",
       "<th>x</th>\n",
       "<th>y</th>\n",
       "<th>a</th>\n",
       "<th>b</th>\n",
       "</tr>\n",
       "</thead>\n",
       "<tbody>\n",
       "<tr>\n",
       "<td>dtype</td>\n",
       "<td>int</td>\n",
       "<td>object</td>\n",
       "<td>int</td>\n",
       "<td>object</td>\n",
       "</tr>\n",
       "<tr>\n",
       "<td>0</td>\n",
       "<td>1</td>\n",
       "<td>one</td>\n",
       "<td>1</td>\n",
       "<td>one</td>\n",
       "</tr>\n",
       "<tr>\n",
       "<td>1</td>\n",
       "<td>1</td>\n",
       "<td>one</td>\n",
       "<td>1</td>\n",
       "<td>two</td>\n",
       "</tr>\n",
       "<tr>\n",
       "<td>2</td>\n",
       "<td>2</td>\n",
       "<td>two</td>\n",
       "<td>2</td>\n",
       "<td>one</td>\n",
       "</tr>\n",
       "<tr>\n",
       "<td>3</td>\n",
       "<td>2</td>\n",
       "<td>two</td>\n",
       "<td>2</td>\n",
       "<td>two</td>\n",
       "</tr>\n",
       "<tr>\n",
       "<td>4</td>\n",
       "<td>3</td>\n",
       "<td>one</td>\n",
       "<td>3</td>\n",
       "<td>one</td>\n",
       "</tr>\n",
       "<tr>\n",
       "<td>5</td>\n",
       "<td>3</td>\n",
       "<td>one</td>\n",
       "<td>3</td>\n",
       "<td>two</td>\n",
       "</tr>\n",
       "</tbody>\n",
       "</table>"
      ],
      "text/plain": [
       "Tafra(\n",
       "data = {\n",
       " 'a': array([1, 1, 2, 2, 3, 3]),\n",
       " 'b': array(['one', 'two', 'one', 'two', 'one', 'two'], dtype=object),\n",
       " 'x': array([1, 1, 2, 2, 3, 3]),\n",
       " 'y': array(['one', 'one', 'two', 'two', 'one', 'one'], dtype=object)},\n",
       "dtypes = {\n",
       " 'a': 'int', 'b': 'object', 'x': 'int', 'y': 'object'}\n",
       ")"
      ]
     },
     "execution_count": 25,
     "metadata": {},
     "output_type": "execute_result"
    }
   ],
   "source": [
    "l = Tafra({\n",
    "    'x': np.array([1, 2, 3, 4, 5, 6]),\n",
    "    'y': np.array(['one', 'two', 'one', 'two', 'one', 'two'], dtype='object'),\n",
    "    'z': np.array([0, 0, 0, 1, 1, 1])\n",
    "})\n",
    "\n",
    "r = Tafra({\n",
    "    'a': np.array([1, 1, 2, 2, 3, 3]),\n",
    "    'b': np.array(['one', 'two', 'one', 'two', 'one', 'two'], dtype='object'),\n",
    "    'c': np.array([0, 0, 0, 1, 1, 1])\n",
    "})\n",
    "\n",
    "l = l.inner_join(r, [('x', 'a', '==')], ['x', 'y', 'a', 'b'])\n",
    "l"
   ]
  },
  {
   "cell_type": "code",
   "execution_count": 26,
   "metadata": {
    "ExecuteTime": {
     "end_time": "2020-05-31T22:14:08.477850Z",
     "start_time": "2020-05-31T22:14:08.468874Z"
    }
   },
   "outputs": [
    {
     "data": {
      "text/html": [
       "<table>\n",
       "<thead>\n",
       "<tr>\n",
       "<th></th>\n",
       "<th>x</th>\n",
       "<th>y</th>\n",
       "<th>a</th>\n",
       "<th>b</th>\n",
       "</tr>\n",
       "</thead>\n",
       "<tbody>\n",
       "<tr>\n",
       "<td>dtype</td>\n",
       "<td>int</td>\n",
       "<td>object</td>\n",
       "<td>int</td>\n",
       "<td>object</td>\n",
       "</tr>\n",
       "<tr>\n",
       "<td>0</td>\n",
       "<td>1</td>\n",
       "<td>one</td>\n",
       "<td>1</td>\n",
       "<td>one</td>\n",
       "</tr>\n",
       "<tr>\n",
       "<td>1</td>\n",
       "<td>1</td>\n",
       "<td>one</td>\n",
       "<td>1</td>\n",
       "<td>two</td>\n",
       "</tr>\n",
       "<tr>\n",
       "<td>2</td>\n",
       "<td>1</td>\n",
       "<td>one</td>\n",
       "<td>1</td>\n",
       "<td>one</td>\n",
       "</tr>\n",
       "<tr>\n",
       "<td>3</td>\n",
       "<td>2</td>\n",
       "<td>two</td>\n",
       "<td>2</td>\n",
       "<td>two</td>\n",
       "</tr>\n",
       "<tr>\n",
       "<td>4</td>\n",
       "<td>2</td>\n",
       "<td>two</td>\n",
       "<td>2</td>\n",
       "<td>one</td>\n",
       "</tr>\n",
       "<tr>\n",
       "<td>5</td>\n",
       "<td>2</td>\n",
       "<td>two</td>\n",
       "<td>2</td>\n",
       "<td>two</td>\n",
       "</tr>\n",
       "</tbody>\n",
       "</table>"
      ],
      "text/plain": [
       "Tafra(\n",
       "data = {\n",
       " 'a': array([1, 1, 1, 2, 2, 2]),\n",
       " 'b': array(['one', 'two', 'one', 'two', 'one', 'two'], dtype=object),\n",
       " 'x': array([1, 1, 1, 2, 2, 2]),\n",
       " 'y': array(['one', 'one', 'one', 'two', 'two', 'two'], dtype=object)},\n",
       "dtypes = {\n",
       " 'a': 'int', 'b': 'object', 'x': 'int', 'y': 'object'}\n",
       ")"
      ]
     },
     "execution_count": 26,
     "metadata": {},
     "output_type": "execute_result"
    }
   ],
   "source": [
    "l = Tafra({\n",
    "    'x': np.array([1, 2, 3, 4, 5, 6]),\n",
    "    'y': np.array(['one', 'two', 'one', 'two', 'one', 'two'], dtype='object'),\n",
    "    'z': np.array([0, 0, 0, 1, 1, 1])\n",
    "})\n",
    "\n",
    "r = Tafra({\n",
    "    'a': np.array([1, 1, 1, 2, 2, 2]),\n",
    "    'b': np.array(['one', 'two', 'one', 'two', 'one', 'two'], dtype='object'),\n",
    "    'c': np.array([0, 0, 0, 1, 1, 1])\n",
    "})\n",
    "\n",
    "l = l.inner_join(r, [('x', 'a', '==')], ['x', 'y', 'a', 'b'])\n",
    "l"
   ]
  },
  {
   "cell_type": "code",
   "execution_count": 27,
   "metadata": {
    "ExecuteTime": {
     "end_time": "2020-05-31T22:14:08.490814Z",
     "start_time": "2020-05-31T22:14:08.479852Z"
    }
   },
   "outputs": [
    {
     "data": {
      "text/html": [
       "<table>\n",
       "<thead>\n",
       "<tr>\n",
       "<th></th>\n",
       "<th>x</th>\n",
       "<th>y</th>\n",
       "<th>a</th>\n",
       "<th>b</th>\n",
       "</tr>\n",
       "</thead>\n",
       "<tbody>\n",
       "<tr>\n",
       "<td>dtype</td>\n",
       "<td>int</td>\n",
       "<td>object</td>\n",
       "<td>int</td>\n",
       "<td>object</td>\n",
       "</tr>\n",
       "<tr>\n",
       "<td>0</td>\n",
       "<td>1</td>\n",
       "<td>one</td>\n",
       "<td>1</td>\n",
       "<td>one</td>\n",
       "</tr>\n",
       "<tr>\n",
       "<td>1</td>\n",
       "<td>1</td>\n",
       "<td>one</td>\n",
       "<td>1</td>\n",
       "<td>two</td>\n",
       "</tr>\n",
       "<tr>\n",
       "<td>2</td>\n",
       "<td>1</td>\n",
       "<td>one</td>\n",
       "<td>1</td>\n",
       "<td>one</td>\n",
       "</tr>\n",
       "<tr>\n",
       "<td>3</td>\n",
       "<td>1</td>\n",
       "<td>one</td>\n",
       "<td>2</td>\n",
       "<td>two</td>\n",
       "</tr>\n",
       "<tr>\n",
       "<td>4</td>\n",
       "<td>1</td>\n",
       "<td>one</td>\n",
       "<td>2</td>\n",
       "<td>one</td>\n",
       "</tr>\n",
       "<tr>\n",
       "<td>5</td>\n",
       "<td>1</td>\n",
       "<td>one</td>\n",
       "<td>2</td>\n",
       "<td>two</td>\n",
       "</tr>\n",
       "<tr>\n",
       "<td>6</td>\n",
       "<td>2</td>\n",
       "<td>two</td>\n",
       "<td>2</td>\n",
       "<td>two</td>\n",
       "</tr>\n",
       "<tr>\n",
       "<td>7</td>\n",
       "<td>2</td>\n",
       "<td>two</td>\n",
       "<td>2</td>\n",
       "<td>one</td>\n",
       "</tr>\n",
       "<tr>\n",
       "<td>8</td>\n",
       "<td>2</td>\n",
       "<td>two</td>\n",
       "<td>2</td>\n",
       "<td>two</td>\n",
       "</tr>\n",
       "</tbody>\n",
       "</table>"
      ],
      "text/plain": [
       "Tafra(\n",
       "data = {\n",
       " 'a': array([1, 1, 1, 2, 2, 2, 2, 2, 2]),\n",
       " 'b': array(['one', 'two', 'one', 'two', 'one', 'two', 'two', 'one', 'two'],\n",
       "      dtype=object),\n",
       " 'x': array([1, 1, 1, 1, 1, 1, 2, 2, 2]),\n",
       " 'y': array(['one', 'one', 'one', 'one', 'one', 'one', 'two', 'two', 'two'],\n",
       "      dtype=object)},\n",
       "dtypes = {\n",
       " 'a': 'int', 'b': 'object', 'x': 'int', 'y': 'object'}\n",
       ")"
      ]
     },
     "execution_count": 27,
     "metadata": {},
     "output_type": "execute_result"
    }
   ],
   "source": [
    "l = Tafra({\n",
    "    'x': np.array([1, 2, 3, 4, 5, 6]),\n",
    "    'y': np.array(['one', 'two', 'one', 'two', 'one', 'two'], dtype='object'),\n",
    "    'z': np.array([0, 0, 0, 1, 1, 1])\n",
    "})\n",
    "\n",
    "r = Tafra({\n",
    "    'a': np.array([1, 1, 1, 2, 2, 2]),\n",
    "    'b': np.array(['one', 'two', 'one', 'two', 'one', 'two'], dtype='object'),\n",
    "    'c': np.array([0, 0, 0, 1, 1, 1])\n",
    "})\n",
    "\n",
    "l = l.inner_join(r, [('x', 'a', '<=')], ['x', 'y', 'a', 'b'])\n",
    "l"
   ]
  },
  {
   "cell_type": "code",
   "execution_count": 28,
   "metadata": {
    "ExecuteTime": {
     "end_time": "2020-05-31T22:14:08.496798Z",
     "start_time": "2020-05-31T22:14:08.491811Z"
    }
   },
   "outputs": [],
   "source": [
    "t0 = t.copy()\n",
    "try:\n",
    "    t0.union(_t)\n",
    "except Exception as e:\n",
    "    print(e)"
   ]
  },
  {
   "cell_type": "code",
   "execution_count": 29,
   "metadata": {
    "ExecuteTime": {
     "end_time": "2020-05-31T22:14:08.503808Z",
     "start_time": "2020-05-31T22:14:08.499793Z"
    }
   },
   "outputs": [],
   "source": [
    "t2 = t.copy()\n",
    "t3 = t.copy()\n",
    "t3.update_dtypes({'x': float})"
   ]
  },
  {
   "cell_type": "code",
   "execution_count": 30,
   "metadata": {
    "ExecuteTime": {
     "end_time": "2020-05-31T22:14:08.511759Z",
     "start_time": "2020-05-31T22:14:08.504778Z"
    }
   },
   "outputs": [
    {
     "data": {
      "text/html": [
       "<table>\n",
       "<thead>\n",
       "<tr>\n",
       "<th></th>\n",
       "<th>x</th>\n",
       "<th>y</th>\n",
       "<th>z</th>\n",
       "</tr>\n",
       "</thead>\n",
       "<tbody>\n",
       "<tr>\n",
       "<td>dtype</td>\n",
       "<td>float</td>\n",
       "<td>object</td>\n",
       "<td>int</td>\n",
       "</tr>\n",
       "<tr>\n",
       "<td>0</td>\n",
       "<td>1.0</td>\n",
       "<td>one</td>\n",
       "<td>0</td>\n",
       "</tr>\n",
       "<tr>\n",
       "<td>1</td>\n",
       "<td>2.0</td>\n",
       "<td>two</td>\n",
       "<td>0</td>\n",
       "</tr>\n",
       "<tr>\n",
       "<td>2</td>\n",
       "<td>3.0</td>\n",
       "<td>one</td>\n",
       "<td>0</td>\n",
       "</tr>\n",
       "<tr>\n",
       "<td>3</td>\n",
       "<td>4.0</td>\n",
       "<td>two</td>\n",
       "<td>1</td>\n",
       "</tr>\n",
       "<tr>\n",
       "<td>4</td>\n",
       "<td>5.0</td>\n",
       "<td>one</td>\n",
       "<td>1</td>\n",
       "</tr>\n",
       "<tr>\n",
       "<td>5</td>\n",
       "<td>6.0</td>\n",
       "<td>two</td>\n",
       "<td>1</td>\n",
       "</tr>\n",
       "<tr>\n",
       "<td>6</td>\n",
       "<td>1.0</td>\n",
       "<td>one</td>\n",
       "<td>0</td>\n",
       "</tr>\n",
       "<tr>\n",
       "<td>7</td>\n",
       "<td>2.0</td>\n",
       "<td>two</td>\n",
       "<td>0</td>\n",
       "</tr>\n",
       "<tr>\n",
       "<td>8</td>\n",
       "<td>3.0</td>\n",
       "<td>one</td>\n",
       "<td>0</td>\n",
       "</tr>\n",
       "<tr>\n",
       "<td>9</td>\n",
       "<td>4.0</td>\n",
       "<td>two</td>\n",
       "<td>1</td>\n",
       "</tr>\n",
       "<tr>\n",
       "<td>10</td>\n",
       "<td>5.0</td>\n",
       "<td>one</td>\n",
       "<td>1</td>\n",
       "</tr>\n",
       "<tr>\n",
       "<td>11</td>\n",
       "<td>6.0</td>\n",
       "<td>two</td>\n",
       "<td>1</td>\n",
       "</tr>\n",
       "</tbody>\n",
       "</table>"
      ],
      "text/plain": [
       "Tafra(\n",
       "data = {\n",
       " 'x': array([1., 2., 3., 4., 5., 6., 1., 2., 3., 4., 5., 6.]),\n",
       " 'y': array(['one', 'two', 'one', 'two', 'one', 'two', 'one', 'two', 'one',\n",
       "       'two', 'one', 'two'], dtype=object),\n",
       " 'z': array([0, 0, 0, 1, 1, 1, 0, 0, 0, 1, 1, 1])},\n",
       "dtypes = {\n",
       " 'x': 'float', 'y': 'object', 'z': 'int'}\n",
       ")"
      ]
     },
     "execution_count": 30,
     "metadata": {},
     "output_type": "execute_result"
    }
   ],
   "source": [
    "t0.union(t2)"
   ]
  },
  {
   "cell_type": "code",
   "execution_count": 31,
   "metadata": {
    "ExecuteTime": {
     "end_time": "2020-05-31T22:14:08.517743Z",
     "start_time": "2020-05-31T22:14:08.513813Z"
    }
   },
   "outputs": [],
   "source": [
    "try:\n",
    "    t0.union(t3)\n",
    "except Exception as e:\n",
    "    print(e)"
   ]
  },
  {
   "cell_type": "code",
   "execution_count": 32,
   "metadata": {
    "ExecuteTime": {
     "end_time": "2020-05-31T22:14:08.525721Z",
     "start_time": "2020-05-31T22:14:08.518742Z"
    }
   },
   "outputs": [
    {
     "data": {
      "text/html": [
       "<table>\n",
       "<thead>\n",
       "<tr>\n",
       "<th></th>\n",
       "<th>x</th>\n",
       "<th>y</th>\n",
       "<th>z</th>\n",
       "</tr>\n",
       "</thead>\n",
       "<tbody>\n",
       "<tr>\n",
       "<td>dtype</td>\n",
       "<td>float</td>\n",
       "<td>object</td>\n",
       "<td>int</td>\n",
       "</tr>\n",
       "<tr>\n",
       "<td>0</td>\n",
       "<td>1.0</td>\n",
       "<td>one</td>\n",
       "<td>0</td>\n",
       "</tr>\n",
       "<tr>\n",
       "<td>1</td>\n",
       "<td>2.0</td>\n",
       "<td>two</td>\n",
       "<td>0</td>\n",
       "</tr>\n",
       "<tr>\n",
       "<td>2</td>\n",
       "<td>3.0</td>\n",
       "<td>one</td>\n",
       "<td>0</td>\n",
       "</tr>\n",
       "<tr>\n",
       "<td>3</td>\n",
       "<td>4.0</td>\n",
       "<td>two</td>\n",
       "<td>1</td>\n",
       "</tr>\n",
       "<tr>\n",
       "<td>4</td>\n",
       "<td>5.0</td>\n",
       "<td>one</td>\n",
       "<td>1</td>\n",
       "</tr>\n",
       "<tr>\n",
       "<td>5</td>\n",
       "<td>6.0</td>\n",
       "<td>two</td>\n",
       "<td>1</td>\n",
       "</tr>\n",
       "</tbody>\n",
       "</table>"
      ],
      "text/plain": [
       "Tafra(\n",
       "data = {\n",
       " 'x': array([1., 2., 3., 4., 5., 6., 1., 2., 3., 4., 5., 6.]),\n",
       " 'y': array(['one', 'two', 'one', 'two', 'one', 'two', 'one', 'two', 'one',\n",
       "       'two', 'one', 'two'], dtype=object),\n",
       " 'z': array([0, 0, 0, 1, 1, 1, 0, 0, 0, 1, 1, 1])},\n",
       "dtypes = {\n",
       " 'x': 'float', 'y': 'object', 'z': 'int'}\n",
       ")"
      ]
     },
     "execution_count": 32,
     "metadata": {},
     "output_type": "execute_result"
    }
   ],
   "source": [
    "t3 = t.copy()\n",
    "t2.union(t3, inplace=True)\n",
    "t2"
   ]
  },
  {
   "cell_type": "code",
   "execution_count": 33,
   "metadata": {
    "ExecuteTime": {
     "end_time": "2020-05-31T22:14:08.532703Z",
     "start_time": "2020-05-31T22:14:08.526718Z"
    }
   },
   "outputs": [
    {
     "data": {
      "text/plain": [
       "array([0., 2., 3., 4., 5., 6.])"
      ]
     },
     "execution_count": 33,
     "metadata": {},
     "output_type": "execute_result"
    }
   ],
   "source": [
    "x = t0[:3]\n",
    "x['x'][0] = 0\n",
    "t0['x']"
   ]
  },
  {
   "cell_type": "code",
   "execution_count": 34,
   "metadata": {
    "ExecuteTime": {
     "end_time": "2020-05-31T22:14:08.539686Z",
     "start_time": "2020-05-31T22:14:08.533700Z"
    }
   },
   "outputs": [
    {
     "data": {
      "text/plain": [
       "array([7., 2., 3., 4., 5., 6.])"
      ]
     },
     "execution_count": 34,
     "metadata": {},
     "output_type": "execute_result"
    }
   ],
   "source": [
    "x = t0[slice(0, 3)]\n",
    "x['x'][0] = 7\n",
    "t0['x']"
   ]
  },
  {
   "cell_type": "code",
   "execution_count": 35,
   "metadata": {
    "ExecuteTime": {
     "end_time": "2020-05-31T22:14:08.547664Z",
     "start_time": "2020-05-31T22:14:08.541679Z"
    }
   },
   "outputs": [
    {
     "data": {
      "text/plain": [
       "array([7., 2., 3., 4., 5., 6.])"
      ]
     },
     "execution_count": 35,
     "metadata": {},
     "output_type": "execute_result"
    }
   ],
   "source": [
    "z = t0[:3].copy()\n",
    "z['x'][0] = 9\n",
    "t0['x']"
   ]
  },
  {
   "cell_type": "code",
   "execution_count": 36,
   "metadata": {
    "ExecuteTime": {
     "end_time": "2020-05-31T22:14:08.554644Z",
     "start_time": "2020-05-31T22:14:08.549658Z"
    }
   },
   "outputs": [
    {
     "name": "stdout",
     "output_type": "stream",
     "text": [
      "[ 2. 15.  4.]\n",
      "[7. 2. 3. 4. 5. 6.]\n"
     ]
    }
   ],
   "source": [
    "a = t0[t0['x'] <= 4]\n",
    "a['x'][1] = 15\n",
    "print(a['x'])\n",
    "print(t0['x'])"
   ]
  },
  {
   "cell_type": "code",
   "execution_count": 37,
   "metadata": {
    "ExecuteTime": {
     "end_time": "2020-05-31T22:14:08.560628Z",
     "start_time": "2020-05-31T22:14:08.556638Z"
    }
   },
   "outputs": [],
   "source": [
    "t0.update_dtypes({'x': float})"
   ]
  },
  {
   "cell_type": "code",
   "execution_count": 38,
   "metadata": {
    "ExecuteTime": {
     "end_time": "2020-05-31T22:14:08.566612Z",
     "start_time": "2020-05-31T22:14:08.562624Z"
    }
   },
   "outputs": [],
   "source": [
    "t0.update_dtypes({'x': 'float'})"
   ]
  },
  {
   "cell_type": "code",
   "execution_count": 39,
   "metadata": {
    "ExecuteTime": {
     "end_time": "2020-05-31T22:14:08.573592Z",
     "start_time": "2020-05-31T22:14:08.568607Z"
    }
   },
   "outputs": [
    {
     "name": "stdout",
     "output_type": "stream",
     "text": [
      "`flot` is not a valid dtype for `x.`\n",
      "`st` is not a valid dtype for `y.`\n",
      "\n"
     ]
    }
   ],
   "source": [
    "try:\n",
    "    t0.update_dtypes({'x': 'flot', 'y': 'st'})\n",
    "except Exception as e:\n",
    "    print(e)"
   ]
  },
  {
   "cell_type": "code",
   "execution_count": 40,
   "metadata": {
    "ExecuteTime": {
     "end_time": "2020-05-31T22:14:08.580585Z",
     "start_time": "2020-05-31T22:14:08.574590Z"
    }
   },
   "outputs": [
    {
     "data": {
      "text/html": [
       "<table>\n",
       "<thead>\n",
       "<tr>\n",
       "<th></th>\n",
       "<th>x</th>\n",
       "<th>y</th>\n",
       "<th>z</th>\n",
       "</tr>\n",
       "</thead>\n",
       "<tbody>\n",
       "<tr>\n",
       "<td>dtype</td>\n",
       "<td>int</td>\n",
       "<td>object</td>\n",
       "<td>int</td>\n",
       "</tr>\n",
       "<tr>\n",
       "<td>0</td>\n",
       "<td>7</td>\n",
       "<td>one</td>\n",
       "<td>0</td>\n",
       "</tr>\n",
       "<tr>\n",
       "<td>1</td>\n",
       "<td>2</td>\n",
       "<td>two</td>\n",
       "<td>0</td>\n",
       "</tr>\n",
       "<tr>\n",
       "<td>2</td>\n",
       "<td>3</td>\n",
       "<td>one</td>\n",
       "<td>0</td>\n",
       "</tr>\n",
       "<tr>\n",
       "<td>3</td>\n",
       "<td>4</td>\n",
       "<td>two</td>\n",
       "<td>1</td>\n",
       "</tr>\n",
       "<tr>\n",
       "<td>4</td>\n",
       "<td>5</td>\n",
       "<td>one</td>\n",
       "<td>1</td>\n",
       "</tr>\n",
       "<tr>\n",
       "<td>5</td>\n",
       "<td>6</td>\n",
       "<td>two</td>\n",
       "<td>1</td>\n",
       "</tr>\n",
       "</tbody>\n",
       "</table>"
      ],
      "text/plain": [
       "Tafra(\n",
       "data = {\n",
       " 'x': array([7, 2, 3, 4, 5, 6]),\n",
       " 'y': array(['one', 'two', 'one', 'two', 'one', 'two'], dtype=object),\n",
       " 'z': array([0, 0, 0, 1, 1, 1])},\n",
       "dtypes = {\n",
       " 'x': 'int', 'y': 'object', 'z': 'int'}\n",
       ")"
      ]
     },
     "execution_count": 40,
     "metadata": {},
     "output_type": "execute_result"
    }
   ],
   "source": [
    "t0.update_dtypes({'x': int})\n",
    "o = t0.copy()\n",
    "t0.update(o)\n",
    "t0"
   ]
  },
  {
   "cell_type": "code",
   "execution_count": 41,
   "metadata": {
    "ExecuteTime": {
     "end_time": "2020-05-31T22:14:08.589551Z",
     "start_time": "2020-05-31T22:14:08.582577Z"
    }
   },
   "outputs": [
    {
     "data": {
      "text/html": [
       "<table>\n",
       "<thead>\n",
       "<tr>\n",
       "<th></th>\n",
       "<th>x</th>\n",
       "<th>y</th>\n",
       "<th>z</th>\n",
       "</tr>\n",
       "</thead>\n",
       "<tbody>\n",
       "<tr>\n",
       "<td>dtype</td>\n",
       "<td>float</td>\n",
       "<td>object</td>\n",
       "<td>int</td>\n",
       "</tr>\n",
       "<tr>\n",
       "<td>0</td>\n",
       "<td>7.0</td>\n",
       "<td>one</td>\n",
       "<td>0</td>\n",
       "</tr>\n",
       "<tr>\n",
       "<td>1</td>\n",
       "<td>2.0</td>\n",
       "<td>two</td>\n",
       "<td>0</td>\n",
       "</tr>\n",
       "<tr>\n",
       "<td>2</td>\n",
       "<td>3.0</td>\n",
       "<td>one</td>\n",
       "<td>0</td>\n",
       "</tr>\n",
       "<tr>\n",
       "<td>3</td>\n",
       "<td>4.0</td>\n",
       "<td>two</td>\n",
       "<td>1</td>\n",
       "</tr>\n",
       "<tr>\n",
       "<td>4</td>\n",
       "<td>5.0</td>\n",
       "<td>one</td>\n",
       "<td>1</td>\n",
       "</tr>\n",
       "<tr>\n",
       "<td>5</td>\n",
       "<td>6.0</td>\n",
       "<td>two</td>\n",
       "<td>1</td>\n",
       "</tr>\n",
       "</tbody>\n",
       "</table>"
      ],
      "text/plain": [
       "Tafra(\n",
       "data = {\n",
       " 'x': array([7., 2., 3., 4., 5., 6.]),\n",
       " 'y': array(['one', 'two', 'one', 'two', 'one', 'two'], dtype=object),\n",
       " 'z': array([0, 0, 0, 1, 1, 1])},\n",
       "dtypes = {\n",
       " 'x': 'float', 'y': 'object', 'z': 'int'}\n",
       ")"
      ]
     },
     "execution_count": 41,
     "metadata": {},
     "output_type": "execute_result"
    }
   ],
   "source": [
    "o.update_dtypes({'x': float})\n",
    "t0.update(o)\n",
    "t0"
   ]
  },
  {
   "cell_type": "markdown",
   "metadata": {},
   "source": [
    "Direct assignment to the `_data` `dict()` is not recommended as it bypasses validation."
   ]
  },
  {
   "cell_type": "code",
   "execution_count": 42,
   "metadata": {
    "ExecuteTime": {
     "end_time": "2020-05-31T22:14:08.595535Z",
     "start_time": "2020-05-31T22:14:08.591554Z"
    }
   },
   "outputs": [
    {
     "name": "stdout",
     "output_type": "stream",
     "text": [
      "`Tafra` must have consistent row counts.\n"
     ]
    }
   ],
   "source": [
    "o._data['x'] = np.arange(5)\n",
    "try:\n",
    "    o.__post_init__()\n",
    "except Exception as e:\n",
    "    print(e)"
   ]
  },
  {
   "cell_type": "code",
   "execution_count": 43,
   "metadata": {
    "ExecuteTime": {
     "end_time": "2020-05-31T22:14:08.604510Z",
     "start_time": "2020-05-31T22:14:08.597529Z"
    }
   },
   "outputs": [
    {
     "name": "stdout",
     "output_type": "stream",
     "text": [
      "Other `Tafra` must have consistent row count. This `Tafra` has 6 rows, other `Tafra` has 5 rows.\n"
     ]
    },
    {
     "data": {
      "text/html": [
       "<table>\n",
       "<thead>\n",
       "<tr>\n",
       "<th></th>\n",
       "<th>x</th>\n",
       "<th>y</th>\n",
       "<th>z</th>\n",
       "</tr>\n",
       "</thead>\n",
       "<tbody>\n",
       "<tr>\n",
       "<td>dtype</td>\n",
       "<td>float</td>\n",
       "<td>object</td>\n",
       "<td>int</td>\n",
       "</tr>\n",
       "<tr>\n",
       "<td>0</td>\n",
       "<td>7.0</td>\n",
       "<td>one</td>\n",
       "<td>0</td>\n",
       "</tr>\n",
       "<tr>\n",
       "<td>1</td>\n",
       "<td>2.0</td>\n",
       "<td>two</td>\n",
       "<td>0</td>\n",
       "</tr>\n",
       "<tr>\n",
       "<td>2</td>\n",
       "<td>3.0</td>\n",
       "<td>one</td>\n",
       "<td>0</td>\n",
       "</tr>\n",
       "<tr>\n",
       "<td>3</td>\n",
       "<td>4.0</td>\n",
       "<td>two</td>\n",
       "<td>1</td>\n",
       "</tr>\n",
       "<tr>\n",
       "<td>4</td>\n",
       "<td>5.0</td>\n",
       "<td>one</td>\n",
       "<td>1</td>\n",
       "</tr>\n",
       "<tr>\n",
       "<td>5</td>\n",
       "<td>6.0</td>\n",
       "<td>two</td>\n",
       "<td>1</td>\n",
       "</tr>\n",
       "</tbody>\n",
       "</table>"
      ],
      "text/plain": [
       "Tafra(\n",
       "data = {\n",
       " 'x': array([7., 2., 3., 4., 5., 6.]),\n",
       " 'y': array(['one', 'two', 'one', 'two', 'one', 'two'], dtype=object),\n",
       " 'z': array([0, 0, 0, 1, 1, 1])},\n",
       "dtypes = {\n",
       " 'x': 'float', 'y': 'object', 'z': 'int'}\n",
       ")"
      ]
     },
     "execution_count": 43,
     "metadata": {},
     "output_type": "execute_result"
    }
   ],
   "source": [
    "try:\n",
    "    t0.update(o)\n",
    "except Exception as e:\n",
    "    print(e)\n",
    "t0"
   ]
  },
  {
   "cell_type": "code",
   "execution_count": 44,
   "metadata": {
    "ExecuteTime": {
     "end_time": "2020-05-31T22:14:08.611492Z",
     "start_time": "2020-05-31T22:14:08.605508Z"
    }
   },
   "outputs": [
    {
     "data": {
      "text/html": [
       "<table>\n",
       "<thead>\n",
       "<tr>\n",
       "<th></th>\n",
       "<th>x</th>\n",
       "<th>y</th>\n",
       "<th>z</th>\n",
       "</tr>\n",
       "</thead>\n",
       "<tbody>\n",
       "<tr>\n",
       "<td>dtype</td>\n",
       "<td>int</td>\n",
       "<td>object</td>\n",
       "<td>int</td>\n",
       "</tr>\n",
       "<tr>\n",
       "<td>0</td>\n",
       "<td>0</td>\n",
       "<td>one</td>\n",
       "<td>0</td>\n",
       "</tr>\n",
       "<tr>\n",
       "<td>1</td>\n",
       "<td>1</td>\n",
       "<td>two</td>\n",
       "<td>0</td>\n",
       "</tr>\n",
       "<tr>\n",
       "<td>2</td>\n",
       "<td>2</td>\n",
       "<td>one</td>\n",
       "<td>0</td>\n",
       "</tr>\n",
       "<tr>\n",
       "<td>3</td>\n",
       "<td>3</td>\n",
       "<td>two</td>\n",
       "<td>1</td>\n",
       "</tr>\n",
       "<tr>\n",
       "<td>4</td>\n",
       "<td>4</td>\n",
       "<td>one</td>\n",
       "<td>1</td>\n",
       "</tr>\n",
       "<tr>\n",
       "<td>5</td>\n",
       "<td>5</td>\n",
       "<td>two</td>\n",
       "<td>1</td>\n",
       "</tr>\n",
       "</tbody>\n",
       "</table>"
      ],
      "text/plain": [
       "Tafra(\n",
       "data = {\n",
       " 'x': array([0, 1, 2, 3, 4, 5]),\n",
       " 'y': array(['one', 'two', 'one', 'two', 'one', 'two'], dtype=object),\n",
       " 'z': array([0, 0, 0, 1, 1, 1])},\n",
       "dtypes = {\n",
       " 'x': 'int', 'y': 'object', 'z': 'int'}\n",
       ")"
      ]
     },
     "execution_count": 44,
     "metadata": {},
     "output_type": "execute_result"
    }
   ],
   "source": [
    "try:\n",
    "    t0['x'] = list(range(6))\n",
    "except Exception as e:\n",
    "    print(e)\n",
    "t0"
   ]
  },
  {
   "cell_type": "code",
   "execution_count": 45,
   "metadata": {
    "ExecuteTime": {
     "end_time": "2020-05-31T22:14:08.618474Z",
     "start_time": "2020-05-31T22:14:08.612490Z"
    }
   },
   "outputs": [
    {
     "name": "stderr",
     "output_type": "stream",
     "text": [
      "c:\\users\\dfulford\\projects\\petbox\\tafra\\tafra\\base.py:316: UserWarning: `np.squeeze(ndarray)` applied to set ndim == 1.\n",
      "  warnings.warn('`np.squeeze(ndarray)` applied to set ndim == 1.')\n"
     ]
    }
   ],
   "source": [
    "t0['x'] = np.arange(6)[:, None]"
   ]
  },
  {
   "cell_type": "code",
   "execution_count": 46,
   "metadata": {
    "ExecuteTime": {
     "end_time": "2020-05-31T22:14:08.626457Z",
     "start_time": "2020-05-31T22:14:08.619470Z"
    }
   },
   "outputs": [
    {
     "name": "stderr",
     "output_type": "stream",
     "text": [
      "c:\\users\\dfulford\\projects\\petbox\\tafra\\tafra\\base.py:316: UserWarning: `np.squeeze(ndarray)` applied to set ndim == 1.\n",
      "  warnings.warn('`np.squeeze(ndarray)` applied to set ndim == 1.')\n"
     ]
    },
    {
     "data": {
      "text/html": [
       "<table>\n",
       "<thead>\n",
       "<tr>\n",
       "<th></th>\n",
       "<th>x</th>\n",
       "<th>y</th>\n",
       "<th>z</th>\n",
       "</tr>\n",
       "</thead>\n",
       "<tbody>\n",
       "<tr>\n",
       "<td>dtype</td>\n",
       "<td>int</td>\n",
       "<td>object</td>\n",
       "<td>int</td>\n",
       "</tr>\n",
       "<tr>\n",
       "<td>0</td>\n",
       "<td>0</td>\n",
       "<td>one</td>\n",
       "<td>0</td>\n",
       "</tr>\n",
       "<tr>\n",
       "<td>1</td>\n",
       "<td>1</td>\n",
       "<td>two</td>\n",
       "<td>0</td>\n",
       "</tr>\n",
       "<tr>\n",
       "<td>2</td>\n",
       "<td>2</td>\n",
       "<td>one</td>\n",
       "<td>0</td>\n",
       "</tr>\n",
       "<tr>\n",
       "<td>3</td>\n",
       "<td>3</td>\n",
       "<td>two</td>\n",
       "<td>1</td>\n",
       "</tr>\n",
       "<tr>\n",
       "<td>4</td>\n",
       "<td>4</td>\n",
       "<td>one</td>\n",
       "<td>1</td>\n",
       "</tr>\n",
       "<tr>\n",
       "<td>5</td>\n",
       "<td>5</td>\n",
       "<td>two</td>\n",
       "<td>1</td>\n",
       "</tr>\n",
       "</tbody>\n",
       "</table>"
      ],
      "text/plain": [
       "Tafra(\n",
       "data = {\n",
       " 'x': array([0, 1, 2, 3, 4, 5]),\n",
       " 'y': array(['one', 'two', 'one', 'two', 'one', 'two'], dtype=object),\n",
       " 'z': array([0, 0, 0, 1, 1, 1])},\n",
       "dtypes = {\n",
       " 'x': 'int', 'y': 'object', 'z': 'int'}\n",
       ")"
      ]
     },
     "execution_count": 46,
     "metadata": {},
     "output_type": "execute_result"
    }
   ],
   "source": [
    "try:\n",
    "    t0['x'] = np.atleast_2d(np.arange(6))\n",
    "except Exception as e:\n",
    "    print(e)\n",
    "t0"
   ]
  },
  {
   "cell_type": "code",
   "execution_count": 47,
   "metadata": {
    "ExecuteTime": {
     "end_time": "2020-05-31T22:14:08.634431Z",
     "start_time": "2020-05-31T22:14:08.627483Z"
    }
   },
   "outputs": [
    {
     "name": "stderr",
     "output_type": "stream",
     "text": [
      "c:\\users\\dfulford\\projects\\petbox\\tafra\\tafra\\base.py:316: UserWarning: `np.squeeze(ndarray)` applied to set ndim == 1.\n",
      "  warnings.warn('`np.squeeze(ndarray)` applied to set ndim == 1.')\n"
     ]
    },
    {
     "data": {
      "text/html": [
       "<table>\n",
       "<thead>\n",
       "<tr>\n",
       "<th></th>\n",
       "<th>x</th>\n",
       "<th>y</th>\n",
       "<th>z</th>\n",
       "</tr>\n",
       "</thead>\n",
       "<tbody>\n",
       "<tr>\n",
       "<td>dtype</td>\n",
       "<td>int</td>\n",
       "<td>object</td>\n",
       "<td>int</td>\n",
       "</tr>\n",
       "<tr>\n",
       "<td>0</td>\n",
       "<td>0</td>\n",
       "<td>one</td>\n",
       "<td>0</td>\n",
       "</tr>\n",
       "<tr>\n",
       "<td>1</td>\n",
       "<td>1</td>\n",
       "<td>two</td>\n",
       "<td>0</td>\n",
       "</tr>\n",
       "<tr>\n",
       "<td>2</td>\n",
       "<td>2</td>\n",
       "<td>one</td>\n",
       "<td>0</td>\n",
       "</tr>\n",
       "<tr>\n",
       "<td>3</td>\n",
       "<td>3</td>\n",
       "<td>two</td>\n",
       "<td>1</td>\n",
       "</tr>\n",
       "<tr>\n",
       "<td>4</td>\n",
       "<td>4</td>\n",
       "<td>one</td>\n",
       "<td>1</td>\n",
       "</tr>\n",
       "<tr>\n",
       "<td>5</td>\n",
       "<td>5</td>\n",
       "<td>two</td>\n",
       "<td>1</td>\n",
       "</tr>\n",
       "</tbody>\n",
       "</table>"
      ],
      "text/plain": [
       "Tafra(\n",
       "data = {\n",
       " 'x': array([0, 1, 2, 3, 4, 5]),\n",
       " 'y': array(['one', 'two', 'one', 'two', 'one', 'two'], dtype=object),\n",
       " 'z': array([0, 0, 0, 1, 1, 1])},\n",
       "dtypes = {\n",
       " 'x': 'int', 'y': 'object', 'z': 'int'}\n",
       ")"
      ]
     },
     "execution_count": 47,
     "metadata": {},
     "output_type": "execute_result"
    }
   ],
   "source": [
    "t0['x'] = np.atleast_2d(np.arange(6)).T\n",
    "t0"
   ]
  },
  {
   "cell_type": "code",
   "execution_count": 48,
   "metadata": {
    "ExecuteTime": {
     "end_time": "2020-05-31T22:14:08.640416Z",
     "start_time": "2020-05-31T22:14:08.636425Z"
    }
   },
   "outputs": [
    {
     "name": "stderr",
     "output_type": "stream",
     "text": [
      "c:\\users\\dfulford\\projects\\petbox\\tafra\\tafra\\base.py:316: UserWarning: `np.squeeze(ndarray)` applied to set ndim == 1.\n",
      "  warnings.warn('`np.squeeze(ndarray)` applied to set ndim == 1.')\n"
     ]
    }
   ],
   "source": [
    "try:\n",
    "    t0['x'] = np.atleast_2d(np.arange(6))\n",
    "except Exception as e:\n",
    "    print(e)"
   ]
  },
  {
   "cell_type": "code",
   "execution_count": 49,
   "metadata": {
    "ExecuteTime": {
     "end_time": "2020-05-31T22:14:08.646400Z",
     "start_time": "2020-05-31T22:14:08.641413Z"
    }
   },
   "outputs": [
    {
     "name": "stdout",
     "output_type": "stream",
     "text": [
      "`ndarray` or `np.squeeze(ndarray)` must have ndim == 1.\n"
     ]
    }
   ],
   "source": [
    "try:\n",
    "    t0['x'] = np.repeat(np.arange(6)[:, None], repeats=2, axis=1)\n",
    "except Exception as e:\n",
    "    print(e)"
   ]
  },
  {
   "cell_type": "code",
   "execution_count": 50,
   "metadata": {
    "ExecuteTime": {
     "end_time": "2020-05-31T22:14:08.658366Z",
     "start_time": "2020-05-31T22:14:08.649393Z"
    }
   },
   "outputs": [
    {
     "data": {
      "text/html": [
       "<table>\n",
       "<thead>\n",
       "<tr>\n",
       "<th></th>\n",
       "<th>x</th>\n",
       "<th>y</th>\n",
       "<th>z</th>\n",
       "<th>d</th>\n",
       "</tr>\n",
       "</thead>\n",
       "<tbody>\n",
       "<tr>\n",
       "<td>dtype</td>\n",
       "<td>int</td>\n",
       "<td>object</td>\n",
       "<td>int</td>\n",
       "<td>date</td>\n",
       "</tr>\n",
       "<tr>\n",
       "<td>0</td>\n",
       "<td>1</td>\n",
       "<td>one</td>\n",
       "<td>0</td>\n",
       "<td>1970-01-01</td>\n",
       "</tr>\n",
       "<tr>\n",
       "<td>1</td>\n",
       "<td>2</td>\n",
       "<td>two</td>\n",
       "<td>0</td>\n",
       "<td>1970-01-02</td>\n",
       "</tr>\n",
       "<tr>\n",
       "<td>2</td>\n",
       "<td>3</td>\n",
       "<td>one</td>\n",
       "<td>0</td>\n",
       "<td>1970-01-03</td>\n",
       "</tr>\n",
       "<tr>\n",
       "<td>3</td>\n",
       "<td>4</td>\n",
       "<td>two</td>\n",
       "<td>1</td>\n",
       "<td>1970-01-04</td>\n",
       "</tr>\n",
       "<tr>\n",
       "<td>4</td>\n",
       "<td>5</td>\n",
       "<td>one</td>\n",
       "<td>1</td>\n",
       "<td>1970-01-05</td>\n",
       "</tr>\n",
       "<tr>\n",
       "<td>5</td>\n",
       "<td>6</td>\n",
       "<td>two</td>\n",
       "<td>1</td>\n",
       "<td>1970-01-06</td>\n",
       "</tr>\n",
       "</tbody>\n",
       "</table>"
      ],
      "text/plain": [
       "Tafra(\n",
       "data = {\n",
       " 'd': array(['1970-01-01', '1970-01-02', '1970-01-03', '1970-01-04',\n",
       "       '1970-01-05', '1970-01-06'], dtype='datetime64[D]'),\n",
       " 'x': array([1, 2, 3, 4, 5, 6]),\n",
       " 'y': array(['one', 'two', 'one', 'two', 'one', 'two'], dtype=object),\n",
       " 'z': array([0, 0, 0, 1, 1, 1])},\n",
       "dtypes = {\n",
       " 'd': 'date', 'x': 'int', 'y': 'object', 'z': 'int'}\n",
       ")"
      ]
     },
     "execution_count": 50,
     "metadata": {},
     "output_type": "execute_result"
    }
   ],
   "source": [
    "t4 = Tafra({\n",
    "    'x': np.array([1, 2, 3, 4, 5, 6]),\n",
    "    'y': np.array(['one', 'two', 'one', 'two', 'one', 'two'], dtype='object'),\n",
    "    'z': np.array([0, 0, 0, 1, 1, 1])\n",
    "})\n",
    "\n",
    "t4['d'] = np.array([np.datetime64(_, 'D') for _ in range(6)])\n",
    "\n",
    "t4"
   ]
  },
  {
   "cell_type": "code",
   "execution_count": 51,
   "metadata": {
    "ExecuteTime": {
     "end_time": "2020-05-31T22:14:08.665350Z",
     "start_time": "2020-05-31T22:14:08.659363Z"
    }
   },
   "outputs": [
    {
     "data": {
      "text/plain": [
       "((1, 'one', 0, '1970-01-01'),\n",
       " (2, 'two', 0, '1970-01-02'),\n",
       " (3, 'one', 0, '1970-01-03'),\n",
       " (4, 'two', 1, '1970-01-04'),\n",
       " (5, 'one', 1, '1970-01-05'),\n",
       " (6, 'two', 1, '1970-01-06'))"
      ]
     },
     "execution_count": 51,
     "metadata": {},
     "output_type": "execute_result"
    }
   ],
   "source": [
    "tuple(t4.to_records())"
   ]
  },
  {
   "cell_type": "code",
   "execution_count": 52,
   "metadata": {
    "ExecuteTime": {
     "end_time": "2020-05-31T22:14:08.671332Z",
     "start_time": "2020-05-31T22:14:08.666348Z"
    }
   },
   "outputs": [
    {
     "data": {
      "text/plain": [
       "[array([1, 2, 3, 4, 5, 6]),\n",
       " array(['one', 'two', 'one', 'two', 'one', 'two'], dtype=object),\n",
       " array([0, 0, 0, 1, 1, 1]),\n",
       " array(['1970-01-01', '1970-01-02', '1970-01-03', '1970-01-04',\n",
       "        '1970-01-05', '1970-01-06'], dtype='datetime64[D]')]"
      ]
     },
     "execution_count": 52,
     "metadata": {},
     "output_type": "execute_result"
    }
   ],
   "source": [
    "t4.to_list()"
   ]
  },
  {
   "cell_type": "code",
   "execution_count": 53,
   "metadata": {
    "ExecuteTime": {
     "end_time": "2020-05-31T22:14:08.678313Z",
     "start_time": "2020-05-31T22:14:08.672329Z"
    }
   },
   "outputs": [
    {
     "data": {
      "text/html": [
       "<table>\n",
       "<thead>\n",
       "<tr>\n",
       "<th></th>\n",
       "<th>x</th>\n",
       "</tr>\n",
       "</thead>\n",
       "<tbody>\n",
       "<tr>\n",
       "<td>dtype</td>\n",
       "<td>object</td>\n",
       "</tr>\n",
       "<tr>\n",
       "<td>0</td>\n",
       "<td>1</td>\n",
       "</tr>\n",
       "<tr>\n",
       "<td>1</td>\n",
       "<td>2</td>\n",
       "</tr>\n",
       "<tr>\n",
       "<td>2</td>\n",
       "<td>None</td>\n",
       "</tr>\n",
       "<tr>\n",
       "<td>3</td>\n",
       "<td>4</td>\n",
       "</tr>\n",
       "<tr>\n",
       "<td>4</td>\n",
       "<td>None</td>\n",
       "</tr>\n",
       "</tbody>\n",
       "</table>"
      ],
      "text/plain": [
       "Tafra(\n",
       "data = {\n",
       " 'x': array([1, 2, None, 4, None], dtype=object)},\n",
       "dtypes = {\n",
       " 'x': 'object'}\n",
       ")"
      ]
     },
     "execution_count": 53,
     "metadata": {},
     "output_type": "execute_result"
    }
   ],
   "source": [
    "t5 = Tafra({'x': np.array([1, 2, None, 4, None])})\n",
    "t5"
   ]
  },
  {
   "cell_type": "code",
   "execution_count": 54,
   "metadata": {
    "ExecuteTime": {
     "end_time": "2020-05-31T22:14:08.685295Z",
     "start_time": "2020-05-31T22:14:08.680308Z"
    }
   },
   "outputs": [
    {
     "data": {
      "text/html": [
       "<table>\n",
       "<thead>\n",
       "<tr>\n",
       "<th></th>\n",
       "<th>x</th>\n",
       "</tr>\n",
       "</thead>\n",
       "<tbody>\n",
       "<tr>\n",
       "<td>dtype</td>\n",
       "<td>object</td>\n",
       "</tr>\n",
       "<tr>\n",
       "<td>0</td>\n",
       "<td>1</td>\n",
       "</tr>\n",
       "<tr>\n",
       "<td>1</td>\n",
       "<td>2</td>\n",
       "</tr>\n",
       "<tr>\n",
       "<td>2</td>\n",
       "<td>1</td>\n",
       "</tr>\n",
       "<tr>\n",
       "<td>3</td>\n",
       "<td>4</td>\n",
       "</tr>\n",
       "<tr>\n",
       "<td>4</td>\n",
       "<td>1</td>\n",
       "</tr>\n",
       "</tbody>\n",
       "</table>"
      ],
      "text/plain": [
       "Tafra(\n",
       "data = {\n",
       " 'x': array([1, 2, 1, 4, 1], dtype=object)},\n",
       "dtypes = {\n",
       " 'x': 'object'}\n",
       ")"
      ]
     },
     "execution_count": 54,
     "metadata": {},
     "output_type": "execute_result"
    }
   ],
   "source": [
    "t5['x'] = t5.coalesce('x', [[1, 2, 3, None, 5], [None, None, None, None, 'five']])\n",
    "t5"
   ]
  }
 ],
 "metadata": {
  "kernelspec": {
   "display_name": "Python 3",
   "language": "python",
   "name": "python3"
  },
  "language_info": {
   "codemirror_mode": {
    "name": "ipython",
    "version": 3
   },
   "file_extension": ".py",
   "mimetype": "text/x-python",
   "name": "python",
   "nbconvert_exporter": "python",
   "pygments_lexer": "ipython3",
   "version": "3.7.6"
  },
  "varInspector": {
   "cols": {
    "lenName": 16,
    "lenType": 16,
    "lenVar": 40
   },
   "kernels_config": {
    "python": {
     "delete_cmd_postfix": "",
     "delete_cmd_prefix": "del ",
     "library": "var_list.py",
     "varRefreshCmd": "print(var_dic_list())"
    },
    "r": {
     "delete_cmd_postfix": ") ",
     "delete_cmd_prefix": "rm(",
     "library": "var_list.r",
     "varRefreshCmd": "cat(var_dic_list()) "
    }
   },
   "types_to_exclude": [
    "module",
    "function",
    "builtin_function_or_method",
    "instance",
    "_Feature"
   ],
   "window_display": false
  }
 },
 "nbformat": 4,
 "nbformat_minor": 4
}
