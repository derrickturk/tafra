{
 "cells": [
  {
   "cell_type": "code",
   "execution_count": 1,
   "metadata": {
    "ExecuteTime": {
     "end_time": "2020-05-15T00:11:10.095311Z",
     "start_time": "2020-05-15T00:11:09.896343Z"
    }
   },
   "outputs": [],
   "source": [
    "%load_ext autoreload\n",
    "\n",
    "import numpy as np\n",
    "%aimport tafra\n",
    "from tafra import Tafra\n",
    "\n",
    "%autoreload 2"
   ]
  },
  {
   "cell_type": "code",
   "execution_count": 2,
   "metadata": {
    "ExecuteTime": {
     "end_time": "2020-05-15T00:11:10.146189Z",
     "start_time": "2020-05-15T00:11:10.096273Z"
    },
    "scrolled": false
   },
   "outputs": [
    {
     "name": "stdout",
     "output_type": "stream",
     "text": [
      "List:\n",
      " [array([1, 2, 3, 4, 5, 6]), array(['one', 'two', 'one', 'two', 'one', 'two'], dtype=object), array([0, 0, 0, 1, 1, 1])]\n",
      "Record:\n",
      " ((1, 'one', 0), (2, 'two', 0), (3, 'one', 0), (4, 'two', 1), (5, 'one', 1), (6, 'two', 1))\n",
      "\n",
      "Group By:\n",
      " Tafra(data={'y': array(['one', 'two', 'two', 'one'], dtype=object), 'z': array([0, 0, 1, 1]), 'x': array([ 4,  2, 10,  5]), 'count': array([2, 1, 2, 1])}, dtypes={'y': 'object', 'z': 'int', 'x': 'int', 'count': 'int'}, rows=4)\n",
      "\n",
      "Transform:\n",
      " Tafra(data={'y': array(['one', 'two', 'one', 'two', 'one', 'two'], dtype=object), 'z': array([0, 0, 0, 1, 1, 1]), 'x': array([ 4,  2,  4, 10,  5, 10]), 'id': array([0, 1, 0, 2, 3, 2])}, dtypes={'y': 'object', 'z': 'int', 'x': 'int', 'id': 'int'}, rows=6)\n",
      "\n",
      "Transformed without magic:\n",
      " Tafra(data={'x': array([ 4,  2,  4, 10,  5, 10]), 'y': array(['one', 'two', 'one', 'two', 'one', 'two'], dtype=object), 'z': array([0, 0, 0, 1, 1, 1])}, dtypes={'x': 'int', 'y': 'object', 'z': 'int'}, rows=6)\n",
      "\n",
      "Iterate By:\t\n",
      "Tafra(data={'x': array([1, 3, 5]), 'y': array(['one', 'one', 'one'], dtype=object), 'z': array([0, 0, 1])}, dtypes={'x': 'int', 'y': 'object', 'z': 'int'}, rows=3)\n",
      "Tafra(data={'x': array([2, 4, 6]), 'y': array(['two', 'two', 'two'], dtype=object), 'z': array([0, 1, 1])}, dtypes={'x': 'int', 'y': 'object', 'z': 'int'}, rows=3)\n",
      "\n",
      "Group By in Iterate By:\t\n",
      "Tafra(data={'z': array([0, 1]), 'x': array([4, 5])}, dtypes={'z': 'int', 'x': 'int'}, rows=2)\n",
      "Tafra(data={'z': array([0, 1]), 'x': array([ 2, 10])}, dtypes={'z': 'int', 'x': 'int'}, rows=2)\n"
     ]
    }
   ],
   "source": [
    "t = Tafra({\n",
    "    'x': np.array([1, 2, 3, 4, 5, 6]),\n",
    "    'y': np.array(['one', 'two', 'one', 'two', 'one', 'two'], dtype='object'),\n",
    "    'z': np.array([0, 0, 0, 1, 1, 1])\n",
    "})\n",
    "print('List:\\n', t.to_list())\n",
    "print('Record:\\n', tuple(t.to_records()))\n",
    "\n",
    "\n",
    "gb = t.group_by(\n",
    "    ['y', 'z'], {'x': sum}, {'count': len}\n",
    ")\n",
    "print('\\nGroup By:\\n', gb)\n",
    "\n",
    "\n",
    "tr = t.transform(\n",
    "    ['y', 'z'], {'x': sum}, {'id': max}\n",
    ")\n",
    "print('\\nTransform:\\n', tr)\n",
    "\n",
    "\n",
    "# tr = t.transform(\n",
    "#     ['y', 'z'], {'x': sum, 'id': (max, '__id__')}\n",
    "# )\n",
    "# print('\\nTransform with \"magic\" enumerator:\\n', tr)\n",
    "\n",
    "# can't do ^ that without magic __id__, but can do it as:\n",
    "t2 = t.copy()\n",
    "t2.id = np.empty_like(t2.x)\n",
    "for i, (u, ix, grouped) in enumerate(t.iterate_by(['y', 'z'])):\n",
    "    t2.x[ix] = sum(grouped.x)\n",
    "    t2.id[ix] = i\n",
    "print('\\nTransformed without magic:\\n', t2)\n",
    "\n",
    "    \n",
    "print('\\nIterate By:\\t')\n",
    "for u, ix, grouped in t.iterate_by(['y']):\n",
    "    print(grouped)\n",
    "\n",
    "\n",
    "print('\\nGroup By in Iterate By:\\t')\n",
    "for u, ix, grouped in t.iterate_by(['y']):\n",
    "    print(grouped.group_by(['z'], {'x': sum}))"
   ]
  },
  {
   "cell_type": "code",
   "execution_count": 3,
   "metadata": {
    "ExecuteTime": {
     "end_time": "2020-05-15T00:11:10.187212Z",
     "start_time": "2020-05-15T00:11:10.147176Z"
    }
   },
   "outputs": [],
   "source": [
    "from IPython.core.display import HTML"
   ]
  },
  {
   "cell_type": "code",
   "execution_count": 4,
   "metadata": {
    "ExecuteTime": {
     "end_time": "2020-05-15T00:11:10.235472Z",
     "start_time": "2020-05-15T00:11:10.188180Z"
    }
   },
   "outputs": [
    {
     "data": {
      "text/html": [
       "<table>\n",
       "<thead>\n",
       "<tr>\n",
       "<th></th>\n",
       "<th>x</th>\n",
       "<th>y</th>\n",
       "<th>z</th>\n",
       "</tr>\n",
       "</thead>\n",
       "<tbody>\n",
       "<tr>\n",
       "<td></td>\n",
       "<td>int</td>\n",
       "<td>object</td>\n",
       "<td>int</td>\n",
       "</tr>\n",
       "<tr>\n",
       "<td>0</td>\n",
       "<td>1</td>\n",
       "<td>one</td>\n",
       "<td>0</td>\n",
       "</tr>\n",
       "<tr>\n",
       "<td>1</td>\n",
       "<td>2</td>\n",
       "<td>two</td>\n",
       "<td>0</td>\n",
       "</tr>\n",
       "<tr>\n",
       "<td>2</td>\n",
       "<td>3</td>\n",
       "<td>one</td>\n",
       "<td>0</td>\n",
       "</tr>\n",
       "<tr>\n",
       "<td>3</td>\n",
       "<td>4</td>\n",
       "<td>two</td>\n",
       "<td>1</td>\n",
       "</tr>\n",
       "<tr>\n",
       "<td>4</td>\n",
       "<td>5</td>\n",
       "<td>one</td>\n",
       "<td>1</td>\n",
       "</tr>\n",
       "<tr>\n",
       "<td>5</td>\n",
       "<td>6</td>\n",
       "<td>two</td>\n",
       "<td>1</td>\n",
       "</tr>\n",
       "</tbody>\n",
       "</table>"
      ],
      "text/plain": [
       "<IPython.core.display.HTML object>"
      ]
     },
     "execution_count": 4,
     "metadata": {},
     "output_type": "execute_result"
    }
   ],
   "source": [
    "t = Tafra({\n",
    "    'x': np.array([1, 2, 3, 4, 5, 6]),\n",
    "    'y': np.array(['one', 'two', 'one', 'two', 'one', 'two'], dtype='object'),\n",
    "    'z': np.array([0, 0, 0, 1, 1, 1])\n",
    "})\n",
    "\n",
    "HTML(t.to_html())"
   ]
  },
  {
   "cell_type": "code",
   "execution_count": 5,
   "metadata": {
    "ExecuteTime": {
     "end_time": "2020-05-15T00:11:10.283393Z",
     "start_time": "2020-05-15T00:11:10.237466Z"
    }
   },
   "outputs": [
    {
     "name": "stdout",
     "output_type": "stream",
     "text": [
      "\n",
      "Index Use in Iterate By:\n",
      "Tafra(data={'x': array([-2, -2,  0,  0,  2,  2]), 'y': array(['one', 'two', 'one', 'two', 'one', 'two'], dtype=object), 'z': array([0, 0, 0, 1, 1, 1]), 'id': array([0, 1, 0, 1, 0, 1])}, dtypes={'x': 'int', 'y': 'object', 'z': 'int', 'id': 'int'}, rows=6)\n"
     ]
    }
   ],
   "source": [
    "_t = t.copy()\n",
    "_t.update(_t.transform(['y'], {}, {'id': max}))\n",
    "\n",
    "for u, ix, it in t.iterate_by(['y']):\n",
    "    _t['x'][ix] = it['x'] - np.mean(it['x'])\n",
    "\n",
    "print('\\nIndex Use in Iterate By:')\n",
    "print(_t)"
   ]
  },
  {
   "cell_type": "code",
   "execution_count": 6,
   "metadata": {
    "ExecuteTime": {
     "end_time": "2020-05-15T00:11:10.327261Z",
     "start_time": "2020-05-15T00:11:10.284376Z"
    }
   },
   "outputs": [
    {
     "name": "stdout",
     "output_type": "stream",
     "text": [
      "\n",
      "Group By in Iterate By:\t\n",
      "Tafra(data={'x': array([9, 3, 5]), 'y': array(['one', 'one', 'one'], dtype=object), 'z': array([0, 0, 1])}, dtypes={'x': 'int', 'y': 'object', 'z': 'int'}, rows=3)\n",
      "Tafra(data={'x': array([9, 4, 6]), 'y': array(['two', 'two', 'two'], dtype=object), 'z': array([0, 1, 1])}, dtypes={'x': 'int', 'y': 'object', 'z': 'int'}, rows=3)\n",
      "\n",
      "Tafra(data={'x': array([1, 2, 3, 4, 5, 6]), 'y': array(['one', 'two', 'one', 'two', 'one', 'two'], dtype=object), 'z': array([0, 0, 0, 1, 1, 1])}, dtypes={'x': 'int', 'y': 'object', 'z': 'int'}, rows=6)\n"
     ]
    }
   ],
   "source": [
    "print('\\nGroup By in Iterate By:\\t')\n",
    "for u, ix, it in t.iterate_by(['y']):\n",
    "    it['x'][0] = 9\n",
    "    print(it)\n",
    "\n",
    "print()\n",
    "print(t)"
   ]
  },
  {
   "cell_type": "code",
   "execution_count": 7,
   "metadata": {
    "ExecuteTime": {
     "end_time": "2020-05-15T00:11:10.899217Z",
     "start_time": "2020-05-15T00:11:10.329221Z"
    },
    "scrolled": true
   },
   "outputs": [],
   "source": [
    "import pandas as pd\n",
    "\n",
    "l = pd.DataFrame.from_dict({\n",
    "    'x': np.arange(1000),\n",
    "})\n",
    "\n",
    "r = pd.DataFrame.from_dict({\n",
    "    'a': np.tile(np.arange(1000), 1000),\n",
    "})\n",
    "\n",
    "l = l.merge(r, how='left', left_on=['x'], right_on=['a'])\n"
   ]
  },
  {
   "cell_type": "code",
   "execution_count": 8,
   "metadata": {
    "ExecuteTime": {
     "end_time": "2020-05-15T00:11:12.919770Z",
     "start_time": "2020-05-15T00:11:10.901163Z"
    },
    "scrolled": true
   },
   "outputs": [],
   "source": [
    "l = Tafra({\n",
    "    'x': np.arange(1000),\n",
    "})\n",
    "\n",
    "r = Tafra({\n",
    "    'a': np.tile(np.arange(1000), 1000),\n",
    "})\n",
    "\n",
    "l = l.left_join(r, [('x', 'a', '==')], ['x', 'a'])"
   ]
  },
  {
   "cell_type": "code",
   "execution_count": 9,
   "metadata": {
    "ExecuteTime": {
     "end_time": "2020-05-15T00:11:13.286170Z",
     "start_time": "2020-05-15T00:11:12.920768Z"
    },
    "scrolled": false
   },
   "outputs": [
    {
     "name": "stdout",
     "output_type": "stream",
     "text": [
      "Tafra(data={'x': array([ 0,  0,  0, ..., 99, 99, 99]), 'a': array([0, 1, 2, ..., 7, 8, 9])}, dtypes={'x': 'int', 'a': 'int'}, rows=1000000)\n"
     ]
    }
   ],
   "source": [
    "l = Tafra({\n",
    "    'x': np.arange(100),\n",
    "})\n",
    "\n",
    "r = Tafra({\n",
    "    'a': np.tile(np.arange(10), 1000),\n",
    "})\n",
    "\n",
    "l = l.cross_join(r, ['x', 'a'])\n",
    "print(l)"
   ]
  },
  {
   "cell_type": "code",
   "execution_count": 10,
   "metadata": {
    "ExecuteTime": {
     "end_time": "2020-05-15T00:11:13.341986Z",
     "start_time": "2020-05-15T00:11:13.287133Z"
    }
   },
   "outputs": [
    {
     "name": "stdout",
     "output_type": "stream",
     "text": [
      "Tafra(data={'x': array([1, 2, 3, 4, 5, 6]), 'y': array(['one', 'two', 'one', 'two', 'one', 'two'], dtype=object), 'a': array([1, 2, 3, 4, 5, 6]), 'b': array(['one', 'two', 'one', 'two', 'one', 'two'], dtype=object)}, dtypes={'x': 'int', 'y': 'object', 'a': 'int', 'b': 'object'}, rows=6)\n"
     ]
    }
   ],
   "source": [
    "l = Tafra({\n",
    "    'x': np.array([1, 2, 3, 4, 5, 6]),\n",
    "    'y': np.array(['one', 'two', 'one', 'two', 'one', 'two'], dtype='object'),\n",
    "    'z': np.array([0, 0, 0, 1, 1, 1])\n",
    "})\n",
    "\n",
    "r = Tafra({\n",
    "    'a': np.array([1, 2, 3, 4, 5, 6]),\n",
    "    'b': np.array(['one', 'two', 'one', 'two', 'one', 'two'], dtype='object'),\n",
    "    'c': np.array([0, 0, 0, 1, 1, 1])\n",
    "})\n",
    "\n",
    "l = l.left_join(r, [('x', 'a', '==')], ['x', 'y', 'a', 'b'])\n",
    "print(l)"
   ]
  },
  {
   "cell_type": "code",
   "execution_count": 11,
   "metadata": {
    "ExecuteTime": {
     "end_time": "2020-05-15T00:11:13.398298Z",
     "start_time": "2020-05-15T00:11:13.343009Z"
    }
   },
   "outputs": [
    {
     "name": "stdout",
     "output_type": "stream",
     "text": [
      "Tafra(data={'x': array([1, 1, 1, 2, 2, 2, 3, 4, 5, 6]), 'y': array(['one', 'one', 'one', 'two', 'two', 'two', 'one', 'two', 'one',\n",
      "       'two'], dtype=object), 'a': array([1, 1, 1, 2, 2, 2, None, None, None, None], dtype=object), 'b': array(['one', 'two', 'one', 'two', 'one', 'two', None, None, None, None],\n",
      "      dtype=object)}, dtypes={'x': 'int', 'y': 'object', 'a': 'object', 'b': 'object'}, rows=10)\n"
     ]
    }
   ],
   "source": [
    "l = Tafra({\n",
    "    'x': np.array([1, 2, 3, 4, 5, 6]),\n",
    "    'y': np.array(['one', 'two', 'one', 'two', 'one', 'two'], dtype='object'),\n",
    "    'z': np.array([0, 0, 0, 1, 1, 1])\n",
    "})\n",
    "\n",
    "r = Tafra({\n",
    "    'a': np.array([1, 1, 1, 2, 2, 2]),\n",
    "    'b': np.array(['one', 'two', 'one', 'two', 'one', 'two'], dtype='object'),\n",
    "    'c': np.array([0, 0, 0, 1, 1, 1])\n",
    "})\n",
    "\n",
    "l = l.left_join(r, [('x', 'a', '==')], ['x', 'y', 'a', 'b'])\n",
    "print(l)"
   ]
  },
  {
   "cell_type": "code",
   "execution_count": 12,
   "metadata": {
    "ExecuteTime": {
     "end_time": "2020-05-15T00:11:13.458135Z",
     "start_time": "2020-05-15T00:11:13.400279Z"
    }
   },
   "outputs": [
    {
     "name": "stdout",
     "output_type": "stream",
     "text": [
      "Tafra(data={'x': array([1, 1, 2, 3, 4, 5, 6]), 'y': array(['one', 'one', 'two', 'one', 'two', 'one', 'two'], dtype=object), 'a': array([1, 1, 2, None, None, None, None], dtype=object), 'b': array(['one', 'two', 'two', None, None, None, None], dtype=object)}, dtypes={'x': 'int', 'y': 'object', 'a': 'object', 'b': 'object'}, rows=7)\n"
     ]
    }
   ],
   "source": [
    "l = Tafra({\n",
    "    'x': np.array([1, 2, 3, 4, 5, 6]),\n",
    "    'y': np.array(['one', 'two', 'one', 'two', 'one', 'two'], dtype='object'),\n",
    "    'z': np.array([0, 0, 0, 1, 1, 1])\n",
    "})\n",
    "\n",
    "r = Tafra({\n",
    "    'a': np.array([1, 1, 1, 2, 2, 2]),\n",
    "    '_a': np.array([1, 1, 2, 2, 3, 3]),\n",
    "    'b': np.array(['one', 'two', 'one', 'two', 'one', 'two'], dtype='object'),\n",
    "    'c': np.array([0, 0, 0, 1, 1, 1])\n",
    "})\n",
    "\n",
    "l = l.left_join(r, [('x', 'a', '=='), ('x', '_a', '==')], ['x', 'y', 'a', 'b'])\n",
    "print(l)"
   ]
  },
  {
   "cell_type": "code",
   "execution_count": 13,
   "metadata": {
    "ExecuteTime": {
     "end_time": "2020-05-15T00:11:13.515027Z",
     "start_time": "2020-05-15T00:11:13.459132Z"
    }
   },
   "outputs": [
    {
     "name": "stdout",
     "output_type": "stream",
     "text": [
      "Tafra(data={'x': array([1, 1, 1, 1, 2, 2, 3, 4, 5, 6]), 'y': array(['one', 'one', 'one', 'one', 'two', 'two', 'one', 'two', 'one',\n",
      "       'two'], dtype=object), 'a': array([2, 2, 3, 3, 3, 3, None, None, None, None], dtype=object), 'b': array(['one', 'two', 'one', 'two', 'one', 'two', None, None, None, None],\n",
      "      dtype=object)}, dtypes={'x': 'int', 'y': 'object', 'a': 'object', 'b': 'object'}, rows=10)\n"
     ]
    }
   ],
   "source": [
    "l = Tafra({\n",
    "    'x': np.array([1, 2, 3, 4, 5, 6]),\n",
    "    'y': np.array(['one', 'two', 'one', 'two', 'one', 'two'], dtype='object'),\n",
    "    'z': np.array([0, 0, 0, 1, 1, 1])\n",
    "})\n",
    "\n",
    "r = Tafra({\n",
    "    'a': np.array([1, 1, 2, 2, 3, 3]),\n",
    "    'b': np.array(['one', 'two', 'one', 'two', 'one', 'two'], dtype='object'),\n",
    "    'c': np.array([0, 0, 0, 1, 1, 1])\n",
    "})\n",
    "\n",
    "l = l.left_join(r, [('x', 'a', '<')], ['x', 'y', 'a', 'b'])\n",
    "print(l)"
   ]
  },
  {
   "cell_type": "code",
   "execution_count": 14,
   "metadata": {
    "ExecuteTime": {
     "end_time": "2020-05-15T00:11:13.572482Z",
     "start_time": "2020-05-15T00:11:13.515985Z"
    }
   },
   "outputs": [
    {
     "name": "stdout",
     "output_type": "stream",
     "text": [
      "Tafra(data={'x': array([1, 1, 1, 2, 2, 2, 3, 4, 5, 6]), 'y': array(['one', 'one', 'one', 'two', 'two', 'two', 'one', 'two', 'one',\n",
      "       'two'], dtype=object), 'a': array([1, 1, 1, 2, 2, 2, None, None, None, None], dtype=object), 'b': array(['one', 'two', 'one', 'two', 'one', 'two', None, None, None, None],\n",
      "      dtype=object)}, dtypes={'x': 'int', 'y': 'object', 'a': 'object', 'b': 'object'}, rows=10)\n"
     ]
    }
   ],
   "source": [
    "l = Tafra({\n",
    "    'x': np.array([1, 2, 3, 4, 5, 6]),\n",
    "    'y': np.array(['one', 'two', 'one', 'two', 'one', 'two'], dtype='object'),\n",
    "    'z': np.array([0, 0, 0, 1, 1, 1])\n",
    "})\n",
    "\n",
    "r = Tafra({\n",
    "    'a': np.array([1, 1, 1, 2, 2, 2]),\n",
    "    'b': np.array(['one', 'two', 'one', 'two', 'one', 'two'], dtype='object'),\n",
    "    'c': np.array([0, 0, 0, 1, 1, 1])\n",
    "})\n",
    "\n",
    "l = l.left_join(r, [('x', 'a', '==')], ['x', 'y', 'a', 'b'])\n",
    "print(l)"
   ]
  },
  {
   "cell_type": "code",
   "execution_count": 15,
   "metadata": {
    "ExecuteTime": {
     "end_time": "2020-05-15T00:11:13.626361Z",
     "start_time": "2020-05-15T00:11:13.573448Z"
    }
   },
   "outputs": [
    {
     "name": "stdout",
     "output_type": "stream",
     "text": [
      "Tafra(data={'x': array([1, 2, 3, 4, 5, 6]), 'y': array(['one', 'two', 'one', 'two', 'one', 'two'], dtype=object), 'a': array([1, 2, 3, 4, 5, 6]), 'b': array(['one', 'two', 'one', 'two', 'one', 'two'], dtype=object)}, dtypes={'x': 'int', 'y': 'object', 'a': 'int', 'b': 'object'}, rows=6)\n"
     ]
    }
   ],
   "source": [
    "l = Tafra({\n",
    "    'x': np.array([1, 2, 3, 4, 5, 6]),\n",
    "    'y': np.array(['one', 'two', 'one', 'two', 'one', 'two'], dtype='object'),\n",
    "    'z': np.array([0, 0, 0, 1, 1, 1])\n",
    "})\n",
    "\n",
    "r = Tafra({\n",
    "    'a': np.array([1, 2, 3, 4, 5, 6]),\n",
    "    'b': np.array(['one', 'two', 'one', 'two', 'one', 'two'], dtype='object'),\n",
    "    'c': np.array([0, 0, 0, 1, 1, 1])\n",
    "})\n",
    "\n",
    "l = l.inner_join(r, [('x', 'a', '==')], ['x', 'y', 'a', 'b'])\n",
    "print(l)"
   ]
  },
  {
   "cell_type": "code",
   "execution_count": 16,
   "metadata": {
    "ExecuteTime": {
     "end_time": "2020-05-15T00:11:13.680196Z",
     "start_time": "2020-05-15T00:11:13.627303Z"
    }
   },
   "outputs": [
    {
     "name": "stdout",
     "output_type": "stream",
     "text": [
      "Tafra(data={'x': array([1, 1, 2, 2, 3, 3]), 'y': array(['one', 'one', 'two', 'two', 'one', 'one'], dtype=object), 'a': array([1, 1, 2, 2, 3, 3]), 'b': array(['one', 'two', 'one', 'two', 'one', 'two'], dtype=object)}, dtypes={'x': 'int', 'y': 'object', 'a': 'int', 'b': 'object'}, rows=6)\n"
     ]
    }
   ],
   "source": [
    "l = Tafra({\n",
    "    'x': np.array([1, 2, 3, 4, 5, 6]),\n",
    "    'y': np.array(['one', 'two', 'one', 'two', 'one', 'two'], dtype='object'),\n",
    "    'z': np.array([0, 0, 0, 1, 1, 1])\n",
    "})\n",
    "\n",
    "r = Tafra({\n",
    "    'a': np.array([1, 1, 2, 2, 3, 3]),\n",
    "    'b': np.array(['one', 'two', 'one', 'two', 'one', 'two'], dtype='object'),\n",
    "    'c': np.array([0, 0, 0, 1, 1, 1])\n",
    "})\n",
    "\n",
    "l = l.inner_join(r, [('x', 'a', '==')], ['x', 'y', 'a', 'b'])\n",
    "print(l)"
   ]
  },
  {
   "cell_type": "code",
   "execution_count": 17,
   "metadata": {
    "ExecuteTime": {
     "end_time": "2020-05-15T00:11:13.735557Z",
     "start_time": "2020-05-15T00:11:13.681159Z"
    }
   },
   "outputs": [
    {
     "name": "stdout",
     "output_type": "stream",
     "text": [
      "Tafra(data={'x': array([1, 1, 1, 2, 2, 2]), 'y': array(['one', 'one', 'one', 'two', 'two', 'two'], dtype=object), 'a': array([1, 1, 1, 2, 2, 2]), 'b': array(['one', 'two', 'one', 'two', 'one', 'two'], dtype=object)}, dtypes={'x': 'int', 'y': 'object', 'a': 'int', 'b': 'object'}, rows=6)\n"
     ]
    }
   ],
   "source": [
    "l = Tafra({\n",
    "    'x': np.array([1, 2, 3, 4, 5, 6]),\n",
    "    'y': np.array(['one', 'two', 'one', 'two', 'one', 'two'], dtype='object'),\n",
    "    'z': np.array([0, 0, 0, 1, 1, 1])\n",
    "})\n",
    "\n",
    "r = Tafra({\n",
    "    'a': np.array([1, 1, 1, 2, 2, 2]),\n",
    "    'b': np.array(['one', 'two', 'one', 'two', 'one', 'two'], dtype='object'),\n",
    "    'c': np.array([0, 0, 0, 1, 1, 1])\n",
    "})\n",
    "\n",
    "l = l.inner_join(r, [('x', 'a', '==')], ['x', 'y', 'a', 'b'])\n",
    "print(l)"
   ]
  },
  {
   "cell_type": "code",
   "execution_count": 18,
   "metadata": {
    "ExecuteTime": {
     "end_time": "2020-05-15T00:11:13.793405Z",
     "start_time": "2020-05-15T00:11:13.736554Z"
    }
   },
   "outputs": [
    {
     "name": "stdout",
     "output_type": "stream",
     "text": [
      "Tafra(data={'x': array([1, 1, 1, 1, 1, 1, 2, 2, 2]), 'y': array(['one', 'one', 'one', 'one', 'one', 'one', 'two', 'two', 'two'],\n",
      "      dtype=object), 'a': array([1, 1, 1, 2, 2, 2, 2, 2, 2]), 'b': array(['one', 'two', 'one', 'two', 'one', 'two', 'two', 'one', 'two'],\n",
      "      dtype=object)}, dtypes={'x': 'int', 'y': 'object', 'a': 'int', 'b': 'object'}, rows=9)\n"
     ]
    }
   ],
   "source": [
    "l = Tafra({\n",
    "    'x': np.array([1, 2, 3, 4, 5, 6]),\n",
    "    'y': np.array(['one', 'two', 'one', 'two', 'one', 'two'], dtype='object'),\n",
    "    'z': np.array([0, 0, 0, 1, 1, 1])\n",
    "})\n",
    "\n",
    "r = Tafra({\n",
    "    'a': np.array([1, 1, 1, 2, 2, 2]),\n",
    "    'b': np.array(['one', 'two', 'one', 'two', 'one', 'two'], dtype='object'),\n",
    "    'c': np.array([0, 0, 0, 1, 1, 1])\n",
    "})\n",
    "\n",
    "l = l.inner_join(r, [('x', 'a', '<=')], ['x', 'y', 'a', 'b'])\n",
    "print(l)"
   ]
  },
  {
   "cell_type": "code",
   "execution_count": 19,
   "metadata": {
    "ExecuteTime": {
     "end_time": "2020-05-15T00:11:13.852210Z",
     "start_time": "2020-05-15T00:11:13.794364Z"
    }
   },
   "outputs": [
    {
     "name": "stdout",
     "output_type": "stream",
     "text": [
      "This `Tafra` column count does not match other `Tafra` column count.\n"
     ]
    }
   ],
   "source": [
    "try:\n",
    "    t.union(_t)\n",
    "except Exception as e:\n",
    "    print(e)"
   ]
  },
  {
   "cell_type": "code",
   "execution_count": 20,
   "metadata": {
    "ExecuteTime": {
     "end_time": "2020-05-15T00:11:13.915670Z",
     "start_time": "2020-05-15T00:11:13.854204Z"
    }
   },
   "outputs": [],
   "source": [
    "t2 = t.copy()\n",
    "t3 = t.copy()\n",
    "t3.update_dtypes({'x': float})"
   ]
  },
  {
   "cell_type": "code",
   "execution_count": 21,
   "metadata": {
    "ExecuteTime": {
     "end_time": "2020-05-15T00:11:13.972519Z",
     "start_time": "2020-05-15T00:11:13.917665Z"
    }
   },
   "outputs": [
    {
     "data": {
      "text/plain": [
       "Tafra(data={'x': array([1, 2, 3, 4, 5, 6, 1, 2, 3, 4, 5, 6]), 'y': array(['one', 'two', 'one', 'two', 'one', 'two', 'one', 'two', 'one',\n",
       "       'two', 'one', 'two'], dtype=object), 'z': array([0, 0, 0, 1, 1, 1, 0, 0, 0, 1, 1, 1])}, dtypes={'x': 'int', 'y': 'object', 'z': 'int'}, rows=12)"
      ]
     },
     "execution_count": 21,
     "metadata": {},
     "output_type": "execute_result"
    }
   ],
   "source": [
    "t.union(t2)"
   ]
  },
  {
   "cell_type": "code",
   "execution_count": 22,
   "metadata": {
    "ExecuteTime": {
     "end_time": "2020-05-15T00:11:14.029366Z",
     "start_time": "2020-05-15T00:11:13.975544Z"
    }
   },
   "outputs": [
    {
     "name": "stdout",
     "output_type": "stream",
     "text": [
      "This `Tafra` column `x` dtype `int32` does not match other `Tafra` dtype `float64`.\n"
     ]
    }
   ],
   "source": [
    "try:\n",
    "    t.union(t3)\n",
    "except Exception as e:\n",
    "    print(e)"
   ]
  },
  {
   "cell_type": "code",
   "execution_count": 23,
   "metadata": {
    "ExecuteTime": {
     "end_time": "2020-05-15T00:11:14.089207Z",
     "start_time": "2020-05-15T00:11:14.031361Z"
    }
   },
   "outputs": [
    {
     "data": {
      "text/plain": [
       "Tafra(data={'x': array([1, 2, 3, 4, 5, 6, 1, 2, 3, 4, 5, 6]), 'y': array(['one', 'two', 'one', 'two', 'one', 'two', 'one', 'two', 'one',\n",
       "       'two', 'one', 'two'], dtype=object), 'z': array([0, 0, 0, 1, 1, 1, 0, 0, 0, 1, 1, 1])}, dtypes={'x': 'int', 'y': 'object', 'z': 'int'}, rows=6)"
      ]
     },
     "execution_count": 23,
     "metadata": {},
     "output_type": "execute_result"
    }
   ],
   "source": [
    "t3 = t.copy()\n",
    "t2.union(t3, inplace=True)\n",
    "t2"
   ]
  },
  {
   "cell_type": "code",
   "execution_count": 24,
   "metadata": {
    "ExecuteTime": {
     "end_time": "2020-05-15T00:11:14.148809Z",
     "start_time": "2020-05-15T00:11:14.091202Z"
    }
   },
   "outputs": [
    {
     "data": {
      "text/plain": [
       "array([0, 2, 3, 4, 5, 6])"
      ]
     },
     "execution_count": 24,
     "metadata": {},
     "output_type": "execute_result"
    }
   ],
   "source": [
    "x = t[:3]\n",
    "x['x'][0] = 0\n",
    "t['x']"
   ]
  },
  {
   "cell_type": "code",
   "execution_count": 25,
   "metadata": {
    "ExecuteTime": {
     "end_time": "2020-05-15T00:11:14.207753Z",
     "start_time": "2020-05-15T00:11:14.149778Z"
    }
   },
   "outputs": [
    {
     "data": {
      "text/plain": [
       "array([7, 2, 3, 4, 5, 6])"
      ]
     },
     "execution_count": 25,
     "metadata": {},
     "output_type": "execute_result"
    }
   ],
   "source": [
    "x = t[slice(0, 3)]\n",
    "x['x'][0] = 7\n",
    "t['x']"
   ]
  },
  {
   "cell_type": "code",
   "execution_count": 26,
   "metadata": {
    "ExecuteTime": {
     "end_time": "2020-05-15T00:11:14.268621Z",
     "start_time": "2020-05-15T00:11:14.208766Z"
    }
   },
   "outputs": [
    {
     "data": {
      "text/plain": [
       "array([7, 2, 3, 4, 5, 6])"
      ]
     },
     "execution_count": 26,
     "metadata": {},
     "output_type": "execute_result"
    }
   ],
   "source": [
    "z = t[:3].copy()\n",
    "z['x'][0] = 9\n",
    "t['x']"
   ]
  },
  {
   "cell_type": "code",
   "execution_count": 27,
   "metadata": {
    "ExecuteTime": {
     "end_time": "2020-05-15T00:11:14.327696Z",
     "start_time": "2020-05-15T00:11:14.270591Z"
    }
   },
   "outputs": [
    {
     "name": "stdout",
     "output_type": "stream",
     "text": [
      "[ 2 15  4]\n",
      "[7 2 3 4 5 6]\n"
     ]
    }
   ],
   "source": [
    "a = t[t['x'] <= 4]\n",
    "a['x'][1] = 15\n",
    "print(a['x'])\n",
    "print(t['x'])"
   ]
  },
  {
   "cell_type": "code",
   "execution_count": 28,
   "metadata": {
    "ExecuteTime": {
     "end_time": "2020-05-15T00:11:14.388560Z",
     "start_time": "2020-05-15T00:11:14.328721Z"
    }
   },
   "outputs": [],
   "source": [
    "t.update_dtypes({'x': float})"
   ]
  },
  {
   "cell_type": "code",
   "execution_count": 29,
   "metadata": {
    "ExecuteTime": {
     "end_time": "2020-05-15T00:11:14.444826Z",
     "start_time": "2020-05-15T00:11:14.390529Z"
    }
   },
   "outputs": [],
   "source": [
    "t.update_dtypes({'x': 'float'})"
   ]
  },
  {
   "cell_type": "code",
   "execution_count": 30,
   "metadata": {
    "ExecuteTime": {
     "end_time": "2020-05-15T00:11:14.499771Z",
     "start_time": "2020-05-15T00:11:14.445640Z"
    }
   },
   "outputs": [
    {
     "name": "stdout",
     "output_type": "stream",
     "text": [
      "`flot` is not a valid dtype for `x.`\n",
      "`st` is not a valid dtype for `y.`\n",
      "\n"
     ]
    }
   ],
   "source": [
    "try:\n",
    "    t.update_dtypes({'x': 'flot', 'y': 'st'})\n",
    "except Exception as e:\n",
    "    print(e)"
   ]
  },
  {
   "cell_type": "code",
   "execution_count": 31,
   "metadata": {
    "ExecuteTime": {
     "end_time": "2020-05-15T00:11:14.561646Z",
     "start_time": "2020-05-15T00:11:14.502765Z"
    }
   },
   "outputs": [
    {
     "data": {
      "text/plain": [
       "Tafra(data={'x': array([7, 2, 3, 4, 5, 6]), 'y': array(['one', 'two', 'one', 'two', 'one', 'two'], dtype=object), 'z': array([0, 0, 0, 1, 1, 1])}, dtypes={'x': 'int', 'y': 'object', 'z': 'int'}, rows=6)"
      ]
     },
     "execution_count": 31,
     "metadata": {},
     "output_type": "execute_result"
    }
   ],
   "source": [
    "t.update_dtypes({'x': int})\n",
    "o = t.copy()\n",
    "t.update(o)\n",
    "t"
   ]
  },
  {
   "cell_type": "code",
   "execution_count": 32,
   "metadata": {
    "ExecuteTime": {
     "end_time": "2020-05-15T00:11:14.621750Z",
     "start_time": "2020-05-15T00:11:14.562603Z"
    }
   },
   "outputs": [
    {
     "data": {
      "text/plain": [
       "Tafra(data={'x': array([7., 2., 3., 4., 5., 6.]), 'y': array(['one', 'two', 'one', 'two', 'one', 'two'], dtype=object), 'z': array([0, 0, 0, 1, 1, 1])}, dtypes={'x': 'float', 'y': 'object', 'z': 'int'}, rows=6)"
      ]
     },
     "execution_count": 32,
     "metadata": {},
     "output_type": "execute_result"
    }
   ],
   "source": [
    "o.update_dtypes({'x': float})\n",
    "t.update(o)\n",
    "t"
   ]
  },
  {
   "cell_type": "code",
   "execution_count": 33,
   "metadata": {
    "ExecuteTime": {
     "end_time": "2020-05-15T00:11:14.675611Z",
     "start_time": "2020-05-15T00:11:14.623712Z"
    }
   },
   "outputs": [
    {
     "data": {
      "text/plain": [
       "Tafra(data={'x': array([0, 1, 2, 3, 4]), 'y': array(['one', 'two', 'one', 'two', 'one', 'two'], dtype=object), 'z': array([0, 0, 0, 1, 1, 1])}, dtypes={'x': 'float', 'y': 'object', 'z': 'int'}, rows=6)"
      ]
     },
     "execution_count": 33,
     "metadata": {},
     "output_type": "execute_result"
    }
   ],
   "source": [
    "o._data['x'] = np.arange(5)\n",
    "o"
   ]
  },
  {
   "cell_type": "code",
   "execution_count": 34,
   "metadata": {
    "ExecuteTime": {
     "end_time": "2020-05-15T00:11:14.730494Z",
     "start_time": "2020-05-15T00:11:14.676606Z"
    }
   },
   "outputs": [
    {
     "name": "stdout",
     "output_type": "stream",
     "text": [
      "Other `Tafra` must have consistent row count. This `Tafra` has 6 rows, other `Tafra` has 5 rows.\n"
     ]
    },
    {
     "data": {
      "text/plain": [
       "Tafra(data={'x': array([7., 2., 3., 4., 5., 6.]), 'y': array(['one', 'two', 'one', 'two', 'one', 'two'], dtype=object), 'z': array([0, 0, 0, 1, 1, 1])}, dtypes={'x': 'float', 'y': 'object', 'z': 'int'}, rows=6)"
      ]
     },
     "execution_count": 34,
     "metadata": {},
     "output_type": "execute_result"
    }
   ],
   "source": [
    "try:\n",
    "    t.update(o)\n",
    "except Exception as e:\n",
    "    print(e)\n",
    "t"
   ]
  },
  {
   "cell_type": "code",
   "execution_count": 35,
   "metadata": {
    "ExecuteTime": {
     "end_time": "2020-05-15T00:11:14.787309Z",
     "start_time": "2020-05-15T00:11:14.731458Z"
    }
   },
   "outputs": [
    {
     "data": {
      "text/plain": [
       "Tafra(data={'x': array([0, 1, 2, 3, 4, 5]), 'y': array(['one', 'two', 'one', 'two', 'one', 'two'], dtype=object), 'z': array([0, 0, 0, 1, 1, 1])}, dtypes={'x': 'int', 'y': 'object', 'z': 'int'}, rows=6)"
      ]
     },
     "execution_count": 35,
     "metadata": {},
     "output_type": "execute_result"
    }
   ],
   "source": [
    "try:\n",
    "    t['x'] = list(range(6))\n",
    "except Exception as e:\n",
    "    print(e)\n",
    "t"
   ]
  },
  {
   "cell_type": "code",
   "execution_count": 36,
   "metadata": {
    "ExecuteTime": {
     "end_time": "2020-05-15T00:11:14.847184Z",
     "start_time": "2020-05-15T00:11:14.789305Z"
    }
   },
   "outputs": [
    {
     "name": "stderr",
     "output_type": "stream",
     "text": [
      "c:\\users\\dfulford\\projects\\tafra\\tafra\\tafra.py:172: UserWarning: `np.squeeze(ndarray)` applied to set ndim == 1.\n",
      "  warnings.warn('`np.squeeze(ndarray)` applied to set ndim == 1.')\n"
     ]
    }
   ],
   "source": [
    "t['x'] = np.arange(6)[:, None]"
   ]
  },
  {
   "cell_type": "code",
   "execution_count": 37,
   "metadata": {
    "ExecuteTime": {
     "end_time": "2020-05-15T00:11:14.904994Z",
     "start_time": "2020-05-15T00:11:14.848147Z"
    }
   },
   "outputs": [
    {
     "name": "stderr",
     "output_type": "stream",
     "text": [
      "c:\\users\\dfulford\\projects\\tafra\\tafra\\tafra.py:172: UserWarning: `np.squeeze(ndarray)` applied to set ndim == 1.\n",
      "  warnings.warn('`np.squeeze(ndarray)` applied to set ndim == 1.')\n"
     ]
    },
    {
     "data": {
      "text/plain": [
       "Tafra(data={'x': array([0, 1, 2, 3, 4, 5]), 'y': array(['one', 'two', 'one', 'two', 'one', 'two'], dtype=object), 'z': array([0, 0, 0, 1, 1, 1])}, dtypes={'x': 'int', 'y': 'object', 'z': 'int'}, rows=6)"
      ]
     },
     "execution_count": 37,
     "metadata": {},
     "output_type": "execute_result"
    }
   ],
   "source": [
    "try:\n",
    "    t['x'] = np.atleast_2d(np.arange(6))\n",
    "except Exception as e:\n",
    "    print(e)\n",
    "t"
   ]
  },
  {
   "cell_type": "code",
   "execution_count": 38,
   "metadata": {
    "ExecuteTime": {
     "end_time": "2020-05-15T00:11:14.960536Z",
     "start_time": "2020-05-15T00:11:14.907986Z"
    }
   },
   "outputs": [
    {
     "name": "stderr",
     "output_type": "stream",
     "text": [
      "c:\\users\\dfulford\\projects\\tafra\\tafra\\tafra.py:172: UserWarning: `np.squeeze(ndarray)` applied to set ndim == 1.\n",
      "  warnings.warn('`np.squeeze(ndarray)` applied to set ndim == 1.')\n"
     ]
    },
    {
     "data": {
      "text/plain": [
       "Tafra(data={'x': array([0, 1, 2, 3, 4, 5]), 'y': array(['one', 'two', 'one', 'two', 'one', 'two'], dtype=object), 'z': array([0, 0, 0, 1, 1, 1])}, dtypes={'x': 'int', 'y': 'object', 'z': 'int'}, rows=6)"
      ]
     },
     "execution_count": 38,
     "metadata": {},
     "output_type": "execute_result"
    }
   ],
   "source": [
    "t['x'] = np.atleast_2d(np.arange(6)).T\n",
    "t"
   ]
  },
  {
   "cell_type": "code",
   "execution_count": 39,
   "metadata": {
    "ExecuteTime": {
     "end_time": "2020-05-15T00:11:15.020911Z",
     "start_time": "2020-05-15T00:11:14.961532Z"
    }
   },
   "outputs": [
    {
     "name": "stderr",
     "output_type": "stream",
     "text": [
      "c:\\users\\dfulford\\projects\\tafra\\tafra\\tafra.py:172: UserWarning: `np.squeeze(ndarray)` applied to set ndim == 1.\n",
      "  warnings.warn('`np.squeeze(ndarray)` applied to set ndim == 1.')\n"
     ]
    }
   ],
   "source": [
    "try:\n",
    "    t['x'] = np.atleast_2d(np.arange(6))\n",
    "except Exception as e:\n",
    "    print(e)"
   ]
  },
  {
   "cell_type": "code",
   "execution_count": 40,
   "metadata": {
    "ExecuteTime": {
     "end_time": "2020-05-15T00:11:15.084741Z",
     "start_time": "2020-05-15T00:11:15.022905Z"
    }
   },
   "outputs": [
    {
     "name": "stdout",
     "output_type": "stream",
     "text": [
      "`ndarray` or `np.squeeze(ndarray)` must have ndim == 1.\n"
     ]
    }
   ],
   "source": [
    "try:\n",
    "    t['x'] = np.repeat(np.arange(6)[:, None], repeats=2, axis=1)\n",
    "except Exception as e:\n",
    "    print(e)"
   ]
  },
  {
   "cell_type": "code",
   "execution_count": 41,
   "metadata": {
    "ExecuteTime": {
     "end_time": "2020-05-15T00:11:15.140638Z",
     "start_time": "2020-05-15T00:11:15.086734Z"
    }
   },
   "outputs": [],
   "source": [
    "t['d'] = np.array([np.datetime64(_, 'D') for _ in range(6)])"
   ]
  },
  {
   "cell_type": "code",
   "execution_count": 42,
   "metadata": {
    "ExecuteTime": {
     "end_time": "2020-05-15T00:11:15.197294Z",
     "start_time": "2020-05-15T00:11:15.142442Z"
    }
   },
   "outputs": [
    {
     "data": {
      "text/plain": [
       "Tafra(data={'x': array([0, 1, 2, 3, 4, 5]), 'y': array(['one', 'two', 'one', 'two', 'one', 'two'], dtype=object), 'z': array([0, 0, 0, 1, 1, 1]), 'd': array(['1970-01-01', '1970-01-02', '1970-01-03', '1970-01-04',\n",
       "       '1970-01-05', '1970-01-06'], dtype='datetime64[D]')}, dtypes={'x': 'int', 'y': 'object', 'z': 'int', 'd': 'date'}, rows=6)"
      ]
     },
     "execution_count": 42,
     "metadata": {},
     "output_type": "execute_result"
    }
   ],
   "source": [
    "t"
   ]
  },
  {
   "cell_type": "code",
   "execution_count": 43,
   "metadata": {
    "ExecuteTime": {
     "end_time": "2020-05-15T00:11:15.252182Z",
     "start_time": "2020-05-15T00:11:15.198293Z"
    }
   },
   "outputs": [
    {
     "data": {
      "text/plain": [
       "((0, 'one', 0, '1970-01-01'),\n",
       " (1, 'two', 0, '1970-01-02'),\n",
       " (2, 'one', 0, '1970-01-03'),\n",
       " (3, 'two', 1, '1970-01-04'),\n",
       " (4, 'one', 1, '1970-01-05'),\n",
       " (5, 'two', 1, '1970-01-06'))"
      ]
     },
     "execution_count": 43,
     "metadata": {},
     "output_type": "execute_result"
    }
   ],
   "source": [
    "tuple(t.to_records())"
   ]
  },
  {
   "cell_type": "code",
   "execution_count": 44,
   "metadata": {
    "ExecuteTime": {
     "end_time": "2020-05-15T00:11:15.304041Z",
     "start_time": "2020-05-15T00:11:15.253146Z"
    }
   },
   "outputs": [
    {
     "data": {
      "text/plain": [
       "[array([0, 1, 2, 3, 4, 5]),\n",
       " array(['one', 'two', 'one', 'two', 'one', 'two'], dtype=object),\n",
       " array([0, 0, 0, 1, 1, 1]),\n",
       " array(['1970-01-01', '1970-01-02', '1970-01-03', '1970-01-04',\n",
       "        '1970-01-05', '1970-01-06'], dtype='datetime64[D]')]"
      ]
     },
     "execution_count": 44,
     "metadata": {},
     "output_type": "execute_result"
    }
   ],
   "source": [
    "t.to_list()"
   ]
  },
  {
   "cell_type": "code",
   "execution_count": 45,
   "metadata": {
    "ExecuteTime": {
     "end_time": "2020-05-15T00:11:15.359586Z",
     "start_time": "2020-05-15T00:11:15.305007Z"
    }
   },
   "outputs": [
    {
     "data": {
      "text/plain": [
       "array([1, 2, 3, 4, 5], dtype=object)"
      ]
     },
     "execution_count": 45,
     "metadata": {},
     "output_type": "execute_result"
    }
   ],
   "source": [
    "t = Tafra({'x': np.array([1, 2, None, 4, None])})\n",
    "t.coalesce('x', [[1, 2, 3, None, 5], [None, None, None, None, 'five']])"
   ]
  }
 ],
 "metadata": {
  "kernelspec": {
   "display_name": "Python 3",
   "language": "python",
   "name": "python3"
  },
  "language_info": {
   "codemirror_mode": {
    "name": "ipython",
    "version": 3
   },
   "file_extension": ".py",
   "mimetype": "text/x-python",
   "name": "python",
   "nbconvert_exporter": "python",
   "pygments_lexer": "ipython3",
   "version": "3.7.6"
  },
  "varInspector": {
   "cols": {
    "lenName": 16,
    "lenType": 16,
    "lenVar": 40
   },
   "kernels_config": {
    "python": {
     "delete_cmd_postfix": "",
     "delete_cmd_prefix": "del ",
     "library": "var_list.py",
     "varRefreshCmd": "print(var_dic_list())"
    },
    "r": {
     "delete_cmd_postfix": ") ",
     "delete_cmd_prefix": "rm(",
     "library": "var_list.r",
     "varRefreshCmd": "cat(var_dic_list()) "
    }
   },
   "types_to_exclude": [
    "module",
    "function",
    "builtin_function_or_method",
    "instance",
    "_Feature"
   ],
   "window_display": false
  }
 },
 "nbformat": 4,
 "nbformat_minor": 4
}
